{
 "cells": [
  {
   "cell_type": "code",
   "execution_count": 2,
   "metadata": {},
   "outputs": [],
   "source": [
    "from flask import Flask, request, jsonify, render_template\n",
    "from ultralytics import YOLO\n",
    "import cv2, os, re,subprocess\n",
    "import numpy as np"
   ]
  },
  {
   "cell_type": "code",
   "execution_count": 3,
   "metadata": {},
   "outputs": [],
   "source": [
    "os.chdir(\"../\")"
   ]
  },
  {
   "cell_type": "code",
   "execution_count": 3,
   "metadata": {},
   "outputs": [],
   "source": [
    "# Define the function to segment cracks\n",
    "def segment_cracks(image_path, output_path):\n",
    "    command = f\"python predict.py --config configs/hrsegnetb32.yml --model_path hrsegnetb32/best_model/model.pdparams --image_path {image_path} --save_dir {output_path}\"\n",
    "    subprocess.run(command, shell=True)"
   ]
  },
  {
   "cell_type": "code",
   "execution_count": 4,
   "metadata": {},
   "outputs": [],
   "source": [
    "filename = \"CRACK500_20160222_080933_361_1281_jpg.rf.cf62a2ea07db09d24fddbbf2765e11cb.jpg\""
   ]
  },
  {
   "cell_type": "code",
   "execution_count": 5,
   "metadata": {},
   "outputs": [],
   "source": [
    "model = YOLO('runs/segment/train2/weights/best.pt')"
   ]
  },
  {
   "cell_type": "code",
   "execution_count": 6,
   "metadata": {},
   "outputs": [
    {
     "name": "stdout",
     "output_type": "stream",
     "text": [
      "\n",
      "image 1/1 d:\\CrackedSegmentationModel\\CRACK500_20160222_080933_361_1281_jpg.rf.cf62a2ea07db09d24fddbbf2765e11cb.jpg: 640x640 1 Cracks, 233.5ms\n",
      "Speed: 8.9ms preprocess, 233.5ms inference, 1542.7ms postprocess per image at shape (1, 3, 640, 640)\n",
      "Results saved to \u001b[1mruns\\segment\\predict15\u001b[0m\n"
     ]
    }
   ],
   "source": [
    "results = model.predict(source=filename,save=True)"
   ]
  },
  {
   "cell_type": "code",
   "execution_count": 7,
   "metadata": {},
   "outputs": [
    {
     "name": "stdout",
     "output_type": "stream",
     "text": [
      "[ultralytics.engine.results.Results object with attributes:\n",
      "\n",
      "boxes: ultralytics.engine.results.Boxes object\n",
      "keypoints: None\n",
      "masks: ultralytics.engine.results.Masks object\n",
      "names: {0: 'Cracks'}\n",
      "obb: None\n",
      "orig_img: array([[[165, 155, 137],\n",
      "        [159, 149, 131],\n",
      "        [152, 142, 124],\n",
      "        ...,\n",
      "        [183, 174, 154],\n",
      "        [182, 173, 153],\n",
      "        [182, 173, 153]],\n",
      "\n",
      "       [[165, 155, 137],\n",
      "        [161, 151, 133],\n",
      "        [157, 147, 129],\n",
      "        ...,\n",
      "        [188, 179, 159],\n",
      "        [184, 175, 155],\n",
      "        [180, 171, 151]],\n",
      "\n",
      "       [[159, 149, 131],\n",
      "        [159, 149, 131],\n",
      "        [158, 148, 130],\n",
      "        ...,\n",
      "        [195, 186, 166],\n",
      "        [187, 178, 158],\n",
      "        [181, 172, 152]],\n",
      "\n",
      "       ...,\n",
      "\n",
      "       [[ 96,  88,  71],\n",
      "        [ 97,  89,  72],\n",
      "        [100,  92,  75],\n",
      "        ...,\n",
      "        [103,  93,  75],\n",
      "        [ 96,  86,  68],\n",
      "        [ 94,  84,  66]],\n",
      "\n",
      "       [[ 90,  82,  65],\n",
      "        [ 96,  88,  71],\n",
      "        [105,  97,  80],\n",
      "        ...,\n",
      "        [112, 100,  82],\n",
      "        [105,  93,  75],\n",
      "        [103,  91,  73]],\n",
      "\n",
      "       [[ 87,  79,  62],\n",
      "        [ 94,  86,  69],\n",
      "        [106,  98,  81],\n",
      "        ...,\n",
      "        [116, 104,  86],\n",
      "        [110,  98,  80],\n",
      "        [109,  97,  79]]], dtype=uint8)\n",
      "orig_shape: (640, 640)\n",
      "path: 'd:\\\\CrackedSegmentationModel\\\\CRACK500_20160222_080933_361_1281_jpg.rf.cf62a2ea07db09d24fddbbf2765e11cb.jpg'\n",
      "probs: None\n",
      "save_dir: 'runs\\\\segment\\\\predict15'\n",
      "speed: {'preprocess': 8.876800537109375, 'inference': 233.51812362670898, 'postprocess': 1542.7169799804688}]\n"
     ]
    }
   ],
   "source": [
    "print(results)"
   ]
  },
  {
   "cell_type": "code",
   "execution_count": 8,
   "metadata": {},
   "outputs": [
    {
     "name": "stdout",
     "output_type": "stream",
     "text": [
      "Image dimensions - Height: 640 Width: 640\n"
     ]
    }
   ],
   "source": [
    "image_path = \"runs/segment/predict15/CRACK500_20160222_080933_361_1281_jpg.rf.cf62a2ea07db09d24fddbbf2765e11cb.jpg\"\n",
    "\n",
    "# Attempt to read the image\n",
    "input_image = cv2.imread(image_path)\n",
    "\n",
    "# Check if the image was read successfully\n",
    "if input_image is None:\n",
    "    print(\"Error: Unable to read the image file.\")\n",
    "else:\n",
    "    # Get the dimensions of the image\n",
    "    height, width, _ = input_image.shape\n",
    "    print(\"Image dimensions - Height:\", height, \"Width:\", width)\n"
   ]
  },
  {
   "cell_type": "code",
   "execution_count": 9,
   "metadata": {},
   "outputs": [],
   "source": [
    "total_segmented_area = 0"
   ]
  },
  {
   "cell_type": "code",
   "execution_count": 10,
   "metadata": {},
   "outputs": [
    {
     "data": {
      "text/plain": [
       "'runs/segment/predict15/inputImage.jpg'"
      ]
     },
     "execution_count": 10,
     "metadata": {},
     "output_type": "execute_result"
    }
   ],
   "source": [
    "parent_directory = \"runs/segment/\"\n",
    "directories = [d for d in os.listdir(parent_directory) if os.path.isdir(os.path.join(parent_directory, d))]\n",
    "pattern = \"predict\"\n",
    "filtered_directories = [d for d in directories if d.startswith(pattern) and d[len(pattern):].isdigit()]\n",
    "latest_directory = max(filtered_directories, key=lambda x: int(re.search(r'\\d+$', x).group()))\n",
    "image_path = os.path.join(parent_directory, latest_directory, \"inputImage.jpg\").replace('\\\\', '/')\n",
    "image_path"
   ]
  },
  {
   "cell_type": "code",
   "execution_count": 12,
   "metadata": {},
   "outputs": [],
   "source": [
    "output_dir= 'output/result/gray_scale'\n",
    "os.makedirs(output_dir, exist_ok=True)\n",
    "output_dir1= 'output/result/after_dilated'\n",
    "os.makedirs(output_dir1, exist_ok=True)\n",
    "#crop_filename = \"wall_image.jpg\"\n",
    "# Segment the cracks in the scaled crop\n",
    "segment_cracks(image_path, 'output/result')"
   ]
  },
  {
   "cell_type": "code",
   "execution_count": 4,
   "metadata": {},
   "outputs": [
    {
     "ename": "FileNotFoundError",
     "evalue": "[Errno 2] No such file or directory: 'output/result/pseudo_color_prediction/wall_image.png'",
     "output_type": "error",
     "traceback": [
      "\u001b[1;31m---------------------------------------------------------------------------\u001b[0m",
      "\u001b[1;31mFileNotFoundError\u001b[0m                         Traceback (most recent call last)",
      "Cell \u001b[1;32mIn[4], line 1\u001b[0m\n\u001b[1;32m----> 1\u001b[0m hsv_image \u001b[38;5;241m=\u001b[39m cv2\u001b[38;5;241m.\u001b[39mcvtColor(\u001b[43mcv2\u001b[49m\u001b[38;5;241;43m.\u001b[39;49m\u001b[43mimread\u001b[49m\u001b[43m(\u001b[49m\u001b[38;5;124;43mf\u001b[39;49m\u001b[38;5;124;43m\"\u001b[39;49m\u001b[38;5;124;43moutput/result/pseudo_color_prediction/wall_image.png\u001b[39;49m\u001b[38;5;124;43m\"\u001b[39;49m\u001b[43m)\u001b[49m, \n\u001b[0;32m      2\u001b[0m                          cv2\u001b[38;5;241m.\u001b[39mCOLOR_BGR2HSV)\n",
      "File \u001b[1;32mc:\\Users\\Asus\\anaconda3\\envs\\CrackSeg\\lib\\site-packages\\ultralytics\\utils\\patches.py:26\u001b[0m, in \u001b[0;36mimread\u001b[1;34m(filename, flags)\u001b[0m\n\u001b[0;32m     15\u001b[0m \u001b[38;5;28;01mdef\u001b[39;00m \u001b[38;5;21mimread\u001b[39m(filename: \u001b[38;5;28mstr\u001b[39m, flags: \u001b[38;5;28mint\u001b[39m \u001b[38;5;241m=\u001b[39m cv2\u001b[38;5;241m.\u001b[39mIMREAD_COLOR):\n\u001b[0;32m     16\u001b[0m \u001b[38;5;250m    \u001b[39m\u001b[38;5;124;03m\"\"\"\u001b[39;00m\n\u001b[0;32m     17\u001b[0m \u001b[38;5;124;03m    Read an image from a file.\u001b[39;00m\n\u001b[0;32m     18\u001b[0m \n\u001b[1;32m   (...)\u001b[0m\n\u001b[0;32m     24\u001b[0m \u001b[38;5;124;03m        (np.ndarray): The read image.\u001b[39;00m\n\u001b[0;32m     25\u001b[0m \u001b[38;5;124;03m    \"\"\"\u001b[39;00m\n\u001b[1;32m---> 26\u001b[0m     \u001b[38;5;28;01mreturn\u001b[39;00m cv2\u001b[38;5;241m.\u001b[39mimdecode(\u001b[43mnp\u001b[49m\u001b[38;5;241;43m.\u001b[39;49m\u001b[43mfromfile\u001b[49m\u001b[43m(\u001b[49m\u001b[43mfilename\u001b[49m\u001b[43m,\u001b[49m\u001b[43m \u001b[49m\u001b[43mnp\u001b[49m\u001b[38;5;241;43m.\u001b[39;49m\u001b[43muint8\u001b[49m\u001b[43m)\u001b[49m, flags)\n",
      "\u001b[1;31mFileNotFoundError\u001b[0m: [Errno 2] No such file or directory: 'output/result/pseudo_color_prediction/wall_image.png'"
     ]
    }
   ],
   "source": [
    "hsv_image = cv2.cvtColor(cv2.imread(f\"output/result/pseudo_color_prediction/wall_image.png\"), \n",
    "                         cv2.COLOR_BGR2HSV)"
   ]
  },
  {
   "cell_type": "code",
   "execution_count": 5,
   "metadata": {},
   "outputs": [],
   "source": [
    "input_image = cv2.imread(r'runs/segment/predict4/inputImage.jpg')"
   ]
  },
  {
   "cell_type": "code",
   "execution_count": 6,
   "metadata": {},
   "outputs": [
    {
     "data": {
      "text/plain": [
       "array([[[107, 106, 116],\n",
       "        [101, 103, 111],\n",
       "        [ 96,  98, 106],\n",
       "        ...,\n",
       "        [ 59,  58, 252],\n",
       "        [ 54,  54, 254],\n",
       "        [ 54,  58, 255]],\n",
       "\n",
       "       [[105, 105, 111],\n",
       "        [101, 101, 107],\n",
       "        [ 95,  98, 102],\n",
       "        ...,\n",
       "        [ 67,  64, 244],\n",
       "        [ 57,  59, 247],\n",
       "        [ 56,  59, 251]],\n",
       "\n",
       "       [[ 98,  98,  98],\n",
       "        [ 92,  94,  94],\n",
       "        [ 88,  90,  90],\n",
       "        ...,\n",
       "        [ 73,  72, 222],\n",
       "        [ 64,  66, 231],\n",
       "        [ 61,  65, 238]],\n",
       "\n",
       "       ...,\n",
       "\n",
       "       [[119, 120, 116],\n",
       "        [122, 123, 119],\n",
       "        [125, 126, 122],\n",
       "        ...,\n",
       "        [128, 124, 123],\n",
       "        [124, 120, 119],\n",
       "        [121, 117, 116]],\n",
       "\n",
       "       [[121, 122, 118],\n",
       "        [123, 124, 120],\n",
       "        [124, 125, 121],\n",
       "        ...,\n",
       "        [128, 124, 123],\n",
       "        [124, 120, 119],\n",
       "        [121, 117, 116]],\n",
       "\n",
       "       [[123, 124, 120],\n",
       "        [124, 125, 121],\n",
       "        [124, 125, 121],\n",
       "        ...,\n",
       "        [127, 123, 122],\n",
       "        [124, 120, 119],\n",
       "        [121, 117, 116]]], dtype=uint8)"
      ]
     },
     "execution_count": 6,
     "metadata": {},
     "output_type": "execute_result"
    }
   ],
   "source": [
    "input_image"
   ]
  },
  {
   "cell_type": "code",
   "execution_count": 7,
   "metadata": {},
   "outputs": [],
   "source": [
    "cv2.imshow('Input Image', input_image)\n",
    "cv2.waitKey(0)  # Wait for any key press\n",
    "cv2.destroyAllWindows()  # Close all OpenCV windows"
   ]
  },
  {
   "cell_type": "code",
   "execution_count": 8,
   "metadata": {},
   "outputs": [],
   "source": [
    "height, width, _ = input_image.shape"
   ]
  },
  {
   "cell_type": "code",
   "execution_count": 9,
   "metadata": {},
   "outputs": [
    {
     "data": {
      "text/plain": [
       "640"
      ]
     },
     "execution_count": 9,
     "metadata": {},
     "output_type": "execute_result"
    }
   ],
   "source": [
    "height"
   ]
  },
  {
   "cell_type": "code",
   "execution_count": 10,
   "metadata": {},
   "outputs": [
    {
     "data": {
      "text/plain": [
       "640"
      ]
     },
     "execution_count": 10,
     "metadata": {},
     "output_type": "execute_result"
    }
   ],
   "source": [
    "width"
   ]
  },
  {
   "cell_type": "code",
   "execution_count": 11,
   "metadata": {},
   "outputs": [],
   "source": [
    "total_segmented_area = 0"
   ]
  },
  {
   "cell_type": "code",
   "execution_count": 12,
   "metadata": {},
   "outputs": [],
   "source": [
    "def segment_cracks(image_path, output_path):\n",
    "    command = f\"python predict.py --config configs/hrsegnetb32.yml --model_path hrsegnetb32/best_model/model.pdparams --image_path {image_path} --save_dir {output_path}\"\n",
    "    subprocess.run(command, shell=True)"
   ]
  },
  {
   "cell_type": "code",
   "execution_count": 13,
   "metadata": {},
   "outputs": [],
   "source": [
    "output_dir= 'output/result/gray_scale'\n",
    "os.makedirs(output_dir, exist_ok=True)\n",
    "output_dir1= 'output/result/after_dilated'\n",
    "os.makedirs(output_dir1, exist_ok=True)\n",
    "crop_filename = \"wall_image.jpg\"\n",
    "# Segment the cracks in the scaled crop\n",
    "segment_cracks(crop_filename, 'output/result')"
   ]
  },
  {
   "cell_type": "code",
   "execution_count": 14,
   "metadata": {},
   "outputs": [],
   "source": [
    "hsv_image = cv2.cvtColor(cv2.imread(f\"runs\\segment\\predict4\\inputImage.jpg\"), cv2.COLOR_BGR2HSV)"
   ]
  },
  {
   "cell_type": "code",
   "execution_count": 21,
   "metadata": {},
   "outputs": [
    {
     "data": {
      "text/plain": [
       "array([[[177,  22, 116],\n",
       "        [  6,  23, 111],\n",
       "        [  6,  24, 106],\n",
       "        ...,\n",
       "        [  0, 196, 252],\n",
       "        [  0, 201, 254],\n",
       "        [  1, 201, 255]],\n",
       "\n",
       "       [[  0,  14, 111],\n",
       "        [  0,  14, 107],\n",
       "        [ 13,  18, 102],\n",
       "        ...,\n",
       "        [179, 188, 244],\n",
       "        [  0, 196, 247],\n",
       "        [  0, 198, 251]],\n",
       "\n",
       "       [[  0,   0,  98],\n",
       "        [ 30,   5,  94],\n",
       "        [ 30,   6,  90],\n",
       "        ...,\n",
       "        [  0, 172, 222],\n",
       "        [  0, 184, 231],\n",
       "        [  1, 190, 238]],\n",
       "\n",
       "       ...,\n",
       "\n",
       "       [[ 83,   9, 120],\n",
       "        [ 83,   8, 123],\n",
       "        [ 83,   8, 126],\n",
       "        ...,\n",
       "        [114,  10, 128],\n",
       "        [114,  10, 124],\n",
       "        [114,  11, 121]],\n",
       "\n",
       "       [[ 83,   8, 122],\n",
       "        [ 83,   8, 124],\n",
       "        [ 83,   8, 125],\n",
       "        ...,\n",
       "        [114,  10, 128],\n",
       "        [114,  10, 124],\n",
       "        [114,  11, 121]],\n",
       "\n",
       "       [[ 83,   8, 124],\n",
       "        [ 83,   8, 125],\n",
       "        [ 83,   8, 125],\n",
       "        ...,\n",
       "        [114,  10, 127],\n",
       "        [114,  10, 124],\n",
       "        [114,  11, 121]]], dtype=uint8)"
      ]
     },
     "execution_count": 21,
     "metadata": {},
     "output_type": "execute_result"
    }
   ],
   "source": [
    "hsv_image"
   ]
  },
  {
   "cell_type": "code",
   "execution_count": 31,
   "metadata": {},
   "outputs": [],
   "source": [
    "# Change it here \n",
    "lower_green = np.array([245, -10, -10])  # Lower bound for green color\n",
    "upper_green = np.array([(265, 10, 10)])  # Upper bound for green color"
   ]
  },
  {
   "cell_type": "code",
   "execution_count": 23,
   "metadata": {},
   "outputs": [
    {
     "data": {
      "text/plain": [
       "array([35, 50, 50])"
      ]
     },
     "execution_count": 23,
     "metadata": {},
     "output_type": "execute_result"
    }
   ],
   "source": [
    "lower_green"
   ]
  },
  {
   "cell_type": "code",
   "execution_count": 33,
   "metadata": {},
   "outputs": [
    {
     "data": {
      "text/plain": [
       "array([[265,  10,  10]])"
      ]
     },
     "execution_count": 33,
     "metadata": {},
     "output_type": "execute_result"
    }
   ],
   "source": [
    "upper_green"
   ]
  },
  {
   "cell_type": "code",
   "execution_count": 32,
   "metadata": {},
   "outputs": [
    {
     "data": {
      "text/plain": [
       "array([[0, 0, 0, ..., 0, 0, 0],\n",
       "       [0, 0, 0, ..., 0, 0, 0],\n",
       "       [0, 0, 0, ..., 0, 0, 0],\n",
       "       ...,\n",
       "       [0, 0, 0, ..., 0, 0, 0],\n",
       "       [0, 0, 0, ..., 0, 0, 0],\n",
       "       [0, 0, 0, ..., 0, 0, 0]], dtype=uint8)"
      ]
     },
     "execution_count": 32,
     "metadata": {},
     "output_type": "execute_result"
    }
   ],
   "source": [
    "mask = cv2.inRange(hsv_image, lower_green, upper_green)\n",
    "mask"
   ]
  },
  {
   "cell_type": "code",
   "execution_count": 34,
   "metadata": {},
   "outputs": [
    {
     "data": {
      "text/plain": [
       "array([[0, 0, 0, ..., 0, 0, 0],\n",
       "       [0, 0, 0, ..., 0, 0, 0],\n",
       "       [0, 0, 0, ..., 0, 0, 0],\n",
       "       ...,\n",
       "       [0, 0, 0, ..., 0, 0, 0],\n",
       "       [0, 0, 0, ..., 0, 0, 0],\n",
       "       [0, 0, 0, ..., 0, 0, 0]], dtype=uint8)"
      ]
     },
     "execution_count": 34,
     "metadata": {},
     "output_type": "execute_result"
    }
   ],
   "source": [
    "segmented_image = np.where(mask == 255, 1, 0).astype(np.uint8) * 255\n",
    "segmented_image"
   ]
  },
  {
   "cell_type": "code",
   "execution_count": 35,
   "metadata": {},
   "outputs": [
    {
     "data": {
      "text/plain": [
       "True"
      ]
     },
     "execution_count": 35,
     "metadata": {},
     "output_type": "execute_result"
    }
   ],
   "source": [
    "cv2.imwrite(f\"{output_dir}/wall_image.jpg\", segmented_image)"
   ]
  },
  {
   "cell_type": "code",
   "execution_count": 37,
   "metadata": {},
   "outputs": [
    {
     "name": "stdout",
     "output_type": "stream",
     "text": [
      "Percentage of green in the original image: 0.00%\n"
     ]
    },
    {
     "data": {
      "text/plain": [
       "True"
      ]
     },
     "execution_count": 37,
     "metadata": {},
     "output_type": "execute_result"
    }
   ],
   "source": [
    "import cv2\n",
    "import numpy as np\n",
    "\n",
    "# Load the original image\n",
    "original_image = cv2.imread(\"runs/segment/predict4/inputImage.jpg\")\n",
    "\n",
    "# Make sure the image is loaded successfully\n",
    "if original_image is None:\n",
    "    print(\"Error: Unable to load image.\")\n",
    "    exit()\n",
    "\n",
    "# Convert the image to HSV color space\n",
    "hsv_image = cv2.cvtColor(original_image, cv2.COLOR_BGR2HSV)\n",
    "\n",
    "# Define the lower and upper threshold values for green\n",
    "lower_green = np.array([245, -10, -10])  # Lower bound for green color\n",
    "upper_green = np.array([(265, 10, 10)])  # Upper bound for green color\n",
    "\n",
    "# Create the binary mask for the green color range\n",
    "mask = cv2.inRange(hsv_image, lower_green, upper_green)\n",
    "\n",
    "# Convert the binary mask to a binary image\n",
    "segmented_image = np.where(mask == 255, 1, 0).astype(np.uint8) * 255\n",
    "\n",
    "# Calculate the percentage of green in the original image\n",
    "total_green_pixels = np.count_nonzero(mask == 255)\n",
    "total_pixels = np.prod(original_image.shape[:2])\n",
    "percentage_green = (total_green_pixels / total_pixels) * 100\n",
    "\n",
    "print(\"Percentage of green in the original image: {:.2f}%\".format(percentage_green))\n",
    "\n",
    "# Save the segmented image\n",
    "cv2.imwrite(\"runs/segment/predict4/segmented_image.jpg\", segmented_image)\n"
   ]
  },
  {
   "cell_type": "code",
   "execution_count": 26,
   "metadata": {},
   "outputs": [],
   "source": [
    "import cv2\n",
    "import numpy as np\n",
    "\n",
    "# Load the original image\n",
    "original_image = cv2.imread(\"runs/segment/predict4/inputImage.jpg\")\n",
    "\n",
    "# Make sure the image is loaded successfully\n",
    "if original_image is None:\n",
    "    print(\"Error: Unable to load image.\")\n",
    "    exit()\n",
    "\n",
    "# Convert the original image to grayscale\n",
    "gray_image = cv2.cvtColor(original_image, cv2.COLOR_BGR2GRAY)\n",
    "\n",
    "# Convert the grayscale image to a 3-channel image (for masking)\n",
    "gray_image_3ch = cv2.cvtColor(gray_image, cv2.COLOR_GRAY2BGR)\n",
    "\n",
    "# Convert the image to HSV color space\n",
    "hsv_image = cv2.cvtColor(original_image, cv2.COLOR_BGR2HSV)\n",
    "\n",
    "# Define the lower and upper threshold values for green\n",
    "lower_green = np.array([30, 50, 50])\n",
    "upper_green = np.array([90, 255, 255])\n",
    "\n",
    "# Create the binary mask for the green color range\n",
    "mask = cv2.inRange(hsv_image, lower_green, upper_green)\n",
    "\n",
    "# Highlight the masked region in the grayscale image\n",
    "highlighted_image = cv2.bitwise_and(gray_image_3ch, gray_image_3ch, mask=mask)\n",
    "\n",
    "# Display the original grayscale image and the highlighted region\n",
    "cv2.imshow(\"Grayscale Image\", gray_image)\n",
    "cv2.imshow(\"Highlighted Region\", highlighted_image)\n",
    "cv2.waitKey(0)\n",
    "cv2.destroyAllWindows()\n"
   ]
  },
  {
   "cell_type": "code",
   "execution_count": 28,
   "metadata": {},
   "outputs": [
    {
     "name": "stdout",
     "output_type": "stream",
     "text": [
      "Percentage of crack in the whole image: 0.00%\n"
     ]
    }
   ],
   "source": [
    "import cv2\n",
    "import numpy as np\n",
    "\n",
    "# Load the original image\n",
    "original_image = cv2.imread(\"runs/segment/predict4/inputImage.jpg\")\n",
    "\n",
    "# Make sure the image is loaded successfully\n",
    "if original_image is None:\n",
    "    print(\"Error: Unable to load image.\")\n",
    "    exit()\n",
    "\n",
    "# Convert the original image to grayscale\n",
    "gray_image = cv2.cvtColor(original_image, cv2.COLOR_BGR2GRAY)\n",
    "\n",
    "# Convert the grayscale image to a 3-channel image (for masking)\n",
    "gray_image_3ch = cv2.cvtColor(gray_image, cv2.COLOR_GRAY2BGR)\n",
    "\n",
    "# Convert the image to HSV color space\n",
    "hsv_image = cv2.cvtColor(original_image, cv2.COLOR_BGR2HSV)\n",
    "\n",
    "# Define the lower and upper threshold values for crack (if known)\n",
    "lower_crack = np.array([0, 0, 0])  # Adjust as needed\n",
    "upper_crack = np.array([180, 255, 50])  # Adjust as needed\n",
    "\n",
    "# Create the binary mask for the crack region\n",
    "mask = cv2.inRange(hsv_image, lower_crack, upper_crack)\n",
    "\n",
    "# Highlight the crack region in the grayscale image\n",
    "highlighted_image = cv2.bitwise_and(gray_image_3ch, gray_image_3ch, mask=mask)\n",
    "\n",
    "# Calculate the total number of pixels in the grayscale image\n",
    "total_pixels = gray_image.size\n",
    "\n",
    "# Calculate the number of pixels in the highlighted crack region\n",
    "crack_pixels = np.count_nonzero(mask)\n",
    "\n",
    "# Calculate the percentage of crack from the whole image\n",
    "percentage_crack = (crack_pixels / total_pixels) * 100\n",
    "\n",
    "print(\"Percentage of crack in the whole image: {:.2f}%\".format(percentage_crack))\n",
    "\n",
    "# Display the original grayscale image and the highlighted crack region\n",
    "cv2.imshow(\"Grayscale Image\", gray_image)\n",
    "#cv2.imshow(\"Highlighted Crack Region\", highlighted_image)\n",
    "cv2.waitKey(0)\n",
    "cv2.destroyAllWindows()\n"
   ]
  },
  {
   "cell_type": "code",
   "execution_count": 30,
   "metadata": {},
   "outputs": [
    {
     "ename": "error",
     "evalue": "OpenCV(4.9.0) d:\\a\\opencv-python\\opencv-python\\opencv\\modules\\imgproc\\src\\color.simd_helpers.hpp:92: error: (-2:Unspecified error) in function '__cdecl cv::impl::`anonymous-namespace'::CvtHelper<struct cv::impl::`anonymous namespace'::Set<3,4,-1>,struct cv::impl::A0x806cd31c::Set<3,-1,-1>,struct cv::impl::A0x806cd31c::Set<0,5,-1>,4>::CvtHelper(const class cv::_InputArray &,const class cv::_OutputArray &,int)'\n> Invalid number of channels in input image:\n>     'VScn::contains(scn)'\n> where\n>     'scn' is 1\n",
     "output_type": "error",
     "traceback": [
      "\u001b[1;31m---------------------------------------------------------------------------\u001b[0m",
      "\u001b[1;31merror\u001b[0m                                     Traceback (most recent call last)",
      "Cell \u001b[1;32mIn[30], line 16\u001b[0m\n\u001b[0;32m     13\u001b[0m gray_image \u001b[38;5;241m=\u001b[39m cv2\u001b[38;5;241m.\u001b[39mcvtColor(original_image, cv2\u001b[38;5;241m.\u001b[39mCOLOR_BGR2GRAY)\n\u001b[0;32m     15\u001b[0m \u001b[38;5;66;03m# Convert the image to HSV color space\u001b[39;00m\n\u001b[1;32m---> 16\u001b[0m hsv_image \u001b[38;5;241m=\u001b[39m \u001b[43mcv2\u001b[49m\u001b[38;5;241;43m.\u001b[39;49m\u001b[43mcvtColor\u001b[49m\u001b[43m(\u001b[49m\u001b[43mgray_image\u001b[49m\u001b[43m,\u001b[49m\u001b[43m \u001b[49m\u001b[43mcv2\u001b[49m\u001b[38;5;241;43m.\u001b[39;49m\u001b[43mCOLOR_BGR2HSV\u001b[49m\u001b[43m)\u001b[49m\n\u001b[0;32m     18\u001b[0m \u001b[38;5;66;03m# Define the lower and upper threshold values for crack (if known)\u001b[39;00m\n\u001b[0;32m     19\u001b[0m lower_crack \u001b[38;5;241m=\u001b[39m np\u001b[38;5;241m.\u001b[39marray([\u001b[38;5;241m0\u001b[39m, \u001b[38;5;241m0\u001b[39m, \u001b[38;5;241m0\u001b[39m])  \u001b[38;5;66;03m# Adjust as needed\u001b[39;00m\n",
      "\u001b[1;31merror\u001b[0m: OpenCV(4.9.0) d:\\a\\opencv-python\\opencv-python\\opencv\\modules\\imgproc\\src\\color.simd_helpers.hpp:92: error: (-2:Unspecified error) in function '__cdecl cv::impl::`anonymous-namespace'::CvtHelper<struct cv::impl::`anonymous namespace'::Set<3,4,-1>,struct cv::impl::A0x806cd31c::Set<3,-1,-1>,struct cv::impl::A0x806cd31c::Set<0,5,-1>,4>::CvtHelper(const class cv::_InputArray &,const class cv::_OutputArray &,int)'\n> Invalid number of channels in input image:\n>     'VScn::contains(scn)'\n> where\n>     'scn' is 1\n"
     ]
    }
   ],
   "source": [
    "import cv2\n",
    "import numpy as np\n",
    "\n",
    "# Load the original image\n",
    "original_image = cv2.imread(\"runs/segment/predict4/inputImage.jpg\")\n",
    "\n",
    "# Make sure the image is loaded successfully\n",
    "if original_image is None:\n",
    "    print(\"Error: Unable to load image.\")\n",
    "    exit()\n",
    "\n",
    "# Convert the original image to grayscale\n",
    "gray_image = cv2.cvtColor(original_image, cv2.COLOR_BGR2GRAY)\n",
    "\n",
    "# Convert the image to HSV color space\n",
    "hsv_image = cv2.cvtColor(gray_image, cv2.COLOR_BGR2HSV)\n",
    "\n",
    "# Define the lower and upper threshold values for crack (if known)\n",
    "lower_crack = np.array([0, 0, 0])  # Adjust as needed\n",
    "upper_crack = np.array([180, 255, 50])  # Adjust as needed\n",
    "\n",
    "# Create the binary mask for the crack region\n",
    "mask = cv2.inRange(hsv_image, lower_crack, upper_crack)\n",
    "\n",
    "# Highlight the crack region in the grayscale image\n",
    "highlighted_crack = cv2.bitwise_and(gray_image, gray_image, mask=mask)\n",
    "\n",
    "# Convert the highlighted crack region to white and the rest to black\n",
    "highlighted_crack_binary = np.where(highlighted_crack > 0, 255, 0).astype(np.uint8)\n",
    "\n",
    "# Display the original image and the highlighted crack region\n",
    "cv2.imshow(\"Original Image\", original_image)\n",
    "cv2.imshow(\"Highlighted Cracks\", highlighted_crack_binary)\n",
    "cv2.waitKey(0)\n",
    "cv2.destroyAllWindows()\n"
   ]
  },
  {
   "cell_type": "code",
   "execution_count": null,
   "metadata": {},
   "outputs": [],
   "source": []
  },
  {
   "cell_type": "code",
   "execution_count": null,
   "metadata": {},
   "outputs": [],
   "source": []
  },
  {
   "cell_type": "code",
   "execution_count": null,
   "metadata": {},
   "outputs": [],
   "source": []
  },
  {
   "cell_type": "code",
   "execution_count": null,
   "metadata": {},
   "outputs": [],
   "source": []
  },
  {
   "cell_type": "code",
   "execution_count": null,
   "metadata": {},
   "outputs": [],
   "source": []
  },
  {
   "cell_type": "code",
   "execution_count": null,
   "metadata": {},
   "outputs": [],
   "source": []
  },
  {
   "cell_type": "code",
   "execution_count": null,
   "metadata": {},
   "outputs": [],
   "source": []
  }
 ],
 "metadata": {
  "kernelspec": {
   "display_name": "CrackSeg",
   "language": "python",
   "name": "python3"
  },
  "language_info": {
   "codemirror_mode": {
    "name": "ipython",
    "version": 3
   },
   "file_extension": ".py",
   "mimetype": "text/x-python",
   "name": "python",
   "nbconvert_exporter": "python",
   "pygments_lexer": "ipython3",
   "version": "3.9.19"
  }
 },
 "nbformat": 4,
 "nbformat_minor": 2
}
