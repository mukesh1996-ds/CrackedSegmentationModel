{
 "cells": [
  {
   "cell_type": "code",
   "execution_count": 1,
   "metadata": {},
   "outputs": [],
   "source": [
    "import os,sys\n",
    "import yaml\n",
    "from Cracked_Detection.utils.main_utils import read_yaml_file\n",
    "from Cracked_Detection.logger import logging\n",
    "from Cracked_Detection.exception import AppException\n",
    "from Cracked_Detection.entity.config_entity import ModelTrainerConfig\n",
    "from Cracked_Detection.entity.artifacts_entity import ModelTrainerArtifact"
   ]
  },
  {
   "cell_type": "code",
   "execution_count": 4,
   "metadata": {},
   "outputs": [
    {
     "data": {
      "text/plain": [
       "1"
      ]
     },
     "execution_count": 4,
     "metadata": {},
     "output_type": "execute_result"
    }
   ],
   "source": [
    "os.system(\"unzip data.zip\")"
   ]
  },
  {
   "cell_type": "code",
   "execution_count": 3,
   "metadata": {},
   "outputs": [
    {
     "data": {
      "text/plain": [
       "1"
      ]
     },
     "execution_count": 3,
     "metadata": {},
     "output_type": "execute_result"
    }
   ],
   "source": [
    "os.system(\"rm data.zip\")"
   ]
  },
  {
   "cell_type": "code",
   "execution_count": 5,
   "metadata": {},
   "outputs": [],
   "source": [
    "class ModelTrainer:\n",
    "    def __init__(\n",
    "        self,\n",
    "        model_trainer_config: ModelTrainerConfig,\n",
    "    ):\n",
    "        self.model_trainer_config = model_trainer_config\n",
    "\n",
    "\n",
    "    \n",
    "\n",
    "    def initiate_model_trainer(self,) -> ModelTrainerArtifact:\n",
    "        logging.info(\"Entered initiate_model_trainer method of ModelTrainer class\")\n",
    "\n",
    "        try:\n",
    "            logging.info(\"Unzipping data\")\n",
    "            os.system(\"unzip data.zip\")\n",
    "            os.system(\"rm data.zip\")\n",
    "\n",
    "            with open(\"data.yaml\", 'r') as stream:\n",
    "                num_classes = str(yaml.safe_load(stream)['nc'])\n",
    "\n",
    "            model_config_file_name = self.model_trainer_config.weight_name.split(\".\")[0]\n",
    "            print(model_config_file_name)\n",
    "\n",
    "            config = read_yaml_file(f\"artifacts/data_ingestion/feature_store/{model_config_file_name}.yaml\")\n",
    "\n",
    "            config['nc'] = int(num_classes)\n",
    "\n",
    "\n",
    "            with open(f'yolov8/models/custom_{model_config_file_name}.yaml', 'w') as f:\n",
    "                yaml.dump(config, f)\n",
    "\n",
    "            os.system(f\"cd yolov8/ && python train.py --img 416 --batch {self.model_trainer_config.batch_size} --epochs {self.model_trainer_config.no_epochs} --data ../data.yaml --cfg ./models/custom_yolov8s.yaml --weights {self.model_trainer_config.weight_name} --name yolov8s_results  --cache\")\n",
    "            os.system(\"cp yolov5/runs/train/yolov8s_results/weights/best.pt yolov8/\")\n",
    "            os.makedirs(self.model_trainer_config.model_trainer_dir, exist_ok=True)\n",
    "            os.system(f\"cp yolov5/runs/train/yolov5s_results/weights/best.pt {self.model_trainer_config.model_trainer_dir}/\")\n",
    "           \n",
    "            os.system(\"rm -rf yolov8/runs\")\n",
    "            os.system(\"rm -rf train\")\n",
    "            os.system(\"rm -rf valid\")\n",
    "            os.system(\"rm -rf data.yaml\")\n",
    "\n",
    "            model_trainer_artifact = ModelTrainerArtifact(\n",
    "                trained_model_file_path=\"yolov8/best.pt\",\n",
    "            )\n",
    "\n",
    "            logging.info(\"Exited initiate_model_trainer method of ModelTrainer class\")\n",
    "            logging.info(f\"Model trainer artifact: {model_trainer_artifact}\")\n",
    "\n",
    "            return model_trainer_artifact\n",
    "\n",
    "\n",
    "        except Exception as e:\n",
    "            raise AppException(e, sys)"
   ]
  },
  {
   "cell_type": "markdown",
   "metadata": {},
   "source": [
    "            with open(f'yolov8/models/custom_{model_config_file_name}.yaml', 'w') as f:\n",
    "                yaml.dump(config, f)\n",
    "\n",
    "            os.system(f\"cd yolov8/ && python train.py --img 416 --batch {self.model_trainer_config.batch_size} --epochs {self.model_trainer_config.no_epochs} --data ../data.yaml --cfg ./models/custom_yolov8s.yaml --weights {self.model_trainer_config.weight_name} --name yolov8s_results  --cache\")\n",
    "            os.system(\"cp yolov5/runs/train/yolov8s_results/weights/best.pt yolov8/\")\n",
    "            os.makedirs(self.model_trainer_config.model_trainer_dir, exist_ok=True)\n",
    "            os.system(f\"cp yolov5/runs/train/yolov5s_results/weights/best.pt {self.model_trainer_config.model_trainer_dir}/\")\n",
    "           \n",
    "            os.system(\"rm -rf yolov8/runs\")\n",
    "            os.system(\"rm -rf train\")\n",
    "            os.system(\"rm -rf valid\")\n",
    "            os.system(\"rm -rf data.yaml\")"
   ]
  }
 ],
 "metadata": {
  "kernelspec": {
   "display_name": "CrackSeg",
   "language": "python",
   "name": "python3"
  },
  "language_info": {
   "codemirror_mode": {
    "name": "ipython",
    "version": 3
   },
   "file_extension": ".py",
   "mimetype": "text/x-python",
   "name": "python",
   "nbconvert_exporter": "python",
   "pygments_lexer": "ipython3",
   "version": "3.9.19"
  }
 },
 "nbformat": 4,
 "nbformat_minor": 2
}
