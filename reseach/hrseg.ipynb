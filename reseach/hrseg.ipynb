{
 "cells": [
  {
   "cell_type": "code",
   "execution_count": 1,
   "metadata": {},
   "outputs": [],
   "source": [
    "import cv2\n",
    "import numpy as np\n",
    "import subprocess\n",
    "from tqdm import tqdm\n",
    "import os"
   ]
  },
  {
   "cell_type": "code",
   "execution_count": 2,
   "metadata": {},
   "outputs": [],
   "source": [
    "# Define the function to segment cracks\n",
    "def segment_cracks(image_path, output_path):\n",
    "    command = f\"python predict.py --config configs/hrsegnetb32.yml --model_path hrsegnetb32/best_model/model.pdparams --image_path {image_path} --save_dir {output_path}\"\n",
    "    subprocess.run(command, shell=True)"
   ]
  },
  {
   "cell_type": "code",
   "execution_count": 11,
   "metadata": {},
   "outputs": [],
   "source": [
    "import os \n",
    "\n",
    "os.chdir(\"../\")"
   ]
  },
  {
   "cell_type": "code",
   "execution_count": 12,
   "metadata": {},
   "outputs": [
    {
     "name": "stdout",
     "output_type": "stream",
     "text": [
      "Image dimensions - Height: 500 Width: 500\n"
     ]
    }
   ],
   "source": [
    "import cv2\n",
    "\n",
    "# Attempt to read the image\n",
    "input_image = cv2.imread(\"018_11.jpg\")\n",
    "\n",
    "# Check if the image was read successfully\n",
    "if input_image is None:\n",
    "    print(\"Error: Unable to read the image file.\")\n",
    "else:\n",
    "    # Get the dimensions of the image\n",
    "    height, width, _ = input_image.shape\n",
    "    print(\"Image dimensions - Height:\", height, \"Width:\", width)\n"
   ]
  },
  {
   "cell_type": "code",
   "execution_count": 13,
   "metadata": {},
   "outputs": [],
   "source": [
    "total_segmented_area = 0"
   ]
  },
  {
   "cell_type": "code",
   "execution_count": 15,
   "metadata": {},
   "outputs": [],
   "source": [
    "import os\n",
    "\n",
    "# Define the parent folder path\n",
    "parent_folder = \"hrseg/results\"\n",
    "\n",
    "# Create parent folder and subfolders if they don't exist\n",
    "os.makedirs(parent_folder, exist_ok=True)\n",
    "os.makedirs(os.path.join(parent_folder, \"gray_scale\"), exist_ok=True)\n",
    "os.makedirs(os.path.join(parent_folder, \"after_dilated\"), exist_ok=True)\n"
   ]
  },
  {
   "cell_type": "code",
   "execution_count": 16,
   "metadata": {},
   "outputs": [],
   "source": [
    "crop_filename = \"018_11.jpg\""
   ]
  },
  {
   "cell_type": "code",
   "execution_count": 17,
   "metadata": {},
   "outputs": [],
   "source": [
    "segment_cracks(crop_filename, 'output/result')"
   ]
  },
  {
   "cell_type": "code",
   "execution_count": 18,
   "metadata": {},
   "outputs": [],
   "source": [
    "hsv_image = cv2.cvtColor(cv2.imread(crop_filename), cv2.COLOR_BGR2HSV)\n"
   ]
  },
  {
   "cell_type": "code",
   "execution_count": 19,
   "metadata": {},
   "outputs": [],
   "source": [
    "\n",
    "lower_green = np.array([35, 50, 50])  # Lower bound for green color\n",
    "upper_green = np.array([90, 255, 255])  # Upper bound for green color"
   ]
  },
  {
   "cell_type": "code",
   "execution_count": 20,
   "metadata": {},
   "outputs": [],
   "source": [
    "mask = cv2.inRange(hsv_image, lower_green, upper_green)"
   ]
  },
  {
   "cell_type": "code",
   "execution_count": 21,
   "metadata": {},
   "outputs": [],
   "source": [
    "segmented_image = np.where(mask == 255, 1, 0).astype(np.uint8) * 255"
   ]
  },
  {
   "cell_type": "code",
   "execution_count": 23,
   "metadata": {},
   "outputs": [
    {
     "data": {
      "text/plain": [
       "True"
      ]
     },
     "execution_count": 23,
     "metadata": {},
     "output_type": "execute_result"
    }
   ],
   "source": [
    "output_dir = \"hrseg/results/gray_scale\"\n",
    "cv2.imwrite(f\"{output_dir}/wall_image.jpg\", segmented_image)"
   ]
  },
  {
   "cell_type": "code",
   "execution_count": 24,
   "metadata": {},
   "outputs": [],
   "source": [
    "kernel = np.ones((250, 250), np.uint8)"
   ]
  },
  {
   "cell_type": "code",
   "execution_count": 26,
   "metadata": {},
   "outputs": [
    {
     "name": "stdout",
     "output_type": "stream",
     "text": [
      "[[0 0 0 ... 0 0 0]\n",
      " [0 0 0 ... 0 0 0]\n",
      " [0 0 0 ... 0 0 0]\n",
      " ...\n",
      " [0 0 0 ... 0 0 0]\n",
      " [0 0 0 ... 0 0 0]\n",
      " [0 0 0 ... 0 0 0]]\n"
     ]
    }
   ],
   "source": [
    "dilated_image = cv2.dilate(segmented_image, kernel, iterations=1)\n",
    "output_dir1 = \"hrseg/results/after_dilated\"\n",
    "cv2.imwrite(f\"{output_dir1}/wall_image.jpg\", dilated_image)\n",
    "print(dilated_image)"
   ]
  },
  {
   "cell_type": "code",
   "execution_count": 27,
   "metadata": {},
   "outputs": [
    {
     "name": "stdout",
     "output_type": "stream",
     "text": [
      "Overall percentage of damage: 0.00%\n"
     ]
    }
   ],
   "source": [
    "segmented_area = np.count_nonzero(dilated_image) / (height * width) * 100\n",
    "total_segmented_area += segmented_area\n",
    "# Calculate the overall percentage of damage of the wall\n",
    "overall_percentage_damage = total_segmented_area\n",
    "\n",
    "print(f\"Overall percentage of damage: {overall_percentage_damage:.2f}%\")"
   ]
  },
  {
   "cell_type": "code",
   "execution_count": null,
   "metadata": {},
   "outputs": [],
   "source": []
  },
  {
   "cell_type": "code",
   "execution_count": null,
   "metadata": {},
   "outputs": [],
   "source": []
  },
  {
   "cell_type": "code",
   "execution_count": null,
   "metadata": {},
   "outputs": [],
   "source": []
  },
  {
   "cell_type": "code",
   "execution_count": null,
   "metadata": {},
   "outputs": [],
   "source": []
  },
  {
   "cell_type": "code",
   "execution_count": null,
   "metadata": {},
   "outputs": [],
   "source": []
  },
  {
   "cell_type": "code",
   "execution_count": null,
   "metadata": {},
   "outputs": [],
   "source": []
  },
  {
   "cell_type": "code",
   "execution_count": null,
   "metadata": {},
   "outputs": [],
   "source": []
  }
 ],
 "metadata": {
  "kernelspec": {
   "display_name": "CrackSeg",
   "language": "python",
   "name": "python3"
  },
  "language_info": {
   "codemirror_mode": {
    "name": "ipython",
    "version": 3
   },
   "file_extension": ".py",
   "mimetype": "text/x-python",
   "name": "python",
   "nbconvert_exporter": "python",
   "pygments_lexer": "ipython3",
   "version": "3.9.19"
  }
 },
 "nbformat": 4,
 "nbformat_minor": 2
}
