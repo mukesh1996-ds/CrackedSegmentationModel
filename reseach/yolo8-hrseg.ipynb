{
 "cells": [
  {
   "cell_type": "code",
   "execution_count": 2,
   "metadata": {},
   "outputs": [],
   "source": [
    "from flask import Flask, request, jsonify, render_template\n",
    "from ultralytics import YOLO\n",
    "import cv2, os, re,subprocess\n",
    "import numpy as np"
   ]
  },
  {
   "cell_type": "code",
   "execution_count": 6,
   "metadata": {},
   "outputs": [],
   "source": [
    "os.chdir(\"../\")"
   ]
  },
  {
   "cell_type": "code",
   "execution_count": 7,
   "metadata": {},
   "outputs": [],
   "source": [
    "# Define the function to segment cracks\n",
    "def segment_cracks(image_path, output_path):\n",
    "    command = f\"python predict.py --config configs/hrsegnetb32.yml --model_path hrsegnetb32/best_model/model.pdparams --image_path {image_path} --save_dir {output_path}\"\n",
    "    subprocess.run(command, shell=True)"
   ]
  },
  {
   "cell_type": "code",
   "execution_count": 8,
   "metadata": {},
   "outputs": [],
   "source": [
    "filename = \"data/inputImage.jpg\""
   ]
  },
  {
   "cell_type": "code",
   "execution_count": 9,
   "metadata": {},
   "outputs": [],
   "source": [
    "model = YOLO('runs/segment/train2/weights/best.pt')"
   ]
  },
  {
   "cell_type": "code",
   "execution_count": 10,
   "metadata": {},
   "outputs": [
    {
     "name": "stdout",
     "output_type": "stream",
     "text": [
      "\n",
      "image 1/1 d:\\CrackedSegmentationModel\\data\\inputImage.jpg: 640x640 1 Cracks, 391.6ms\n",
      "Speed: 14.8ms preprocess, 391.6ms inference, 1697.5ms postprocess per image at shape (1, 3, 640, 640)\n",
      "Results saved to \u001b[1mruns\\segment\\predict14\u001b[0m\n"
     ]
    }
   ],
   "source": [
    "results = model.predict(source=filename,save=True)"
   ]
  },
  {
   "cell_type": "code",
   "execution_count": 60,
   "metadata": {},
   "outputs": [
    {
     "data": {
      "text/plain": [
       "[ultralytics.engine.results.Results object with attributes:\n",
       " \n",
       " boxes: ultralytics.engine.results.Boxes object\n",
       " keypoints: None\n",
       " masks: ultralytics.engine.results.Masks object\n",
       " names: {0: 'Cracks'}\n",
       " obb: None\n",
       " orig_img: array([[[176, 172, 161],\n",
       "         [175, 171, 160],\n",
       "         [173, 169, 158],\n",
       "         ...,\n",
       "         [168, 158, 148],\n",
       "         [167, 157, 147],\n",
       "         [162, 152, 142]],\n",
       " \n",
       "        [[175, 171, 160],\n",
       "         [174, 170, 159],\n",
       "         [173, 169, 158],\n",
       "         ...,\n",
       "         [167, 157, 147],\n",
       "         [165, 155, 145],\n",
       "         [161, 151, 141]],\n",
       " \n",
       "        [[176, 172, 161],\n",
       "         [175, 171, 160],\n",
       "         [174, 170, 159],\n",
       "         ...,\n",
       "         [166, 156, 146],\n",
       "         [164, 154, 144],\n",
       "         [160, 150, 140]],\n",
       " \n",
       "        ...,\n",
       " \n",
       "        [[178, 170, 157],\n",
       "         [181, 173, 160],\n",
       "         [183, 175, 162],\n",
       "         ...,\n",
       "         [158, 154, 143],\n",
       "         [162, 158, 147],\n",
       "         [163, 159, 148]],\n",
       " \n",
       "        [[177, 169, 156],\n",
       "         [180, 172, 159],\n",
       "         [182, 174, 161],\n",
       "         ...,\n",
       "         [161, 157, 146],\n",
       "         [163, 159, 148],\n",
       "         [163, 159, 148]],\n",
       " \n",
       "        [[177, 169, 156],\n",
       "         [180, 172, 159],\n",
       "         [182, 174, 161],\n",
       "         ...,\n",
       "         [164, 160, 149],\n",
       "         [164, 160, 149],\n",
       "         [163, 159, 148]]], dtype=uint8)\n",
       " orig_shape: (500, 500)\n",
       " path: 'd:\\\\CrackedSegmentationModel\\\\data\\\\inputImage.jpg'\n",
       " probs: None\n",
       " save_dir: 'runs\\\\segment\\\\predict14'\n",
       " speed: {'preprocess': 14.787912368774414, 'inference': 391.6184902191162, 'postprocess': 1697.4735260009766}]"
      ]
     },
     "execution_count": 60,
     "metadata": {},
     "output_type": "execute_result"
    }
   ],
   "source": [
    "results"
   ]
  },
  {
   "cell_type": "code",
   "execution_count": 61,
   "metadata": {},
   "outputs": [
    {
     "ename": "AttributeError",
     "evalue": "'list' object has no attribute 'boxes'",
     "output_type": "error",
     "traceback": [
      "\u001b[1;31m---------------------------------------------------------------------------\u001b[0m",
      "\u001b[1;31mAttributeError\u001b[0m                            Traceback (most recent call last)",
      "Cell \u001b[1;32mIn[61], line 1\u001b[0m\n\u001b[1;32m----> 1\u001b[0m boxes \u001b[38;5;241m=\u001b[39m \u001b[43mresults\u001b[49m\u001b[38;5;241;43m.\u001b[39;49m\u001b[43mboxes\u001b[49m\n\u001b[0;32m      2\u001b[0m keypoints \u001b[38;5;241m=\u001b[39m results\u001b[38;5;241m.\u001b[39mkeypoints\n\u001b[0;32m      3\u001b[0m masks \u001b[38;5;241m=\u001b[39m results\u001b[38;5;241m.\u001b[39mmasks\n",
      "\u001b[1;31mAttributeError\u001b[0m: 'list' object has no attribute 'boxes'"
     ]
    }
   ],
   "source": [
    "boxes = results.boxes\n",
    "keypoints = results.keypoints\n",
    "masks = results.masks\n",
    "names = results.names\n",
    "obb = results.obb\n",
    "original_image = results.orig_img\n",
    "original_shape = results.orig_shape\n",
    "path = results.path\n",
    "probabilities = results.probs\n",
    "save_directory = results.save_dir\n",
    "speed = results.speed\n"
   ]
  },
  {
   "cell_type": "code",
   "execution_count": 64,
   "metadata": {},
   "outputs": [],
   "source": [
    "result_object = results[0]\n",
    "boxes = result_object.boxes\n",
    "keypoints = result_object.keypoints\n",
    "masks = result_object.masks\n",
    "names = result_object.names\n",
    "obb = result_object.obb\n",
    "original_image = result_object.orig_img\n",
    "original_shape = result_object.orig_shape\n",
    "path = result_object.path\n",
    "probabilities = result_object.probs\n",
    "save_directory = result_object.save_dir\n",
    "speed = result_object.speed"
   ]
  },
  {
   "cell_type": "code",
   "execution_count": 65,
   "metadata": {},
   "outputs": [
    {
     "data": {
      "text/plain": [
       "ultralytics.engine.results.Masks object with attributes:\n",
       "\n",
       "data: tensor([[[0., 0., 0.,  ..., 0., 0., 0.],\n",
       "         [0., 0., 0.,  ..., 0., 0., 0.],\n",
       "         [0., 0., 0.,  ..., 0., 0., 0.],\n",
       "         ...,\n",
       "         [0., 0., 0.,  ..., 0., 0., 0.],\n",
       "         [0., 0., 0.,  ..., 0., 0., 0.],\n",
       "         [0., 0., 0.,  ..., 0., 0., 0.]]])\n",
       "orig_shape: (500, 500)\n",
       "shape: torch.Size([1, 640, 640])\n",
       "xy: [array([[     3.9062,         150],\n",
       "       [     3.9062,      150.78],\n",
       "       [      3.125,      151.56],\n",
       "       ...,\n",
       "       [     7.8125,      151.56],\n",
       "       [     7.0312,      151.56],\n",
       "       [     5.4688,         150]], dtype=float32)]\n",
       "xyn: [array([[  0.0078125,         0.3],\n",
       "       [  0.0078125,     0.30156],\n",
       "       [    0.00625,     0.30312],\n",
       "       ...,\n",
       "       [   0.015625,     0.30312],\n",
       "       [   0.014062,     0.30312],\n",
       "       [   0.010937,         0.3]], dtype=float32)]"
      ]
     },
     "execution_count": 65,
     "metadata": {},
     "output_type": "execute_result"
    }
   ],
   "source": [
    "masks"
   ]
  },
  {
   "cell_type": "code",
   "execution_count": 69,
   "metadata": {},
   "outputs": [
    {
     "name": "stdout",
     "output_type": "stream",
     "text": [
      "Percentage of original image covered by masks: 0.00%\n"
     ]
    }
   ],
   "source": [
    "import numpy as np\n",
    "\n",
    "# Load the original image\n",
    "original_image = results[0].orig_img\n",
    "\n",
    "# Get the masks\n",
    "masks = results[0].masks\n",
    "\n",
    "# Initialize the total number of masked pixels\n",
    "total_masked_pixels_count = 0\n",
    "\n",
    "# If masks is a list of arrays\n",
    "if isinstance(masks, list):\n",
    "    for mask in masks:\n",
    "        total_masked_pixels_count += np.count_nonzero(mask)\n",
    "\n",
    "# If masks is a single array\n",
    "elif isinstance(masks, np.ndarray):\n",
    "    total_masked_pixels_count += np.count_nonzero(masks)\n",
    "\n",
    "# Calculate the total number of pixels in the original image\n",
    "total_pixels = np.prod(original_image.shape[:2])\n",
    "\n",
    "# Calculate the percentage of the original image covered by masks\n",
    "percentage_covered = (total_masked_pixels_count / total_pixels) * 100\n",
    "\n",
    "print(\"Percentage of original image covered by masks: {:.2f}%\".format(percentage_covered))\n"
   ]
  },
  {
   "cell_type": "code",
   "execution_count": 31,
   "metadata": {},
   "outputs": [
    {
     "name": "stdout",
     "output_type": "stream",
     "text": [
      "Image dimensions - Height: 500 Width: 500\n"
     ]
    }
   ],
   "source": [
    "# Attempt to read the image\n",
    "input_image = cv2.imread(image_path)\n",
    "\n",
    "# Check if the image was read successfully\n",
    "if input_image is None:\n",
    "    print(\"Error: Unable to read the image file.\")\n",
    "else:\n",
    "    # Get the dimensions of the image\n",
    "    height, width, _ = input_image.shape\n",
    "    print(\"Image dimensions - Height:\", height, \"Width:\", width)\n"
   ]
  },
  {
   "cell_type": "code",
   "execution_count": 42,
   "metadata": {},
   "outputs": [
    {
     "data": {
      "text/plain": [
       "'runs/segment/predict14/inputImage.jpg'"
      ]
     },
     "execution_count": 42,
     "metadata": {},
     "output_type": "execute_result"
    }
   ],
   "source": [
    "parent_directory = \"runs/segment/\"\n",
    "directories = [d for d in os.listdir(parent_directory) if os.path.isdir(os.path.join(parent_directory, d))]\n",
    "pattern = \"predict\"\n",
    "filtered_directories = [d for d in directories if d.startswith(pattern) and d[len(pattern):].isdigit()]\n",
    "latest_directory = max(filtered_directories, key=lambda x: int(re.search(r'\\d+$', x).group()))\n",
    "image_path = os.path.join(parent_directory, latest_directory, \"inputImage.jpg\").replace('\\\\', '/')\n",
    "image_path"
   ]
  },
  {
   "cell_type": "code",
   "execution_count": 43,
   "metadata": {},
   "outputs": [],
   "source": [
    "output_path = 'output/result'\n",
    "if not os.path.exists(output_path):\n",
    "     os.makedirs(output_path, exist_ok=True)"
   ]
  },
  {
   "cell_type": "code",
   "execution_count": 44,
   "metadata": {},
   "outputs": [],
   "source": [
    "segment_cracks(image_path, output_path)\n"
   ]
  },
  {
   "cell_type": "code",
   "execution_count": 45,
   "metadata": {},
   "outputs": [],
   "source": [
    "segmented_image = cv2.imread(image_path)"
   ]
  },
  {
   "cell_type": "code",
   "execution_count": 46,
   "metadata": {},
   "outputs": [],
   "source": [
    "gray_image = cv2.cvtColor(segmented_image, cv2.COLOR_BGR2GRAY)"
   ]
  },
  {
   "cell_type": "code",
   "execution_count": 47,
   "metadata": {},
   "outputs": [],
   "source": [
    "_, binary_image = cv2.threshold(gray_image, 1, 255, cv2.THRESH_BINARY)"
   ]
  },
  {
   "cell_type": "code",
   "execution_count": 48,
   "metadata": {},
   "outputs": [],
   "source": [
    "kernel = np.ones((250, 250), np.uint8)"
   ]
  },
  {
   "cell_type": "code",
   "execution_count": 49,
   "metadata": {},
   "outputs": [],
   "source": [
    "dilated_image = cv2.dilate(binary_image, kernel, iterations=1)"
   ]
  },
  {
   "cell_type": "code",
   "execution_count": 50,
   "metadata": {},
   "outputs": [
    {
     "data": {
      "text/plain": [
       "array([[255, 255, 255, ..., 255, 255, 255],\n",
       "       [255, 255, 255, ..., 255, 255, 255],\n",
       "       [255, 255, 255, ..., 255, 255, 255],\n",
       "       ...,\n",
       "       [255, 255, 255, ..., 255, 255, 255],\n",
       "       [255, 255, 255, ..., 255, 255, 255],\n",
       "       [255, 255, 255, ..., 255, 255, 255]], dtype=uint8)"
      ]
     },
     "execution_count": 50,
     "metadata": {},
     "output_type": "execute_result"
    }
   ],
   "source": [
    "dilated_image"
   ]
  },
  {
   "cell_type": "code",
   "execution_count": 51,
   "metadata": {},
   "outputs": [
    {
     "name": "stdout",
     "output_type": "stream",
     "text": [
      "Overall percentage of damage: 100.00%\n"
     ]
    }
   ],
   "source": [
    "total_segmented_area = 0\n",
    "segmented_area = np.count_nonzero(dilated_image) / (height * width) * 100\n",
    "total_segmented_area += segmented_area\n",
    "# Calculate the overall percentage of damage of the wall\n",
    "overall_percentage_damage = total_segmented_area\n",
    "\n",
    "print(f\"Overall percentage of damage: {overall_percentage_damage:.2f}%\")"
   ]
  },
  {
   "cell_type": "code",
   "execution_count": null,
   "metadata": {},
   "outputs": [],
   "source": []
  },
  {
   "cell_type": "code",
   "execution_count": null,
   "metadata": {},
   "outputs": [],
   "source": []
  },
  {
   "cell_type": "code",
   "execution_count": null,
   "metadata": {},
   "outputs": [],
   "source": []
  },
  {
   "cell_type": "code",
   "execution_count": null,
   "metadata": {},
   "outputs": [],
   "source": [
    "parent_folder = \"hrseg/results\"\n",
    "\n",
    "# Create parent folder and subfolders if they don't exist\n",
    "os.makedirs(parent_folder, exist_ok=True)\n",
    "os.makedirs(os.path.join(parent_folder, \"gray_scale\"), exist_ok=True)\n",
    "os.makedirs(os.path.join(parent_folder, \"after_dilated\"), exist_ok=True)"
   ]
  },
  {
   "cell_type": "code",
   "execution_count": null,
   "metadata": {},
   "outputs": [
    {
     "data": {
      "text/plain": [
       "True"
      ]
     },
     "execution_count": 24,
     "metadata": {},
     "output_type": "execute_result"
    }
   ],
   "source": [
    "output_dir = \"hrseg/results/gray_scale\"\n",
    "output_dir1 = \"hrseg/results/after_dilated\"\n",
    "\n",
    "\n",
    "cv2.imwrite(os.path.join(output_dir, \"wall_image.jpg\"), binary_image)\n",
    "cv2.imwrite(os.path.join(output_dir1, \"wall_image.jpg\"), dilated_image)"
   ]
  },
  {
   "cell_type": "code",
   "execution_count": null,
   "metadata": {},
   "outputs": [],
   "source": [
    "import base64\n",
    "with open(os.path.join(output_dir1, \"wall_image.jpg\"), \"rb\") as img_file:\n",
    "    encoded_img = base64.b64encode(img_file.read())"
   ]
  },
  {
   "cell_type": "code",
   "execution_count": null,
   "metadata": {},
   "outputs": [],
   "source": [
    "result = {\"image\": encoded_img.decode('utf-8')}"
   ]
  },
  {
   "cell_type": "code",
   "execution_count": null,
   "metadata": {},
   "outputs": [
    {
     "data": {
      "text/plain": [
       "{'image': '/9j/4AAQSkZJRgABAQAAAQABAAD/2wBDAAIBAQEBAQIBAQECAgICAgQDAgICAgUEBAMEBgUGBgYFBgYGBwkIBgcJBwYGCAsICQoKCgoKBggLDAsKDAkKCgr/wAALCAH0AfQBAREA/8QAHwAAAQUBAQEBAQEAAAAAAAAAAAECAwQFBgcICQoL/8QAtRAAAgEDAwIEAwUFBAQAAAF9AQIDAAQRBRIhMUEGE1FhByJxFDKBkaEII0KxwRVS0fAkM2JyggkKFhcYGRolJicoKSo0NTY3ODk6Q0RFRkdISUpTVFVWV1hZWmNkZWZnaGlqc3R1dnd4eXqDhIWGh4iJipKTlJWWl5iZmqKjpKWmp6ipqrKztLW2t7i5usLDxMXGx8jJytLT1NXW19jZ2uHi4+Tl5ufo6erx8vP09fb3+Pn6/9oACAEBAAA/AP38oooooooooooooooooooooooooooooooooooooooooooooooooooooooooooooooooooooooooooooooooooooooooooooooooooooooooooooooooooooooooooooooooooooooooooooooooooooooooooooooooooooooooooooooooooooooooooooooooooooooooooooooooooooooooooooooooooooooooooooooooooooooooooooooooooooooooooooooooooooooooooooooooooooooooooooooooooooooooooooooooooooooooooooooooooooooooooooooooooooooooooooooooooooooooooooooooooooooooooooooooooooooooooooooooooooooooooooooooooooooooooooooooooooooooooooooooooooooooooooooooooooooooooooooooooooooooooooooooooooooooooooooooooooooooooooooooooooooooooooooooooooooooooooooooooooooooooooooooooooooooooooooooooooooooooooooooooooooooooooooooooooooooooooooooooooooooooooooooooooooooooooooooooooooooooooooooooooooooooooooooooooooooooooooooooooooooooooooooooooooooooooooooooooooooooooooooooooooooooooooooooooooooooooooooooooooooooooooooooooooooooooooooooooooooooooooooooooooooooooooooooooooooooooooooooooooooooooooooooooooooooooooooooooooooooooooooooooooooooooooooooooooooooooooooooooooooooooooooooooooooooooooooooooooooooooooooooooooooooooooooooooooooooooooooooooooooooooooooooooooooooooooooooooooooooooooooooooooooooooooooooooooooooooooooooooooooooooooooooooooooooooooooooooooooooooooooooooooooooooooooooooooooooooooooooooooooooooooooooooooooooooooooooooooooooooooooooooooooooooooooooooooooooooooooooooooooooooooooooooooooooooooooooooooooooooooooooooooooooooooooooooooooooooooooooooooooooooooooooooooooooooooooooooooooooooooooooooooooooooooooooooooooooooooooooooooooooooooooooooooooooooooooooooooooooooooooooooooooooooooooooooooooooooooooooooooooooooooooooooooooooooooooooooooooooooooooooooooooooooooooooooooooooooooooooooooooooooooooooooooooooooooooooooooooooooooooooooooooooooooooooooooooooooooooooooooooooooooooooooooooooooooooooooooooooooooooooooooooooooooooooooooooooooooooooooooooooooooooooooooooooooooooooooooooooooooooooooooooooooooooooooooooooooooooooooooooooooooooooooooooooooooooooooooooooooooooooooooooooooooooooooooooooooooooooooooooooooooooooooooooooooooooooooooooooooooooooooooooooooooooooooooooooooooooooooooooooooooooooooooooooooooooooooooooooooooooooooooooooooooooooooooooooooooooooooooooooooooooooooooooooooooooooooooooooooooooooooooooooooooooooooooooooooooooooooooooooooooooooooooooooooooooooooooooooooooooooooooooooooooooooooooooooooooooooooooooooooooooooooooooooooooooooooooooooooooooooooooooooooooooooooooooooooooooooooooooooooooooooooooooooooooooooooooooooooooooooooooooooooooooooooooooooooooooooooooooooooooooooooooooooooooooooooooooooooooooooooooooooooooooooooooooooooooooooooooooooooooooooooooooooooooooooooooooooooooooooooooooooooooooooooooooooooooooooooooooooooooooooooooooooooooooooooooooooooooooooooooooooooooooooooooooooooooooooooooooooooooooooooooooooooooooooooooooooooooooooooooooooooooooooooooooooooooooooooooooooooooooooooooooooooooooooooooooooooooooooooooooooooooooooooooooooooooooooooooooooooooooooooooooooooooooooooooooooooooooooooooooooooooooooooooooooooooooooooooooooooooooooooooooooooooooooooooooooooooooooooooooooooooooooooooooooooooooooooooooooooooooooooooooooooooooooooooooooooooooooooooooooooooooooooooooooooooooooooooooooooooooooooooooooooooooooooooooooooooooooooooooooooooooooooooooooooooooooooooooooooooooooooooooooooooooooooooooooooooooooooooooooooooooooooooooooooooooooooooooooooooooooooooooooooooooooooooooooooooooooooooooooooooooooooooooooooooooooooooooooooooooooooooooooooooooooooooooooooooooooooooooooooooooooooooooooooooooooooooooooooooooooooooooooooooooooooooooooooooooooooooooooooooooooooooooooooooooooooooooooooooooooooooooooooooooooooooooooooooooooooooooooooooooooooooooooooooooooooooooooooooooooooooooooooooooooooooooooooooooooooooooooooooooooooooooooooooooooooooooooooooooooooooooooooooooooooooooooooooooooooooooooooooooooooooooooooooooooooooooooooooooooooooooooooooooooooooooooooooooooooooooooooooooooooooooooooooooooooooooooooooooooooooooooooooooooooooooooooooooooooooooooooooooooooooooooooooooooooooooooooooooooooooooooooooooooooooooooooooooooooooooooooooooooooooooooooooooooooooooooooooooooooooooooooooor//Z'}"
      ]
     },
     "execution_count": 28,
     "metadata": {},
     "output_type": "execute_result"
    }
   ],
   "source": [
    "result"
   ]
  },
  {
   "cell_type": "code",
   "execution_count": null,
   "metadata": {},
   "outputs": [],
   "source": []
  },
  {
   "cell_type": "code",
   "execution_count": null,
   "metadata": {},
   "outputs": [],
   "source": []
  },
  {
   "cell_type": "code",
   "execution_count": null,
   "metadata": {},
   "outputs": [],
   "source": []
  },
  {
   "cell_type": "code",
   "execution_count": null,
   "metadata": {},
   "outputs": [],
   "source": []
  },
  {
   "cell_type": "code",
   "execution_count": null,
   "metadata": {},
   "outputs": [],
   "source": []
  },
  {
   "cell_type": "code",
   "execution_count": null,
   "metadata": {},
   "outputs": [],
   "source": []
  },
  {
   "cell_type": "code",
   "execution_count": null,
   "metadata": {},
   "outputs": [],
   "source": []
  },
  {
   "cell_type": "code",
   "execution_count": null,
   "metadata": {},
   "outputs": [],
   "source": []
  },
  {
   "cell_type": "code",
   "execution_count": null,
   "metadata": {},
   "outputs": [],
   "source": []
  },
  {
   "cell_type": "code",
   "execution_count": null,
   "metadata": {},
   "outputs": [],
   "source": []
  },
  {
   "cell_type": "code",
   "execution_count": null,
   "metadata": {},
   "outputs": [],
   "source": []
  },
  {
   "cell_type": "code",
   "execution_count": null,
   "metadata": {},
   "outputs": [],
   "source": []
  },
  {
   "cell_type": "code",
   "execution_count": null,
   "metadata": {},
   "outputs": [],
   "source": []
  },
  {
   "cell_type": "code",
   "execution_count": null,
   "metadata": {},
   "outputs": [],
   "source": []
  }
 ],
 "metadata": {
  "kernelspec": {
   "display_name": "CrackSeg",
   "language": "python",
   "name": "python3"
  },
  "language_info": {
   "codemirror_mode": {
    "name": "ipython",
    "version": 3
   },
   "file_extension": ".py",
   "mimetype": "text/x-python",
   "name": "python",
   "nbconvert_exporter": "python",
   "pygments_lexer": "ipython3",
   "version": "3.9.19"
  }
 },
 "nbformat": 4,
 "nbformat_minor": 2
}
