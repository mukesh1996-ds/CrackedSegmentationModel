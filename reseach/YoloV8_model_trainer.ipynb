{
  "cells": [
    {
      "cell_type": "markdown",
      "metadata": {
        "id": "1BVOBcdpCovN"
      },
      "source": [
        "# Model Trainer Using YoloV8 (pre-trained model)"
      ]
    },
    {
      "cell_type": "markdown",
      "metadata": {
        "id": "7rU6divhC77K"
      },
      "source": [
        "Ultralytics YOLOv8 is a cutting-edge, state-of-the-art (SOTA) model that builds upon the success of previous YOLO versions and introduces new features and improvements to further boost performance and flexibility. YOLOv8 is designed to be fast, accurate, and easy to use, making it an excellent choice for a wide range of object detection and tracking, instance segmentation, image classification and pose estimation tasks."
      ]
    },
    {
      "cell_type": "markdown",
      "metadata": {
        "id": "ldK278moDOyp"
      },
      "source": [
        "Reference GitHub [link](https://github.com/ultralytics/ultralytics)"
      ]
    },
    {
      "cell_type": "markdown",
      "metadata": {
        "id": "LU7qdBiuDYIf"
      },
      "source": [
        "## Let's start with the installation of requirements."
      ]
    },
    {
      "cell_type": "code",
      "execution_count": 13,
      "metadata": {
        "colab": {
          "base_uri": "https://localhost:8080/"
        },
        "id": "iN35Pd8HD8Ja",
        "outputId": "7c2ed211-66f2-43f6-d50a-d208a5d24f12"
      },
      "outputs": [
        {
          "name": "stdout",
          "output_type": "stream",
          "text": [
            "Ultralytics YOLOv8.1.47 🚀 Python-3.10.12 torch-2.2.1+cu121 CUDA:0 (Tesla T4, 15102MiB)\n",
            "Setup complete ✅ (2 CPUs, 12.7 GB RAM, 29.3/78.2 GB disk)\n"
          ]
        }
      ],
      "source": [
        "# Requited packages\n",
        "import os\n",
        "from google.colab import drive\n",
        "from roboflow import Roboflow\n",
        "import yaml\n",
        "from IPython import display\n",
        "display.clear_output()\n",
        "\n",
        "import ultralytics\n",
        "ultralytics.checks()\n",
        "\n",
        "from ultralytics import YOLO\n",
        "from IPython.display import display, Image"
      ]
    },
    {
      "cell_type": "code",
      "execution_count": 2,
      "metadata": {
        "colab": {
          "base_uri": "https://localhost:8080/"
        },
        "id": "j7KNtK9YB5TN",
        "outputId": "1b5ec2e0-cef3-4a7e-a2dd-f9e845d83092"
      },
      "outputs": [
        {
          "name": "stdout",
          "output_type": "stream",
          "text": [
            "Drive already mounted at /content/drive; to attempt to forcibly remount, call drive.mount(\"/content/drive\", force_remount=True).\n"
          ]
        }
      ],
      "source": [
        "# let's mount our google drive first\n",
        "drive.mount('/content/drive')"
      ]
    },
    {
      "cell_type": "code",
      "execution_count": 3,
      "metadata": {
        "colab": {
          "base_uri": "https://localhost:8080/",
          "height": 35
        },
        "id": "btxqMBAWDxFS",
        "outputId": "0ab927fa-352b-4ce9-e68c-b03510ac7070"
      },
      "outputs": [
        {
          "data": {
            "application/vnd.google.colaboratory.intrinsic+json": {
              "type": "string"
            },
            "text/plain": [
              "'/content/drive/MyDrive/Crack Segmentation using YoloV8'"
            ]
          },
          "execution_count": 3,
          "metadata": {},
          "output_type": "execute_result"
        }
      ],
      "source": [
        "# Once Conneted we will change the current working directory.\n",
        "os.getcwd()\n",
        "os.chdir(\"/content/drive/MyDrive/Crack Segmentation using YoloV8\")\n",
        "HOME = os.getcwd()\n",
        "HOME"
      ]
    },
    {
      "cell_type": "markdown",
      "metadata": {
        "id": "L4CglMY8Ed08"
      },
      "source": [
        "Once my working directory is set will check the list of files present inside my directory"
      ]
    },
    {
      "cell_type": "code",
      "execution_count": 4,
      "metadata": {
        "colab": {
          "base_uri": "https://localhost:8080/"
        },
        "id": "q4mwszIcEbCv",
        "outputId": "78d9db11-ed23-483e-dfde-21a40b22272b"
      },
      "outputs": [
        {
          "name": "stdout",
          "output_type": "stream",
          "text": [
            "\u001b[0m\u001b[01;34mimages\u001b[0m/  requirements.txt  YoloV8_model_trainer.ipynb\n"
          ]
        }
      ],
      "source": [
        "ls"
      ]
    },
    {
      "cell_type": "markdown",
      "metadata": {
        "id": "WUiLLWmxEpGB"
      },
      "source": [
        "Here we can see that I have one folder called `images`, `requirement file` and `one notebook`."
      ]
    },
    {
      "cell_type": "markdown",
      "metadata": {
        "id": "C2GKhvRbFBAj"
      },
      "source": [
        "## Let's install the requirements"
      ]
    },
    {
      "cell_type": "code",
      "execution_count": 5,
      "metadata": {
        "colab": {
          "base_uri": "https://localhost:8080/"
        },
        "id": "nX0f0oPcEm8W",
        "outputId": "8f4cffc2-2cde-4c3a-d773-3f91261968b7"
      },
      "outputs": [
        {
          "name": "stdout",
          "output_type": "stream",
          "text": [
            "Requirement already satisfied: roboflow in /usr/local/lib/python3.10/dist-packages (from -r requirements.txt (line 1)) (1.1.27)\n",
            "Requirement already satisfied: ultralytics in /usr/local/lib/python3.10/dist-packages (from -r requirements.txt (line 2)) (8.1.47)\n",
            "Requirement already satisfied: certifi==2023.7.22 in /usr/local/lib/python3.10/dist-packages (from roboflow->-r requirements.txt (line 1)) (2023.7.22)\n",
            "Requirement already satisfied: chardet==4.0.0 in /usr/local/lib/python3.10/dist-packages (from roboflow->-r requirements.txt (line 1)) (4.0.0)\n",
            "Requirement already satisfied: cycler==0.10.0 in /usr/local/lib/python3.10/dist-packages (from roboflow->-r requirements.txt (line 1)) (0.10.0)\n",
            "Requirement already satisfied: idna==2.10 in /usr/local/lib/python3.10/dist-packages (from roboflow->-r requirements.txt (line 1)) (2.10)\n",
            "Requirement already satisfied: kiwisolver>=1.3.1 in /usr/local/lib/python3.10/dist-packages (from roboflow->-r requirements.txt (line 1)) (1.4.5)\n",
            "Requirement already satisfied: matplotlib in /usr/local/lib/python3.10/dist-packages (from roboflow->-r requirements.txt (line 1)) (3.7.1)\n",
            "Requirement already satisfied: numpy>=1.18.5 in /usr/local/lib/python3.10/dist-packages (from roboflow->-r requirements.txt (line 1)) (1.25.2)\n",
            "Requirement already satisfied: opencv-python-headless==4.8.0.74 in /usr/local/lib/python3.10/dist-packages (from roboflow->-r requirements.txt (line 1)) (4.8.0.74)\n",
            "Requirement already satisfied: Pillow>=7.1.2 in /usr/local/lib/python3.10/dist-packages (from roboflow->-r requirements.txt (line 1)) (9.4.0)\n",
            "Requirement already satisfied: python-dateutil in /usr/local/lib/python3.10/dist-packages (from roboflow->-r requirements.txt (line 1)) (2.8.2)\n",
            "Requirement already satisfied: python-dotenv in /usr/local/lib/python3.10/dist-packages (from roboflow->-r requirements.txt (line 1)) (1.0.1)\n",
            "Requirement already satisfied: requests in /usr/local/lib/python3.10/dist-packages (from roboflow->-r requirements.txt (line 1)) (2.31.0)\n",
            "Requirement already satisfied: six in /usr/local/lib/python3.10/dist-packages (from roboflow->-r requirements.txt (line 1)) (1.16.0)\n",
            "Requirement already satisfied: urllib3>=1.26.6 in /usr/local/lib/python3.10/dist-packages (from roboflow->-r requirements.txt (line 1)) (2.0.7)\n",
            "Requirement already satisfied: tqdm>=4.41.0 in /usr/local/lib/python3.10/dist-packages (from roboflow->-r requirements.txt (line 1)) (4.66.2)\n",
            "Requirement already satisfied: PyYAML>=5.3.1 in /usr/local/lib/python3.10/dist-packages (from roboflow->-r requirements.txt (line 1)) (6.0.1)\n",
            "Requirement already satisfied: requests-toolbelt in /usr/local/lib/python3.10/dist-packages (from roboflow->-r requirements.txt (line 1)) (1.0.0)\n",
            "Requirement already satisfied: python-magic in /usr/local/lib/python3.10/dist-packages (from roboflow->-r requirements.txt (line 1)) (0.4.27)\n",
            "Requirement already satisfied: opencv-python>=4.6.0 in /usr/local/lib/python3.10/dist-packages (from ultralytics->-r requirements.txt (line 2)) (4.8.0.76)\n",
            "Requirement already satisfied: scipy>=1.4.1 in /usr/local/lib/python3.10/dist-packages (from ultralytics->-r requirements.txt (line 2)) (1.11.4)\n",
            "Requirement already satisfied: torch>=1.8.0 in /usr/local/lib/python3.10/dist-packages (from ultralytics->-r requirements.txt (line 2)) (2.2.1+cu121)\n",
            "Requirement already satisfied: torchvision>=0.9.0 in /usr/local/lib/python3.10/dist-packages (from ultralytics->-r requirements.txt (line 2)) (0.17.1+cu121)\n",
            "Requirement already satisfied: psutil in /usr/local/lib/python3.10/dist-packages (from ultralytics->-r requirements.txt (line 2)) (5.9.5)\n",
            "Requirement already satisfied: py-cpuinfo in /usr/local/lib/python3.10/dist-packages (from ultralytics->-r requirements.txt (line 2)) (9.0.0)\n",
            "Requirement already satisfied: thop>=0.1.1 in /usr/local/lib/python3.10/dist-packages (from ultralytics->-r requirements.txt (line 2)) (0.1.1.post2209072238)\n",
            "Requirement already satisfied: pandas>=1.1.4 in /usr/local/lib/python3.10/dist-packages (from ultralytics->-r requirements.txt (line 2)) (2.0.3)\n",
            "Requirement already satisfied: seaborn>=0.11.0 in /usr/local/lib/python3.10/dist-packages (from ultralytics->-r requirements.txt (line 2)) (0.13.1)\n",
            "Requirement already satisfied: contourpy>=1.0.1 in /usr/local/lib/python3.10/dist-packages (from matplotlib->roboflow->-r requirements.txt (line 1)) (1.2.1)\n",
            "Requirement already satisfied: fonttools>=4.22.0 in /usr/local/lib/python3.10/dist-packages (from matplotlib->roboflow->-r requirements.txt (line 1)) (4.51.0)\n",
            "Requirement already satisfied: packaging>=20.0 in /usr/local/lib/python3.10/dist-packages (from matplotlib->roboflow->-r requirements.txt (line 1)) (24.0)\n",
            "Requirement already satisfied: pyparsing>=2.3.1 in /usr/local/lib/python3.10/dist-packages (from matplotlib->roboflow->-r requirements.txt (line 1)) (3.1.2)\n",
            "Requirement already satisfied: pytz>=2020.1 in /usr/local/lib/python3.10/dist-packages (from pandas>=1.1.4->ultralytics->-r requirements.txt (line 2)) (2023.4)\n",
            "Requirement already satisfied: tzdata>=2022.1 in /usr/local/lib/python3.10/dist-packages (from pandas>=1.1.4->ultralytics->-r requirements.txt (line 2)) (2024.1)\n",
            "Requirement already satisfied: charset-normalizer<4,>=2 in /usr/local/lib/python3.10/dist-packages (from requests->roboflow->-r requirements.txt (line 1)) (3.3.2)\n",
            "Requirement already satisfied: filelock in /usr/local/lib/python3.10/dist-packages (from torch>=1.8.0->ultralytics->-r requirements.txt (line 2)) (3.13.4)\n",
            "Requirement already satisfied: typing-extensions>=4.8.0 in /usr/local/lib/python3.10/dist-packages (from torch>=1.8.0->ultralytics->-r requirements.txt (line 2)) (4.11.0)\n",
            "Requirement already satisfied: sympy in /usr/local/lib/python3.10/dist-packages (from torch>=1.8.0->ultralytics->-r requirements.txt (line 2)) (1.12)\n",
            "Requirement already satisfied: networkx in /usr/local/lib/python3.10/dist-packages (from torch>=1.8.0->ultralytics->-r requirements.txt (line 2)) (3.3)\n",
            "Requirement already satisfied: jinja2 in /usr/local/lib/python3.10/dist-packages (from torch>=1.8.0->ultralytics->-r requirements.txt (line 2)) (3.1.3)\n",
            "Requirement already satisfied: fsspec in /usr/local/lib/python3.10/dist-packages (from torch>=1.8.0->ultralytics->-r requirements.txt (line 2)) (2023.6.0)\n",
            "Requirement already satisfied: nvidia-cuda-nvrtc-cu12==12.1.105 in /usr/local/lib/python3.10/dist-packages (from torch>=1.8.0->ultralytics->-r requirements.txt (line 2)) (12.1.105)\n",
            "Requirement already satisfied: nvidia-cuda-runtime-cu12==12.1.105 in /usr/local/lib/python3.10/dist-packages (from torch>=1.8.0->ultralytics->-r requirements.txt (line 2)) (12.1.105)\n",
            "Requirement already satisfied: nvidia-cuda-cupti-cu12==12.1.105 in /usr/local/lib/python3.10/dist-packages (from torch>=1.8.0->ultralytics->-r requirements.txt (line 2)) (12.1.105)\n",
            "Requirement already satisfied: nvidia-cudnn-cu12==8.9.2.26 in /usr/local/lib/python3.10/dist-packages (from torch>=1.8.0->ultralytics->-r requirements.txt (line 2)) (8.9.2.26)\n",
            "Requirement already satisfied: nvidia-cublas-cu12==12.1.3.1 in /usr/local/lib/python3.10/dist-packages (from torch>=1.8.0->ultralytics->-r requirements.txt (line 2)) (12.1.3.1)\n",
            "Requirement already satisfied: nvidia-cufft-cu12==11.0.2.54 in /usr/local/lib/python3.10/dist-packages (from torch>=1.8.0->ultralytics->-r requirements.txt (line 2)) (11.0.2.54)\n",
            "Requirement already satisfied: nvidia-curand-cu12==10.3.2.106 in /usr/local/lib/python3.10/dist-packages (from torch>=1.8.0->ultralytics->-r requirements.txt (line 2)) (10.3.2.106)\n",
            "Requirement already satisfied: nvidia-cusolver-cu12==11.4.5.107 in /usr/local/lib/python3.10/dist-packages (from torch>=1.8.0->ultralytics->-r requirements.txt (line 2)) (11.4.5.107)\n",
            "Requirement already satisfied: nvidia-cusparse-cu12==12.1.0.106 in /usr/local/lib/python3.10/dist-packages (from torch>=1.8.0->ultralytics->-r requirements.txt (line 2)) (12.1.0.106)\n",
            "Requirement already satisfied: nvidia-nccl-cu12==2.19.3 in /usr/local/lib/python3.10/dist-packages (from torch>=1.8.0->ultralytics->-r requirements.txt (line 2)) (2.19.3)\n",
            "Requirement already satisfied: nvidia-nvtx-cu12==12.1.105 in /usr/local/lib/python3.10/dist-packages (from torch>=1.8.0->ultralytics->-r requirements.txt (line 2)) (12.1.105)\n",
            "Requirement already satisfied: triton==2.2.0 in /usr/local/lib/python3.10/dist-packages (from torch>=1.8.0->ultralytics->-r requirements.txt (line 2)) (2.2.0)\n",
            "Requirement already satisfied: nvidia-nvjitlink-cu12 in /usr/local/lib/python3.10/dist-packages (from nvidia-cusolver-cu12==11.4.5.107->torch>=1.8.0->ultralytics->-r requirements.txt (line 2)) (12.4.127)\n",
            "Requirement already satisfied: MarkupSafe>=2.0 in /usr/local/lib/python3.10/dist-packages (from jinja2->torch>=1.8.0->ultralytics->-r requirements.txt (line 2)) (2.1.5)\n",
            "Requirement already satisfied: mpmath>=0.19 in /usr/local/lib/python3.10/dist-packages (from sympy->torch>=1.8.0->ultralytics->-r requirements.txt (line 2)) (1.3.0)\n"
          ]
        }
      ],
      "source": [
        "!pip install -r requirements.txt"
      ]
    },
    {
      "cell_type": "code",
      "execution_count": 7,
      "metadata": {
        "colab": {
          "base_uri": "https://localhost:8080/"
        },
        "id": "isVJK_T6FH5o",
        "outputId": "cd62d631-6905-403e-84c7-0ea5835334f2"
      },
      "outputs": [
        {
          "name": "stdout",
          "output_type": "stream",
          "text": [
            "loading Roboflow workspace...\n",
            "loading Roboflow project...\n",
            "Dependency ultralytics==8.0.196 is required but found version=8.1.47, to fix: `pip install ultralytics==8.0.196`\n"
          ]
        },
        {
          "name": "stderr",
          "output_type": "stream",
          "text": [
            "Downloading Dataset Version Zip in cracks-segmentation-asphalt--2 to yolov8:: 100%|██████████| 66630/66630 [00:06<00:00, 10632.37it/s]\n"
          ]
        },
        {
          "name": "stdout",
          "output_type": "stream",
          "text": [
            "\n"
          ]
        },
        {
          "name": "stderr",
          "output_type": "stream",
          "text": [
            "Extracting Dataset Version Zip to cracks-segmentation-asphalt--2 in yolov8:: 100%|██████████| 1754/1754 [00:13<00:00, 132.28it/s]\n"
          ]
        }
      ],
      "source": [
        "rf = Roboflow(api_key=\"UCWMFFBFrWDrLmQwAkYG\")\n",
        "project = rf.workspace(\"phd-valerio-perri\").project(\"cracks-segmentation-asphalt\")\n",
        "version = project.version(2)\n",
        "dataset = version.download(\"yolov8\")\n"
      ]
    },
    {
      "cell_type": "code",
      "execution_count": 10,
      "metadata": {
        "id": "cy62GojPIeUT"
      },
      "outputs": [],
      "source": [
        "yaml_file = \"/content/drive/MyDrive/Crack Segmentation using YoloV8/data.yaml\"\n",
        "\n",
        "with open(yaml_file, 'r') as f:\n",
        "  data = yaml.load(f, Loader=yaml.SafeLoader)"
      ]
    },
    {
      "cell_type": "code",
      "execution_count": 11,
      "metadata": {
        "colab": {
          "base_uri": "https://localhost:8080/"
        },
        "id": "R9LP0MVpImNs",
        "outputId": "9abf86d1-1f10-45f7-aa7c-ca88d5d3ca48"
      },
      "outputs": [
        {
          "data": {
            "text/plain": [
              "{'names': ['Cracks'],\n",
              " 'nc': 1,\n",
              " 'roboflow': {'license': 'CC BY 4.0',\n",
              "  'project': 'cracks-segmentation-asphalt',\n",
              "  'url': 'https://universe.roboflow.com/phd-valerio-perri/cracks-segmentation-asphalt/dataset/2',\n",
              "  'version': 2,\n",
              "  'workspace': 'phd-valerio-perri'},\n",
              " 'test': '/content/drive/MyDrive/Crack Segmentation using YoloV8/cracks-segmentation-asphalt--2/test/images',\n",
              " 'train': '/content/drive/MyDrive/Crack Segmentation using YoloV8/cracks-segmentation-asphalt--2/train/images',\n",
              " 'val': '/content/drive/MyDrive/Crack Segmentation using YoloV8/cracks-segmentation-asphalt--2/valid/images'}"
            ]
          },
          "execution_count": 11,
          "metadata": {},
          "output_type": "execute_result"
        }
      ],
      "source": [
        "data"
      ]
    },
    {
      "cell_type": "code",
      "execution_count": 14,
      "metadata": {
        "colab": {
          "base_uri": "https://localhost:8080/"
        },
        "id": "KhYGvEjAInr-",
        "outputId": "af126b3f-f1a0-4d59-94c7-d0059c5fd75b"
      },
      "outputs": [
        {
          "name": "stdout",
          "output_type": "stream",
          "text": [
            "Downloading https://github.com/ultralytics/assets/releases/download/v8.1.0/yolov8s-seg.pt to '/content/drive/MyDrive/Crack Segmentation using YoloV8/yolov8s-seg.pt'...\n"
          ]
        },
        {
          "name": "stderr",
          "output_type": "stream",
          "text": [
            "100%|██████████| 22.8M/22.8M [00:00<00:00, 134MB/s]\n"
          ]
        }
      ],
      "source": [
        "model = YOLO(f'{HOME}/yolov8s-seg.pt')  # download the pre-trained model"
      ]
    },
    {
      "cell_type": "markdown",
      "metadata": {
        "id": "HESUR441I54F"
      },
      "source": [
        "Test the pre-trained model"
      ]
    },
    {
      "cell_type": "code",
      "execution_count": 16,
      "metadata": {
        "colab": {
          "base_uri": "https://localhost:8080/"
        },
        "id": "hv5lypHyI1uG",
        "outputId": "385a2b14-be4d-42e9-d65d-891f5afa2cdc"
      },
      "outputs": [
        {
          "name": "stdout",
          "output_type": "stream",
          "text": [
            "\n",
            "Found https://media.roboflow.com/notebooks/examples/dog.jpeg locally at dog.jpeg\n",
            "image 1/1 /content/drive/MyDrive/Crack Segmentation using YoloV8/dog.jpeg: 640x384 1 person, 1 car, 41.1ms\n",
            "Speed: 9.3ms preprocess, 41.1ms inference, 9.1ms postprocess per image at shape (1, 3, 640, 384)\n",
            "Results saved to \u001b[1mruns/segment/predict\u001b[0m\n"
          ]
        }
      ],
      "source": [
        "new_image = model.predict(source=\"https://media.roboflow.com/notebooks/examples/dog.jpeg\",\n",
        "                          conf=0.5, save=True)"
      ]
    },
    {
      "cell_type": "markdown",
      "metadata": {
        "id": "obtopOKPJEDi"
      },
      "source": [
        "From the above we can see the output of the images"
      ]
    },
    {
      "cell_type": "code",
      "execution_count": 17,
      "metadata": {
        "colab": {
          "base_uri": "https://localhost:8080/"
        },
        "id": "fIhAiPzNKUcl",
        "outputId": "ef1582b4-1973-413f-9b44-726625cd537c"
      },
      "outputs": [
        {
          "name": "stdout",
          "output_type": "stream",
          "text": [
            "\n",
            "Found https://media.roboflow.com/notebooks/examples/dog.jpeg locally at dog.jpeg\n",
            "image 1/1 /content/drive/MyDrive/Crack Segmentation using YoloV8/dog.jpeg: 640x384 1 person, 1 car, 1 dog, 1 backpack, 1 handbag, 27.6ms\n",
            "Speed: 2.0ms preprocess, 27.6ms inference, 9.7ms postprocess per image at shape (1, 3, 640, 384)\n"
          ]
        }
      ],
      "source": [
        "model = YOLO(f'{HOME}/yolov8s-seg.pt')\n",
        "results = model.predict(source='https://media.roboflow.com/notebooks/examples/dog.jpeg', conf=0.25)"
      ]
    },
    {
      "cell_type": "code",
      "execution_count": 18,
      "metadata": {
        "colab": {
          "base_uri": "https://localhost:8080/"
        },
        "id": "26_fsqrXKcqn",
        "outputId": "24d27d55-7032-4e5b-e666-5ea3ace839c1"
      },
      "outputs": [
        {
          "data": {
            "text/plain": [
              "tensor([[4.4446e+00, 3.0434e+02, 6.4261e+02, 1.2755e+03],\n",
              "        [6.2834e+02, 7.3451e+02, 6.9819e+02, 7.8832e+02],\n",
              "        [3.5369e+01, 2.4992e+02, 6.4884e+02, 1.2759e+03],\n",
              "        [3.3150e+02, 6.4431e+02, 5.3794e+02, 1.2545e+03],\n",
              "        [8.8925e-01, 6.6045e+02, 4.4417e+02, 1.2785e+03]], device='cuda:0')"
            ]
          },
          "execution_count": 18,
          "metadata": {},
          "output_type": "execute_result"
        }
      ],
      "source": [
        "results[0].boxes.xyxy"
      ]
    },
    {
      "cell_type": "code",
      "execution_count": 19,
      "metadata": {
        "colab": {
          "base_uri": "https://localhost:8080/"
        },
        "id": "HUNI2NpnKhVY",
        "outputId": "71857dc4-419d-4080-96a7-444ba63ea077"
      },
      "outputs": [
        {
          "data": {
            "text/plain": [
              "tensor([0.6489, 0.5239, 0.3784, 0.3442, 0.2668], device='cuda:0')"
            ]
          },
          "execution_count": 19,
          "metadata": {},
          "output_type": "execute_result"
        }
      ],
      "source": [
        "results[0].boxes.conf"
      ]
    },
    {
      "cell_type": "code",
      "execution_count": 20,
      "metadata": {
        "colab": {
          "base_uri": "https://localhost:8080/"
        },
        "id": "yalJl1NPKhTH",
        "outputId": "fbadf415-a60e-4095-a656-d191b20a1b46"
      },
      "outputs": [
        {
          "data": {
            "text/plain": [
              "tensor([ 0.,  2., 16., 26., 24.], device='cuda:0')"
            ]
          },
          "execution_count": 20,
          "metadata": {},
          "output_type": "execute_result"
        }
      ],
      "source": [
        "results[0].boxes.cls"
      ]
    },
    {
      "cell_type": "markdown",
      "metadata": {
        "id": "c8JB6owpLCoo"
      },
      "source": [
        "## Custom training"
      ]
    },
    {
      "cell_type": "code",
      "execution_count": 29,
      "metadata": {
        "colab": {
          "base_uri": "https://localhost:8080/"
        },
        "id": "yv9W0bCPKhMA",
        "outputId": "560a6cc3-efdb-4f69-de48-20e5b74d0db4"
      },
      "outputs": [
        {
          "name": "stdout",
          "output_type": "stream",
          "text": [
            "Downloading https://github.com/ultralytics/assets/releases/download/v8.1.0/yolov8n-seg.pt to 'yolov8n-seg.pt'...\n"
          ]
        },
        {
          "name": "stderr",
          "output_type": "stream",
          "text": [
            "100%|██████████| 6.73M/6.73M [00:00<00:00, 87.6MB/s]\n"
          ]
        },
        {
          "name": "stdout",
          "output_type": "stream",
          "text": [
            "Ultralytics YOLOv8.1.47 🚀 Python-3.10.12 torch-2.2.1+cu121 CUDA:0 (Tesla T4, 15102MiB)\n",
            "\u001b[34m\u001b[1mengine/trainer: \u001b[0mtask=segment, mode=train, model=yolov8n-seg.pt, data=/content/drive/MyDrive/Crack Segmentation using YoloV8/data.yaml, epochs=100, time=None, patience=100, batch=16, imgsz=640, save=True, save_period=-1, cache=False, device=None, workers=8, project=None, name=train3, exist_ok=False, pretrained=True, optimizer=auto, verbose=True, seed=0, deterministic=True, single_cls=False, rect=False, cos_lr=False, close_mosaic=10, resume=False, amp=True, fraction=1.0, profile=False, freeze=None, multi_scale=False, overlap_mask=True, mask_ratio=4, dropout=0.0, val=True, split=val, save_json=False, save_hybrid=False, conf=None, iou=0.7, max_det=300, half=False, dnn=False, plots=True, source=None, vid_stride=1, stream_buffer=False, visualize=False, augment=False, agnostic_nms=False, classes=None, retina_masks=False, embed=None, show=False, save_frames=False, save_txt=False, save_conf=False, save_crop=False, show_labels=True, show_conf=True, show_boxes=True, line_width=None, format=torchscript, keras=False, optimize=False, int8=False, dynamic=False, simplify=False, opset=None, workspace=4, nms=False, lr0=0.01, lrf=0.01, momentum=0.937, weight_decay=0.0005, warmup_epochs=3.0, warmup_momentum=0.8, warmup_bias_lr=0.1, box=7.5, cls=0.5, dfl=1.5, pose=12.0, kobj=1.0, label_smoothing=0.0, nbs=64, hsv_h=0.015, hsv_s=0.7, hsv_v=0.4, degrees=0.0, translate=0.1, scale=0.5, shear=0.0, perspective=0.0, flipud=0.0, fliplr=0.5, bgr=0.0, mosaic=1.0, mixup=0.0, copy_paste=0.0, auto_augment=randaugment, erasing=0.4, crop_fraction=1.0, cfg=None, tracker=botsort.yaml, save_dir=runs/segment/train3\n",
            "Downloading https://ultralytics.com/assets/Arial.ttf to '/root/.config/Ultralytics/Arial.ttf'...\n"
          ]
        },
        {
          "name": "stderr",
          "output_type": "stream",
          "text": [
            "100%|██████████| 755k/755k [00:00<00:00, 24.0MB/s]\n"
          ]
        },
        {
          "name": "stdout",
          "output_type": "stream",
          "text": [
            "Overriding model.yaml nc=80 with nc=1\n",
            "\n",
            "                   from  n    params  module                                       arguments                     \n",
            "  0                  -1  1       464  ultralytics.nn.modules.conv.Conv             [3, 16, 3, 2]                 \n",
            "  1                  -1  1      4672  ultralytics.nn.modules.conv.Conv             [16, 32, 3, 2]                \n",
            "  2                  -1  1      7360  ultralytics.nn.modules.block.C2f             [32, 32, 1, True]             \n",
            "  3                  -1  1     18560  ultralytics.nn.modules.conv.Conv             [32, 64, 3, 2]                \n",
            "  4                  -1  2     49664  ultralytics.nn.modules.block.C2f             [64, 64, 2, True]             \n",
            "  5                  -1  1     73984  ultralytics.nn.modules.conv.Conv             [64, 128, 3, 2]               \n",
            "  6                  -1  2    197632  ultralytics.nn.modules.block.C2f             [128, 128, 2, True]           \n",
            "  7                  -1  1    295424  ultralytics.nn.modules.conv.Conv             [128, 256, 3, 2]              \n",
            "  8                  -1  1    460288  ultralytics.nn.modules.block.C2f             [256, 256, 1, True]           \n",
            "  9                  -1  1    164608  ultralytics.nn.modules.block.SPPF            [256, 256, 5]                 \n",
            " 10                  -1  1         0  torch.nn.modules.upsampling.Upsample         [None, 2, 'nearest']          \n",
            " 11             [-1, 6]  1         0  ultralytics.nn.modules.conv.Concat           [1]                           \n",
            " 12                  -1  1    148224  ultralytics.nn.modules.block.C2f             [384, 128, 1]                 \n",
            " 13                  -1  1         0  torch.nn.modules.upsampling.Upsample         [None, 2, 'nearest']          \n",
            " 14             [-1, 4]  1         0  ultralytics.nn.modules.conv.Concat           [1]                           \n",
            " 15                  -1  1     37248  ultralytics.nn.modules.block.C2f             [192, 64, 1]                  \n",
            " 16                  -1  1     36992  ultralytics.nn.modules.conv.Conv             [64, 64, 3, 2]                \n",
            " 17            [-1, 12]  1         0  ultralytics.nn.modules.conv.Concat           [1]                           \n",
            " 18                  -1  1    123648  ultralytics.nn.modules.block.C2f             [192, 128, 1]                 \n",
            " 19                  -1  1    147712  ultralytics.nn.modules.conv.Conv             [128, 128, 3, 2]              \n",
            " 20             [-1, 9]  1         0  ultralytics.nn.modules.conv.Concat           [1]                           \n",
            " 21                  -1  1    493056  ultralytics.nn.modules.block.C2f             [384, 256, 1]                 \n",
            " 22        [15, 18, 21]  1   1004275  ultralytics.nn.modules.head.Segment          [1, 32, 64, [64, 128, 256]]   \n",
            "YOLOv8n-seg summary: 261 layers, 3263811 parameters, 3263795 gradients, 12.1 GFLOPs\n",
            "\n",
            "Transferred 381/417 items from pretrained weights\n",
            "\u001b[34m\u001b[1mTensorBoard: \u001b[0mStart with 'tensorboard --logdir runs/segment/train3', view at http://localhost:6006/\n",
            "Freezing layer 'model.22.dfl.conv.weight'\n",
            "\u001b[34m\u001b[1mAMP: \u001b[0mrunning Automatic Mixed Precision (AMP) checks with YOLOv8n...\n",
            "Downloading https://github.com/ultralytics/assets/releases/download/v8.1.0/yolov8n.pt to 'yolov8n.pt'...\n"
          ]
        },
        {
          "name": "stderr",
          "output_type": "stream",
          "text": [
            "100%|██████████| 6.23M/6.23M [00:00<00:00, 92.1MB/s]\n"
          ]
        },
        {
          "name": "stdout",
          "output_type": "stream",
          "text": [
            "\u001b[34m\u001b[1mAMP: \u001b[0mchecks passed ✅\n"
          ]
        },
        {
          "name": "stderr",
          "output_type": "stream",
          "text": [
            "\u001b[34m\u001b[1mtrain: \u001b[0mScanning /content/drive/MyDrive/Crack Segmentation using YoloV8/cracks-segmentation-asphalt--2/train/labels... 608 images, 2 backgrounds, 0 corrupt: 100%|██████████| 608/608 [00:07<00:00, 83.37it/s] \n"
          ]
        },
        {
          "name": "stdout",
          "output_type": "stream",
          "text": [
            "\u001b[34m\u001b[1mtrain: \u001b[0mNew cache created: /content/drive/MyDrive/Crack Segmentation using YoloV8/cracks-segmentation-asphalt--2/train/labels.cache\n",
            "\u001b[34m\u001b[1malbumentations: \u001b[0mBlur(p=0.01, blur_limit=(3, 7)), MedianBlur(p=0.01, blur_limit=(3, 7)), ToGray(p=0.01), CLAHE(p=0.01, clip_limit=(1, 4.0), tile_grid_size=(8, 8))\n"
          ]
        },
        {
          "name": "stderr",
          "output_type": "stream",
          "text": [
            "os.fork() was called. os.fork() is incompatible with multithreaded code, and JAX is multithreaded, so this will likely lead to a deadlock.\n",
            "\u001b[34m\u001b[1mval: \u001b[0mScanning /content/drive/MyDrive/Crack Segmentation using YoloV8/cracks-segmentation-asphalt--2/valid/labels... 174 images, 0 backgrounds, 0 corrupt: 100%|██████████| 174/174 [00:03<00:00, 54.38it/s]\n"
          ]
        },
        {
          "name": "stdout",
          "output_type": "stream",
          "text": [
            "\u001b[34m\u001b[1mval: \u001b[0mNew cache created: /content/drive/MyDrive/Crack Segmentation using YoloV8/cracks-segmentation-asphalt--2/valid/labels.cache\n",
            "Plotting labels to runs/segment/train3/labels.jpg... \n",
            "\u001b[34m\u001b[1moptimizer:\u001b[0m 'optimizer=auto' found, ignoring 'lr0=0.01' and 'momentum=0.937' and determining best 'optimizer', 'lr0' and 'momentum' automatically... \n",
            "\u001b[34m\u001b[1moptimizer:\u001b[0m AdamW(lr=0.002, momentum=0.9) with parameter groups 66 weight(decay=0.0), 77 weight(decay=0.0005), 76 bias(decay=0.0)\n",
            "\u001b[34m\u001b[1mTensorBoard: \u001b[0mmodel graph visualization added ✅\n",
            "Image sizes 640 train, 640 val\n",
            "Using 2 dataloader workers\n",
            "Logging results to \u001b[1mruns/segment/train3\u001b[0m\n",
            "Starting training for 100 epochs...\n",
            "\n",
            "      Epoch    GPU_mem   box_loss   seg_loss   cls_loss   dfl_loss  Instances       Size\n"
          ]
        },
        {
          "name": "stderr",
          "output_type": "stream",
          "text": [
            "      1/100      3.16G      1.907       3.94      2.858      1.789         56        640: 100%|██████████| 38/38 [00:24<00:00,  1.53it/s]\n",
            "                 Class     Images  Instances      Box(P          R      mAP50  mAP50-95)     Mask(P          R      mAP50  mAP50-95): 100%|██████████| 6/6 [00:04<00:00,  1.39it/s]"
          ]
        },
        {
          "name": "stdout",
          "output_type": "stream",
          "text": [
            "                   all        174        365      0.167      0.126     0.0708     0.0263      0.274     0.0521     0.0432    0.00797\n"
          ]
        },
        {
          "name": "stderr",
          "output_type": "stream",
          "text": [
            "\n"
          ]
        },
        {
          "name": "stdout",
          "output_type": "stream",
          "text": [
            "\n",
            "      Epoch    GPU_mem   box_loss   seg_loss   cls_loss   dfl_loss  Instances       Size\n"
          ]
        },
        {
          "name": "stderr",
          "output_type": "stream",
          "text": [
            "      2/100      3.12G      1.833      2.812      2.487      1.712         67        640: 100%|██████████| 38/38 [00:20<00:00,  1.88it/s]\n",
            "                 Class     Images  Instances      Box(P          R      mAP50  mAP50-95)     Mask(P          R      mAP50  mAP50-95): 100%|██████████| 6/6 [00:03<00:00,  1.55it/s]"
          ]
        },
        {
          "name": "stdout",
          "output_type": "stream",
          "text": [
            "                   all        174        365      0.097      0.173     0.0557     0.0194     0.0984     0.0712     0.0217    0.00497\n"
          ]
        },
        {
          "name": "stderr",
          "output_type": "stream",
          "text": [
            "\n"
          ]
        },
        {
          "name": "stdout",
          "output_type": "stream",
          "text": [
            "\n",
            "      Epoch    GPU_mem   box_loss   seg_loss   cls_loss   dfl_loss  Instances       Size\n"
          ]
        },
        {
          "name": "stderr",
          "output_type": "stream",
          "text": [
            "      3/100      2.97G      1.852      2.673       2.37      1.728         56        640: 100%|██████████| 38/38 [00:19<00:00,  1.95it/s]\n",
            "                 Class     Images  Instances      Box(P          R      mAP50  mAP50-95)     Mask(P          R      mAP50  mAP50-95): 100%|██████████| 6/6 [00:04<00:00,  1.24it/s]"
          ]
        },
        {
          "name": "stdout",
          "output_type": "stream",
          "text": [
            "                   all        174        365     0.0835      0.184     0.0578     0.0191     0.0626     0.0685     0.0243     0.0056\n"
          ]
        },
        {
          "name": "stderr",
          "output_type": "stream",
          "text": [
            "\n"
          ]
        },
        {
          "name": "stdout",
          "output_type": "stream",
          "text": [
            "\n",
            "      Epoch    GPU_mem   box_loss   seg_loss   cls_loss   dfl_loss  Instances       Size\n"
          ]
        },
        {
          "name": "stderr",
          "output_type": "stream",
          "text": [
            "      4/100      2.93G      1.851      2.596      2.319      1.733         47        640: 100%|██████████| 38/38 [00:18<00:00,  2.07it/s]\n",
            "                 Class     Images  Instances      Box(P          R      mAP50  mAP50-95)     Mask(P          R      mAP50  mAP50-95): 100%|██████████| 6/6 [00:03<00:00,  1.55it/s]"
          ]
        },
        {
          "name": "stdout",
          "output_type": "stream",
          "text": [
            "                   all        174        365      0.109      0.236      0.069     0.0248     0.0768       0.17     0.0282    0.00715\n"
          ]
        },
        {
          "name": "stderr",
          "output_type": "stream",
          "text": [
            "\n"
          ]
        },
        {
          "name": "stdout",
          "output_type": "stream",
          "text": [
            "\n",
            "      Epoch    GPU_mem   box_loss   seg_loss   cls_loss   dfl_loss  Instances       Size\n"
          ]
        },
        {
          "name": "stderr",
          "output_type": "stream",
          "text": [
            "      5/100      2.98G      1.831      2.603      2.276      1.734         73        640: 100%|██████████| 38/38 [00:20<00:00,  1.86it/s]\n",
            "                 Class     Images  Instances      Box(P          R      mAP50  mAP50-95)     Mask(P          R      mAP50  mAP50-95): 100%|██████████| 6/6 [00:03<00:00,  1.66it/s]"
          ]
        },
        {
          "name": "stdout",
          "output_type": "stream",
          "text": [
            "                   all        174        365     0.0983      0.189     0.0602     0.0209     0.0774      0.121     0.0323    0.00795\n"
          ]
        },
        {
          "name": "stderr",
          "output_type": "stream",
          "text": [
            "\n"
          ]
        },
        {
          "name": "stdout",
          "output_type": "stream",
          "text": [
            "\n",
            "      Epoch    GPU_mem   box_loss   seg_loss   cls_loss   dfl_loss  Instances       Size\n"
          ]
        },
        {
          "name": "stderr",
          "output_type": "stream",
          "text": [
            "      6/100       2.9G      1.739      2.484      2.157      1.665         41        640: 100%|██████████| 38/38 [00:18<00:00,  2.03it/s]\n",
            "                 Class     Images  Instances      Box(P          R      mAP50  mAP50-95)     Mask(P          R      mAP50  mAP50-95): 100%|██████████| 6/6 [00:05<00:00,  1.10it/s]"
          ]
        },
        {
          "name": "stdout",
          "output_type": "stream",
          "text": [
            "                   all        174        365      0.221      0.181      0.116     0.0449      0.173      0.142     0.0906     0.0234\n"
          ]
        },
        {
          "name": "stderr",
          "output_type": "stream",
          "text": [
            "\n"
          ]
        },
        {
          "name": "stdout",
          "output_type": "stream",
          "text": [
            "\n",
            "      Epoch    GPU_mem   box_loss   seg_loss   cls_loss   dfl_loss  Instances       Size\n"
          ]
        },
        {
          "name": "stderr",
          "output_type": "stream",
          "text": [
            "      7/100      2.96G       1.78      2.507      2.132      1.685         81        640: 100%|██████████| 38/38 [00:19<00:00,  1.97it/s]\n",
            "                 Class     Images  Instances      Box(P          R      mAP50  mAP50-95)     Mask(P          R      mAP50  mAP50-95): 100%|██████████| 6/6 [00:03<00:00,  1.65it/s]"
          ]
        },
        {
          "name": "stdout",
          "output_type": "stream",
          "text": [
            "                   all        174        365      0.287      0.208      0.156     0.0655       0.27      0.178      0.117     0.0315\n"
          ]
        },
        {
          "name": "stderr",
          "output_type": "stream",
          "text": [
            "\n"
          ]
        },
        {
          "name": "stdout",
          "output_type": "stream",
          "text": [
            "\n",
            "      Epoch    GPU_mem   box_loss   seg_loss   cls_loss   dfl_loss  Instances       Size\n"
          ]
        },
        {
          "name": "stderr",
          "output_type": "stream",
          "text": [
            "      8/100      3.06G      1.712      2.458       2.07      1.609         62        640: 100%|██████████| 38/38 [00:20<00:00,  1.83it/s]\n",
            "                 Class     Images  Instances      Box(P          R      mAP50  mAP50-95)     Mask(P          R      mAP50  mAP50-95): 100%|██████████| 6/6 [00:03<00:00,  1.75it/s]"
          ]
        },
        {
          "name": "stdout",
          "output_type": "stream",
          "text": [
            "                   all        174        365      0.159       0.29      0.144     0.0667      0.139      0.238      0.112     0.0294\n"
          ]
        },
        {
          "name": "stderr",
          "output_type": "stream",
          "text": [
            "\n"
          ]
        },
        {
          "name": "stdout",
          "output_type": "stream",
          "text": [
            "\n",
            "      Epoch    GPU_mem   box_loss   seg_loss   cls_loss   dfl_loss  Instances       Size\n"
          ]
        },
        {
          "name": "stderr",
          "output_type": "stream",
          "text": [
            "      9/100      2.97G      1.679      2.399      2.017      1.616         50        640: 100%|██████████| 38/38 [00:18<00:00,  2.00it/s]\n",
            "                 Class     Images  Instances      Box(P          R      mAP50  mAP50-95)     Mask(P          R      mAP50  mAP50-95): 100%|██████████| 6/6 [00:05<00:00,  1.09it/s]"
          ]
        },
        {
          "name": "stdout",
          "output_type": "stream",
          "text": [
            "                   all        174        365      0.224      0.362      0.205     0.0893        0.2      0.297      0.148     0.0433\n"
          ]
        },
        {
          "name": "stderr",
          "output_type": "stream",
          "text": [
            "\n"
          ]
        },
        {
          "name": "stdout",
          "output_type": "stream",
          "text": [
            "\n",
            "      Epoch    GPU_mem   box_loss   seg_loss   cls_loss   dfl_loss  Instances       Size\n"
          ]
        },
        {
          "name": "stderr",
          "output_type": "stream",
          "text": [
            "     10/100      2.98G      1.667      2.407      2.007      1.602         77        640: 100%|██████████| 38/38 [00:19<00:00,  1.96it/s]\n",
            "                 Class     Images  Instances      Box(P          R      mAP50  mAP50-95)     Mask(P          R      mAP50  mAP50-95): 100%|██████████| 6/6 [00:04<00:00,  1.45it/s]"
          ]
        },
        {
          "name": "stdout",
          "output_type": "stream",
          "text": [
            "                   all        174        365       0.19      0.334      0.151     0.0646      0.156       0.29      0.102     0.0303\n"
          ]
        },
        {
          "name": "stderr",
          "output_type": "stream",
          "text": [
            "\n"
          ]
        },
        {
          "name": "stdout",
          "output_type": "stream",
          "text": [
            "\n",
            "      Epoch    GPU_mem   box_loss   seg_loss   cls_loss   dfl_loss  Instances       Size\n"
          ]
        },
        {
          "name": "stderr",
          "output_type": "stream",
          "text": [
            "     11/100      2.91G       1.62      2.442      1.929      1.574         49        640: 100%|██████████| 38/38 [00:20<00:00,  1.89it/s]\n",
            "                 Class     Images  Instances      Box(P          R      mAP50  mAP50-95)     Mask(P          R      mAP50  mAP50-95): 100%|██████████| 6/6 [00:03<00:00,  1.74it/s]"
          ]
        },
        {
          "name": "stdout",
          "output_type": "stream",
          "text": [
            "                   all        174        365      0.345      0.323      0.239     0.0983      0.303      0.296      0.163     0.0401\n"
          ]
        },
        {
          "name": "stderr",
          "output_type": "stream",
          "text": [
            "\n"
          ]
        },
        {
          "name": "stdout",
          "output_type": "stream",
          "text": [
            "\n",
            "      Epoch    GPU_mem   box_loss   seg_loss   cls_loss   dfl_loss  Instances       Size\n"
          ]
        },
        {
          "name": "stderr",
          "output_type": "stream",
          "text": [
            "     12/100      3.01G      1.624      2.425      1.858       1.55         69        640: 100%|██████████| 38/38 [00:20<00:00,  1.82it/s]\n",
            "                 Class     Images  Instances      Box(P          R      mAP50  mAP50-95)     Mask(P          R      mAP50  mAP50-95): 100%|██████████| 6/6 [00:03<00:00,  1.74it/s]"
          ]
        },
        {
          "name": "stdout",
          "output_type": "stream",
          "text": [
            "                   all        174        365      0.314      0.405      0.259      0.113      0.261      0.367      0.185     0.0596\n"
          ]
        },
        {
          "name": "stderr",
          "output_type": "stream",
          "text": [
            "\n"
          ]
        },
        {
          "name": "stdout",
          "output_type": "stream",
          "text": [
            "\n",
            "      Epoch    GPU_mem   box_loss   seg_loss   cls_loss   dfl_loss  Instances       Size\n"
          ]
        },
        {
          "name": "stderr",
          "output_type": "stream",
          "text": [
            "     13/100      3.04G      1.579      2.505      1.843      1.549         60        640: 100%|██████████| 38/38 [00:18<00:00,  2.03it/s]\n",
            "                 Class     Images  Instances      Box(P          R      mAP50  mAP50-95)     Mask(P          R      mAP50  mAP50-95): 100%|██████████| 6/6 [00:05<00:00,  1.16it/s]"
          ]
        },
        {
          "name": "stdout",
          "output_type": "stream",
          "text": [
            "                   all        174        365      0.298      0.332      0.261      0.124      0.292      0.285      0.201     0.0547\n"
          ]
        },
        {
          "name": "stderr",
          "output_type": "stream",
          "text": [
            "\n"
          ]
        },
        {
          "name": "stdout",
          "output_type": "stream",
          "text": [
            "\n",
            "      Epoch    GPU_mem   box_loss   seg_loss   cls_loss   dfl_loss  Instances       Size\n"
          ]
        },
        {
          "name": "stderr",
          "output_type": "stream",
          "text": [
            "     14/100      2.97G      1.578      2.394      1.834      1.549         74        640: 100%|██████████| 38/38 [00:18<00:00,  2.05it/s]\n",
            "                 Class     Images  Instances      Box(P          R      mAP50  mAP50-95)     Mask(P          R      mAP50  mAP50-95): 100%|██████████| 6/6 [00:03<00:00,  1.63it/s]"
          ]
        },
        {
          "name": "stdout",
          "output_type": "stream",
          "text": [
            "                   all        174        365      0.375      0.345      0.297      0.137      0.319      0.279      0.193     0.0635\n"
          ]
        },
        {
          "name": "stderr",
          "output_type": "stream",
          "text": [
            "\n"
          ]
        },
        {
          "name": "stdout",
          "output_type": "stream",
          "text": [
            "\n",
            "      Epoch    GPU_mem   box_loss   seg_loss   cls_loss   dfl_loss  Instances       Size\n"
          ]
        },
        {
          "name": "stderr",
          "output_type": "stream",
          "text": [
            "     15/100      2.93G      1.602      2.404      1.875      1.543         62        640: 100%|██████████| 38/38 [00:20<00:00,  1.82it/s]\n",
            "                 Class     Images  Instances      Box(P          R      mAP50  mAP50-95)     Mask(P          R      mAP50  mAP50-95): 100%|██████████| 6/6 [00:03<00:00,  1.75it/s]"
          ]
        },
        {
          "name": "stdout",
          "output_type": "stream",
          "text": [
            "                   all        174        365      0.279       0.34      0.223      0.108      0.265      0.293      0.171     0.0492\n"
          ]
        },
        {
          "name": "stderr",
          "output_type": "stream",
          "text": [
            "\n"
          ]
        },
        {
          "name": "stdout",
          "output_type": "stream",
          "text": [
            "\n",
            "      Epoch    GPU_mem   box_loss   seg_loss   cls_loss   dfl_loss  Instances       Size\n"
          ]
        },
        {
          "name": "stderr",
          "output_type": "stream",
          "text": [
            "     16/100      2.96G      1.551      2.348      1.836      1.524         65        640: 100%|██████████| 38/38 [00:19<00:00,  1.95it/s]\n",
            "                 Class     Images  Instances      Box(P          R      mAP50  mAP50-95)     Mask(P          R      mAP50  mAP50-95): 100%|██████████| 6/6 [00:05<00:00,  1.15it/s]"
          ]
        },
        {
          "name": "stdout",
          "output_type": "stream",
          "text": [
            "                   all        174        365      0.324      0.437       0.28      0.145      0.312      0.359      0.222     0.0607\n"
          ]
        },
        {
          "name": "stderr",
          "output_type": "stream",
          "text": [
            "\n"
          ]
        },
        {
          "name": "stdout",
          "output_type": "stream",
          "text": [
            "\n",
            "      Epoch    GPU_mem   box_loss   seg_loss   cls_loss   dfl_loss  Instances       Size\n"
          ]
        },
        {
          "name": "stderr",
          "output_type": "stream",
          "text": [
            "     17/100      2.84G      1.577      2.337      1.796      1.527         53        640: 100%|██████████| 38/38 [00:19<00:00,  1.97it/s]\n",
            "                 Class     Images  Instances      Box(P          R      mAP50  mAP50-95)     Mask(P          R      mAP50  mAP50-95): 100%|██████████| 6/6 [00:03<00:00,  1.54it/s]"
          ]
        },
        {
          "name": "stdout",
          "output_type": "stream",
          "text": [
            "                   all        174        365      0.339      0.367      0.264       0.13      0.332      0.326      0.234      0.076\n"
          ]
        },
        {
          "name": "stderr",
          "output_type": "stream",
          "text": [
            "\n"
          ]
        },
        {
          "name": "stdout",
          "output_type": "stream",
          "text": [
            "\n",
            "      Epoch    GPU_mem   box_loss   seg_loss   cls_loss   dfl_loss  Instances       Size\n"
          ]
        },
        {
          "name": "stderr",
          "output_type": "stream",
          "text": [
            "     18/100      2.92G      1.472       2.26      1.742      1.466         51        640: 100%|██████████| 38/38 [00:19<00:00,  1.94it/s]\n",
            "                 Class     Images  Instances      Box(P          R      mAP50  mAP50-95)     Mask(P          R      mAP50  mAP50-95): 100%|██████████| 6/6 [00:03<00:00,  1.65it/s]"
          ]
        },
        {
          "name": "stdout",
          "output_type": "stream",
          "text": [
            "                   all        174        365      0.405      0.392      0.328      0.168      0.387      0.364      0.255     0.0826\n"
          ]
        },
        {
          "name": "stderr",
          "output_type": "stream",
          "text": [
            "\n"
          ]
        },
        {
          "name": "stdout",
          "output_type": "stream",
          "text": [
            "\n",
            "      Epoch    GPU_mem   box_loss   seg_loss   cls_loss   dfl_loss  Instances       Size\n"
          ]
        },
        {
          "name": "stderr",
          "output_type": "stream",
          "text": [
            "     19/100      2.93G      1.509       2.26      1.747      1.496         54        640: 100%|██████████| 38/38 [00:20<00:00,  1.84it/s]\n",
            "                 Class     Images  Instances      Box(P          R      mAP50  mAP50-95)     Mask(P          R      mAP50  mAP50-95): 100%|██████████| 6/6 [00:03<00:00,  1.63it/s]"
          ]
        },
        {
          "name": "stdout",
          "output_type": "stream",
          "text": [
            "                   all        174        365      0.416      0.392      0.318      0.154      0.372      0.364      0.255     0.0792\n"
          ]
        },
        {
          "name": "stderr",
          "output_type": "stream",
          "text": [
            "\n"
          ]
        },
        {
          "name": "stdout",
          "output_type": "stream",
          "text": [
            "\n",
            "      Epoch    GPU_mem   box_loss   seg_loss   cls_loss   dfl_loss  Instances       Size\n"
          ]
        },
        {
          "name": "stderr",
          "output_type": "stream",
          "text": [
            "     20/100      2.92G      1.462      2.286      1.721      1.481         52        640: 100%|██████████| 38/38 [00:19<00:00,  1.97it/s]\n",
            "                 Class     Images  Instances      Box(P          R      mAP50  mAP50-95)     Mask(P          R      mAP50  mAP50-95): 100%|██████████| 6/6 [00:04<00:00,  1.45it/s]"
          ]
        },
        {
          "name": "stdout",
          "output_type": "stream",
          "text": [
            "                   all        174        365      0.402      0.419      0.339      0.179      0.392      0.389      0.277     0.0891\n"
          ]
        },
        {
          "name": "stderr",
          "output_type": "stream",
          "text": [
            "\n"
          ]
        },
        {
          "name": "stdout",
          "output_type": "stream",
          "text": [
            "\n",
            "      Epoch    GPU_mem   box_loss   seg_loss   cls_loss   dfl_loss  Instances       Size\n"
          ]
        },
        {
          "name": "stderr",
          "output_type": "stream",
          "text": [
            "     21/100      3.02G      1.505       2.34      1.778      1.507         71        640: 100%|██████████| 38/38 [00:18<00:00,  2.01it/s]\n",
            "                 Class     Images  Instances      Box(P          R      mAP50  mAP50-95)     Mask(P          R      mAP50  mAP50-95): 100%|██████████| 6/6 [00:03<00:00,  1.57it/s]"
          ]
        },
        {
          "name": "stdout",
          "output_type": "stream",
          "text": [
            "                   all        174        365      0.399      0.392      0.334      0.166      0.385      0.337      0.251     0.0777\n"
          ]
        },
        {
          "name": "stderr",
          "output_type": "stream",
          "text": [
            "\n"
          ]
        },
        {
          "name": "stdout",
          "output_type": "stream",
          "text": [
            "\n",
            "      Epoch    GPU_mem   box_loss   seg_loss   cls_loss   dfl_loss  Instances       Size\n"
          ]
        },
        {
          "name": "stderr",
          "output_type": "stream",
          "text": [
            "     22/100      3.01G      1.452       2.33      1.671       1.45         55        640: 100%|██████████| 38/38 [00:20<00:00,  1.81it/s]\n",
            "                 Class     Images  Instances      Box(P          R      mAP50  mAP50-95)     Mask(P          R      mAP50  mAP50-95): 100%|██████████| 6/6 [00:03<00:00,  1.81it/s]"
          ]
        },
        {
          "name": "stdout",
          "output_type": "stream",
          "text": [
            "                   all        174        365      0.408       0.43      0.346      0.171      0.401      0.332      0.257     0.0795\n"
          ]
        },
        {
          "name": "stderr",
          "output_type": "stream",
          "text": [
            "\n"
          ]
        },
        {
          "name": "stdout",
          "output_type": "stream",
          "text": [
            "\n",
            "      Epoch    GPU_mem   box_loss   seg_loss   cls_loss   dfl_loss  Instances       Size\n"
          ]
        },
        {
          "name": "stderr",
          "output_type": "stream",
          "text": [
            "     23/100      2.84G      1.491       2.24      1.744      1.474         47        640: 100%|██████████| 38/38 [00:19<00:00,  1.96it/s]\n",
            "                 Class     Images  Instances      Box(P          R      mAP50  mAP50-95)     Mask(P          R      mAP50  mAP50-95): 100%|██████████| 6/6 [00:05<00:00,  1.07it/s]"
          ]
        },
        {
          "name": "stdout",
          "output_type": "stream",
          "text": [
            "                   all        174        365      0.588      0.395      0.427      0.202       0.58      0.384        0.4      0.132\n"
          ]
        },
        {
          "name": "stderr",
          "output_type": "stream",
          "text": [
            "\n"
          ]
        },
        {
          "name": "stdout",
          "output_type": "stream",
          "text": [
            "\n",
            "      Epoch    GPU_mem   box_loss   seg_loss   cls_loss   dfl_loss  Instances       Size\n"
          ]
        },
        {
          "name": "stderr",
          "output_type": "stream",
          "text": [
            "     24/100      2.94G      1.424      2.208      1.646      1.444         54        640: 100%|██████████| 38/38 [00:19<00:00,  1.98it/s]\n",
            "                 Class     Images  Instances      Box(P          R      mAP50  mAP50-95)     Mask(P          R      mAP50  mAP50-95): 100%|██████████| 6/6 [00:03<00:00,  1.62it/s]"
          ]
        },
        {
          "name": "stdout",
          "output_type": "stream",
          "text": [
            "                   all        174        365       0.48      0.433       0.38      0.199      0.496      0.405      0.327       0.11\n"
          ]
        },
        {
          "name": "stderr",
          "output_type": "stream",
          "text": [
            "\n"
          ]
        },
        {
          "name": "stdout",
          "output_type": "stream",
          "text": [
            "\n",
            "      Epoch    GPU_mem   box_loss   seg_loss   cls_loss   dfl_loss  Instances       Size\n"
          ]
        },
        {
          "name": "stderr",
          "output_type": "stream",
          "text": [
            "     25/100      2.91G      1.416      2.225      1.644      1.447         59        640: 100%|██████████| 38/38 [00:20<00:00,  1.90it/s]\n",
            "                 Class     Images  Instances      Box(P          R      mAP50  mAP50-95)     Mask(P          R      mAP50  mAP50-95): 100%|██████████| 6/6 [00:03<00:00,  1.70it/s]"
          ]
        },
        {
          "name": "stdout",
          "output_type": "stream",
          "text": [
            "                   all        174        365      0.474      0.416      0.388      0.199      0.394      0.364      0.296      0.102\n"
          ]
        },
        {
          "name": "stderr",
          "output_type": "stream",
          "text": [
            "\n"
          ]
        },
        {
          "name": "stdout",
          "output_type": "stream",
          "text": [
            "\n",
            "      Epoch    GPU_mem   box_loss   seg_loss   cls_loss   dfl_loss  Instances       Size\n"
          ]
        },
        {
          "name": "stderr",
          "output_type": "stream",
          "text": [
            "     26/100      2.93G      1.412      2.216      1.613      1.427         71        640: 100%|██████████| 38/38 [00:20<00:00,  1.83it/s]\n",
            "                 Class     Images  Instances      Box(P          R      mAP50  mAP50-95)     Mask(P          R      mAP50  mAP50-95): 100%|██████████| 6/6 [00:03<00:00,  1.64it/s]"
          ]
        },
        {
          "name": "stdout",
          "output_type": "stream",
          "text": [
            "                   all        174        365      0.535      0.425      0.441      0.214      0.469      0.405      0.329      0.111\n"
          ]
        },
        {
          "name": "stderr",
          "output_type": "stream",
          "text": [
            "\n"
          ]
        },
        {
          "name": "stdout",
          "output_type": "stream",
          "text": [
            "\n",
            "      Epoch    GPU_mem   box_loss   seg_loss   cls_loss   dfl_loss  Instances       Size\n"
          ]
        },
        {
          "name": "stderr",
          "output_type": "stream",
          "text": [
            "     27/100      2.94G      1.397      2.166      1.657      1.422         94        640: 100%|██████████| 38/38 [00:19<00:00,  1.95it/s]\n",
            "                 Class     Images  Instances      Box(P          R      mAP50  mAP50-95)     Mask(P          R      mAP50  mAP50-95): 100%|██████████| 6/6 [00:05<00:00,  1.17it/s]"
          ]
        },
        {
          "name": "stdout",
          "output_type": "stream",
          "text": [
            "                   all        174        365      0.629      0.463      0.475       0.24      0.576      0.433      0.396      0.131\n"
          ]
        },
        {
          "name": "stderr",
          "output_type": "stream",
          "text": [
            "\n"
          ]
        },
        {
          "name": "stdout",
          "output_type": "stream",
          "text": [
            "\n",
            "      Epoch    GPU_mem   box_loss   seg_loss   cls_loss   dfl_loss  Instances       Size\n"
          ]
        },
        {
          "name": "stderr",
          "output_type": "stream",
          "text": [
            "     28/100         3G      1.366      2.256      1.585      1.412         66        640: 100%|██████████| 38/38 [00:19<00:00,  1.98it/s]\n",
            "                 Class     Images  Instances      Box(P          R      mAP50  mAP50-95)     Mask(P          R      mAP50  mAP50-95): 100%|██████████| 6/6 [00:03<00:00,  1.76it/s]"
          ]
        },
        {
          "name": "stdout",
          "output_type": "stream",
          "text": [
            "                   all        174        365       0.47      0.471      0.421      0.218       0.46      0.419      0.348      0.117\n"
          ]
        },
        {
          "name": "stderr",
          "output_type": "stream",
          "text": [
            "\n"
          ]
        },
        {
          "name": "stdout",
          "output_type": "stream",
          "text": [
            "\n",
            "      Epoch    GPU_mem   box_loss   seg_loss   cls_loss   dfl_loss  Instances       Size\n"
          ]
        },
        {
          "name": "stderr",
          "output_type": "stream",
          "text": [
            "     29/100      2.94G      1.401      2.161      1.605      1.419         68        640: 100%|██████████| 38/38 [00:21<00:00,  1.79it/s]\n",
            "                 Class     Images  Instances      Box(P          R      mAP50  mAP50-95)     Mask(P          R      mAP50  mAP50-95): 100%|██████████| 6/6 [00:03<00:00,  1.63it/s]"
          ]
        },
        {
          "name": "stdout",
          "output_type": "stream",
          "text": [
            "                   all        174        365      0.483      0.416      0.415       0.22      0.421      0.356      0.312      0.103\n"
          ]
        },
        {
          "name": "stderr",
          "output_type": "stream",
          "text": [
            "\n"
          ]
        },
        {
          "name": "stdout",
          "output_type": "stream",
          "text": [
            "\n",
            "      Epoch    GPU_mem   box_loss   seg_loss   cls_loss   dfl_loss  Instances       Size\n"
          ]
        },
        {
          "name": "stderr",
          "output_type": "stream",
          "text": [
            "     30/100         3G      1.364      2.112      1.572      1.429         70        640: 100%|██████████| 38/38 [00:19<00:00,  1.94it/s]\n",
            "                 Class     Images  Instances      Box(P          R      mAP50  mAP50-95)     Mask(P          R      mAP50  mAP50-95): 100%|██████████| 6/6 [00:04<00:00,  1.45it/s]"
          ]
        },
        {
          "name": "stdout",
          "output_type": "stream",
          "text": [
            "                   all        174        365       0.56      0.452      0.448       0.22       0.49      0.395      0.355      0.118\n"
          ]
        },
        {
          "name": "stderr",
          "output_type": "stream",
          "text": [
            "\n"
          ]
        },
        {
          "name": "stdout",
          "output_type": "stream",
          "text": [
            "\n",
            "      Epoch    GPU_mem   box_loss   seg_loss   cls_loss   dfl_loss  Instances       Size\n"
          ]
        },
        {
          "name": "stderr",
          "output_type": "stream",
          "text": [
            "     31/100      2.94G       1.38      2.186      1.598      1.417         63        640: 100%|██████████| 38/38 [00:19<00:00,  1.98it/s]\n",
            "                 Class     Images  Instances      Box(P          R      mAP50  mAP50-95)     Mask(P          R      mAP50  mAP50-95): 100%|██████████| 6/6 [00:04<00:00,  1.46it/s]"
          ]
        },
        {
          "name": "stdout",
          "output_type": "stream",
          "text": [
            "                   all        174        365      0.522       0.44      0.405      0.196       0.48      0.414      0.316        0.1\n"
          ]
        },
        {
          "name": "stderr",
          "output_type": "stream",
          "text": [
            "\n"
          ]
        },
        {
          "name": "stdout",
          "output_type": "stream",
          "text": [
            "\n",
            "      Epoch    GPU_mem   box_loss   seg_loss   cls_loss   dfl_loss  Instances       Size\n"
          ]
        },
        {
          "name": "stderr",
          "output_type": "stream",
          "text": [
            "     32/100      2.95G      1.342      2.141       1.53      1.387         47        640: 100%|██████████| 38/38 [00:19<00:00,  1.92it/s]\n",
            "                 Class     Images  Instances      Box(P          R      mAP50  mAP50-95)     Mask(P          R      mAP50  mAP50-95): 100%|██████████| 6/6 [00:03<00:00,  1.81it/s]"
          ]
        },
        {
          "name": "stdout",
          "output_type": "stream",
          "text": [
            "                   all        174        365        0.6      0.471      0.445      0.225      0.552      0.419      0.367      0.115\n"
          ]
        },
        {
          "name": "stderr",
          "output_type": "stream",
          "text": [
            "\n"
          ]
        },
        {
          "name": "stdout",
          "output_type": "stream",
          "text": [
            "\n",
            "      Epoch    GPU_mem   box_loss   seg_loss   cls_loss   dfl_loss  Instances       Size\n"
          ]
        },
        {
          "name": "stderr",
          "output_type": "stream",
          "text": [
            "     33/100       2.9G      1.332      2.172      1.538      1.381        109        640: 100%|██████████| 38/38 [00:20<00:00,  1.89it/s]\n",
            "                 Class     Images  Instances      Box(P          R      mAP50  mAP50-95)     Mask(P          R      mAP50  mAP50-95): 100%|██████████| 6/6 [00:04<00:00,  1.47it/s]"
          ]
        },
        {
          "name": "stdout",
          "output_type": "stream",
          "text": [
            "                   all        174        365      0.563      0.471      0.478      0.251      0.538      0.437      0.411      0.137\n"
          ]
        },
        {
          "name": "stderr",
          "output_type": "stream",
          "text": [
            "\n"
          ]
        },
        {
          "name": "stdout",
          "output_type": "stream",
          "text": [
            "\n",
            "      Epoch    GPU_mem   box_loss   seg_loss   cls_loss   dfl_loss  Instances       Size\n"
          ]
        },
        {
          "name": "stderr",
          "output_type": "stream",
          "text": [
            "     34/100      2.86G      1.322      2.162      1.518      1.388         55        640: 100%|██████████| 38/38 [00:18<00:00,  2.04it/s]\n",
            "                 Class     Images  Instances      Box(P          R      mAP50  mAP50-95)     Mask(P          R      mAP50  mAP50-95): 100%|██████████| 6/6 [00:04<00:00,  1.34it/s]"
          ]
        },
        {
          "name": "stdout",
          "output_type": "stream",
          "text": [
            "                   all        174        365      0.586      0.441      0.453      0.247      0.581      0.408       0.39      0.117\n"
          ]
        },
        {
          "name": "stderr",
          "output_type": "stream",
          "text": [
            "\n"
          ]
        },
        {
          "name": "stdout",
          "output_type": "stream",
          "text": [
            "\n",
            "      Epoch    GPU_mem   box_loss   seg_loss   cls_loss   dfl_loss  Instances       Size\n"
          ]
        },
        {
          "name": "stderr",
          "output_type": "stream",
          "text": [
            "     35/100      2.81G      1.355      2.149       1.57      1.419         52        640: 100%|██████████| 38/38 [00:19<00:00,  1.99it/s]\n",
            "                 Class     Images  Instances      Box(P          R      mAP50  mAP50-95)     Mask(P          R      mAP50  mAP50-95): 100%|██████████| 6/6 [00:03<00:00,  1.66it/s]"
          ]
        },
        {
          "name": "stdout",
          "output_type": "stream",
          "text": [
            "                   all        174        365      0.506      0.438      0.406      0.207      0.454      0.389      0.308     0.0978\n"
          ]
        },
        {
          "name": "stderr",
          "output_type": "stream",
          "text": [
            "\n"
          ]
        },
        {
          "name": "stdout",
          "output_type": "stream",
          "text": [
            "\n",
            "      Epoch    GPU_mem   box_loss   seg_loss   cls_loss   dfl_loss  Instances       Size\n"
          ]
        },
        {
          "name": "stderr",
          "output_type": "stream",
          "text": [
            "     36/100      2.91G      1.348      2.119      1.482      1.384         53        640: 100%|██████████| 38/38 [00:20<00:00,  1.84it/s]\n",
            "                 Class     Images  Instances      Box(P          R      mAP50  mAP50-95)     Mask(P          R      mAP50  mAP50-95): 100%|██████████| 6/6 [00:03<00:00,  1.80it/s]"
          ]
        },
        {
          "name": "stdout",
          "output_type": "stream",
          "text": [
            "                   all        174        365      0.527      0.468       0.44      0.245      0.508      0.442      0.378       0.13\n"
          ]
        },
        {
          "name": "stderr",
          "output_type": "stream",
          "text": [
            "\n"
          ]
        },
        {
          "name": "stdout",
          "output_type": "stream",
          "text": [
            "\n",
            "      Epoch    GPU_mem   box_loss   seg_loss   cls_loss   dfl_loss  Instances       Size\n"
          ]
        },
        {
          "name": "stderr",
          "output_type": "stream",
          "text": [
            "     37/100       2.9G      1.325      2.075      1.477      1.379         80        640: 100%|██████████| 38/38 [00:18<00:00,  2.01it/s]\n",
            "                 Class     Images  Instances      Box(P          R      mAP50  mAP50-95)     Mask(P          R      mAP50  mAP50-95): 100%|██████████| 6/6 [00:05<00:00,  1.14it/s]"
          ]
        },
        {
          "name": "stdout",
          "output_type": "stream",
          "text": [
            "                   all        174        365      0.612      0.526      0.532      0.277       0.57      0.441      0.429      0.148\n"
          ]
        },
        {
          "name": "stderr",
          "output_type": "stream",
          "text": [
            "\n"
          ]
        },
        {
          "name": "stdout",
          "output_type": "stream",
          "text": [
            "\n",
            "      Epoch    GPU_mem   box_loss   seg_loss   cls_loss   dfl_loss  Instances       Size\n"
          ]
        },
        {
          "name": "stderr",
          "output_type": "stream",
          "text": [
            "     38/100      2.95G      1.321      2.072      1.507      1.368         45        640: 100%|██████████| 38/38 [00:18<00:00,  2.09it/s]\n",
            "                 Class     Images  Instances      Box(P          R      mAP50  mAP50-95)     Mask(P          R      mAP50  mAP50-95): 100%|██████████| 6/6 [00:03<00:00,  1.63it/s]"
          ]
        },
        {
          "name": "stdout",
          "output_type": "stream",
          "text": [
            "                   all        174        365      0.508      0.463      0.438      0.229      0.497        0.4      0.356      0.124\n"
          ]
        },
        {
          "name": "stderr",
          "output_type": "stream",
          "text": [
            "\n"
          ]
        },
        {
          "name": "stdout",
          "output_type": "stream",
          "text": [
            "\n",
            "      Epoch    GPU_mem   box_loss   seg_loss   cls_loss   dfl_loss  Instances       Size\n"
          ]
        },
        {
          "name": "stderr",
          "output_type": "stream",
          "text": [
            "     39/100      2.94G       1.29      2.127      1.486      1.375         59        640: 100%|██████████| 38/38 [00:20<00:00,  1.83it/s]\n",
            "                 Class     Images  Instances      Box(P          R      mAP50  mAP50-95)     Mask(P          R      mAP50  mAP50-95): 100%|██████████| 6/6 [00:03<00:00,  1.74it/s]"
          ]
        },
        {
          "name": "stdout",
          "output_type": "stream",
          "text": [
            "                   all        174        365       0.65      0.447      0.508      0.272      0.616       0.43      0.426      0.139\n"
          ]
        },
        {
          "name": "stderr",
          "output_type": "stream",
          "text": [
            "\n"
          ]
        },
        {
          "name": "stdout",
          "output_type": "stream",
          "text": [
            "\n",
            "      Epoch    GPU_mem   box_loss   seg_loss   cls_loss   dfl_loss  Instances       Size\n"
          ]
        },
        {
          "name": "stderr",
          "output_type": "stream",
          "text": [
            "     40/100      2.85G      1.291      2.082      1.476      1.369         67        640: 100%|██████████| 38/38 [00:18<00:00,  2.01it/s]\n",
            "                 Class     Images  Instances      Box(P          R      mAP50  mAP50-95)     Mask(P          R      mAP50  mAP50-95): 100%|██████████| 6/6 [00:04<00:00,  1.20it/s]"
          ]
        },
        {
          "name": "stdout",
          "output_type": "stream",
          "text": [
            "                   all        174        365      0.644      0.466      0.484      0.264      0.583      0.438       0.39      0.138\n"
          ]
        },
        {
          "name": "stderr",
          "output_type": "stream",
          "text": [
            "\n"
          ]
        },
        {
          "name": "stdout",
          "output_type": "stream",
          "text": [
            "\n",
            "      Epoch    GPU_mem   box_loss   seg_loss   cls_loss   dfl_loss  Instances       Size\n"
          ]
        },
        {
          "name": "stderr",
          "output_type": "stream",
          "text": [
            "     41/100         3G      1.325      2.117      1.484      1.375         58        640: 100%|██████████| 38/38 [00:19<00:00,  1.96it/s]\n",
            "                 Class     Images  Instances      Box(P          R      mAP50  mAP50-95)     Mask(P          R      mAP50  mAP50-95): 100%|██████████| 6/6 [00:03<00:00,  1.72it/s]"
          ]
        },
        {
          "name": "stdout",
          "output_type": "stream",
          "text": [
            "                   all        174        365      0.507      0.427      0.383      0.203      0.548      0.411      0.339      0.114\n"
          ]
        },
        {
          "name": "stderr",
          "output_type": "stream",
          "text": [
            "\n"
          ]
        },
        {
          "name": "stdout",
          "output_type": "stream",
          "text": [
            "\n",
            "      Epoch    GPU_mem   box_loss   seg_loss   cls_loss   dfl_loss  Instances       Size\n"
          ]
        },
        {
          "name": "stderr",
          "output_type": "stream",
          "text": [
            "     42/100      3.01G      1.291      2.084      1.453       1.36         81        640: 100%|██████████| 38/38 [00:19<00:00,  1.92it/s]\n",
            "                 Class     Images  Instances      Box(P          R      mAP50  mAP50-95)     Mask(P          R      mAP50  mAP50-95): 100%|██████████| 6/6 [00:03<00:00,  1.82it/s]"
          ]
        },
        {
          "name": "stdout",
          "output_type": "stream",
          "text": [
            "                   all        174        365      0.595      0.435      0.449      0.229      0.537        0.4       0.36      0.126\n"
          ]
        },
        {
          "name": "stderr",
          "output_type": "stream",
          "text": [
            "\n"
          ]
        },
        {
          "name": "stdout",
          "output_type": "stream",
          "text": [
            "\n",
            "      Epoch    GPU_mem   box_loss   seg_loss   cls_loss   dfl_loss  Instances       Size\n"
          ]
        },
        {
          "name": "stderr",
          "output_type": "stream",
          "text": [
            "     43/100      2.93G      1.277      2.148      1.425      1.353         57        640: 100%|██████████| 38/38 [00:20<00:00,  1.88it/s]\n",
            "                 Class     Images  Instances      Box(P          R      mAP50  mAP50-95)     Mask(P          R      mAP50  mAP50-95): 100%|██████████| 6/6 [00:04<00:00,  1.44it/s]"
          ]
        },
        {
          "name": "stdout",
          "output_type": "stream",
          "text": [
            "                   all        174        365      0.566      0.488      0.496      0.279      0.541      0.441      0.404      0.144\n"
          ]
        },
        {
          "name": "stderr",
          "output_type": "stream",
          "text": [
            "\n"
          ]
        },
        {
          "name": "stdout",
          "output_type": "stream",
          "text": [
            "\n",
            "      Epoch    GPU_mem   box_loss   seg_loss   cls_loss   dfl_loss  Instances       Size\n"
          ]
        },
        {
          "name": "stderr",
          "output_type": "stream",
          "text": [
            "     44/100      3.02G      1.293      2.039      1.439      1.361        138        640: 100%|██████████| 38/38 [00:19<00:00,  1.98it/s]\n",
            "                 Class     Images  Instances      Box(P          R      mAP50  mAP50-95)     Mask(P          R      mAP50  mAP50-95): 100%|██████████| 6/6 [00:04<00:00,  1.45it/s]"
          ]
        },
        {
          "name": "stdout",
          "output_type": "stream",
          "text": [
            "                   all        174        365      0.569      0.477      0.493      0.282      0.598      0.433      0.418      0.146\n"
          ]
        },
        {
          "name": "stderr",
          "output_type": "stream",
          "text": [
            "\n"
          ]
        },
        {
          "name": "stdout",
          "output_type": "stream",
          "text": [
            "\n",
            "      Epoch    GPU_mem   box_loss   seg_loss   cls_loss   dfl_loss  Instances       Size\n"
          ]
        },
        {
          "name": "stderr",
          "output_type": "stream",
          "text": [
            "     45/100      2.91G      1.243      2.052      1.352      1.332         55        640: 100%|██████████| 38/38 [00:19<00:00,  2.00it/s]\n",
            "                 Class     Images  Instances      Box(P          R      mAP50  mAP50-95)     Mask(P          R      mAP50  mAP50-95): 100%|██████████| 6/6 [00:03<00:00,  1.82it/s]"
          ]
        },
        {
          "name": "stdout",
          "output_type": "stream",
          "text": [
            "                   all        174        365      0.617      0.488      0.498      0.291      0.542      0.422      0.399      0.143\n"
          ]
        },
        {
          "name": "stderr",
          "output_type": "stream",
          "text": [
            "\n"
          ]
        },
        {
          "name": "stdout",
          "output_type": "stream",
          "text": [
            "\n",
            "      Epoch    GPU_mem   box_loss   seg_loss   cls_loss   dfl_loss  Instances       Size\n"
          ]
        },
        {
          "name": "stderr",
          "output_type": "stream",
          "text": [
            "     46/100       2.9G      1.264       2.04       1.39       1.35         72        640: 100%|██████████| 38/38 [00:20<00:00,  1.85it/s]\n",
            "                 Class     Images  Instances      Box(P          R      mAP50  mAP50-95)     Mask(P          R      mAP50  mAP50-95): 100%|██████████| 6/6 [00:03<00:00,  1.67it/s]"
          ]
        },
        {
          "name": "stdout",
          "output_type": "stream",
          "text": [
            "                   all        174        365      0.645      0.488      0.496      0.262      0.627      0.422      0.403      0.149\n"
          ]
        },
        {
          "name": "stderr",
          "output_type": "stream",
          "text": [
            "\n"
          ]
        },
        {
          "name": "stdout",
          "output_type": "stream",
          "text": [
            "\n",
            "      Epoch    GPU_mem   box_loss   seg_loss   cls_loss   dfl_loss  Instances       Size\n"
          ]
        },
        {
          "name": "stderr",
          "output_type": "stream",
          "text": [
            "     47/100      2.89G      1.273      1.999        1.4      1.335         54        640: 100%|██████████| 38/38 [00:19<00:00,  1.99it/s]\n",
            "                 Class     Images  Instances      Box(P          R      mAP50  mAP50-95)     Mask(P          R      mAP50  mAP50-95): 100%|██████████| 6/6 [00:04<00:00,  1.37it/s]"
          ]
        },
        {
          "name": "stdout",
          "output_type": "stream",
          "text": [
            "                   all        174        365       0.62      0.455      0.495      0.277      0.517      0.485      0.433       0.15\n"
          ]
        },
        {
          "name": "stderr",
          "output_type": "stream",
          "text": [
            "\n"
          ]
        },
        {
          "name": "stdout",
          "output_type": "stream",
          "text": [
            "\n",
            "      Epoch    GPU_mem   box_loss   seg_loss   cls_loss   dfl_loss  Instances       Size\n"
          ]
        },
        {
          "name": "stderr",
          "output_type": "stream",
          "text": [
            "     48/100      2.82G      1.238      2.028      1.373      1.323         64        640: 100%|██████████| 38/38 [00:18<00:00,  2.03it/s]\n",
            "                 Class     Images  Instances      Box(P          R      mAP50  mAP50-95)     Mask(P          R      mAP50  mAP50-95): 100%|██████████| 6/6 [00:03<00:00,  1.80it/s]"
          ]
        },
        {
          "name": "stdout",
          "output_type": "stream",
          "text": [
            "                   all        174        365       0.62      0.479        0.5      0.256      0.597      0.433      0.407      0.139\n"
          ]
        },
        {
          "name": "stderr",
          "output_type": "stream",
          "text": [
            "\n"
          ]
        },
        {
          "name": "stdout",
          "output_type": "stream",
          "text": [
            "\n",
            "      Epoch    GPU_mem   box_loss   seg_loss   cls_loss   dfl_loss  Instances       Size\n"
          ]
        },
        {
          "name": "stderr",
          "output_type": "stream",
          "text": [
            "     49/100      2.96G      1.259      2.042      1.427      1.347         75        640: 100%|██████████| 38/38 [00:20<00:00,  1.83it/s]\n",
            "                 Class     Images  Instances      Box(P          R      mAP50  mAP50-95)     Mask(P          R      mAP50  mAP50-95): 100%|██████████| 6/6 [00:03<00:00,  1.76it/s]"
          ]
        },
        {
          "name": "stdout",
          "output_type": "stream",
          "text": [
            "                   all        174        365      0.657      0.457      0.492      0.278      0.628      0.436      0.431      0.148\n"
          ]
        },
        {
          "name": "stderr",
          "output_type": "stream",
          "text": [
            "\n"
          ]
        },
        {
          "name": "stdout",
          "output_type": "stream",
          "text": [
            "\n",
            "      Epoch    GPU_mem   box_loss   seg_loss   cls_loss   dfl_loss  Instances       Size\n"
          ]
        },
        {
          "name": "stderr",
          "output_type": "stream",
          "text": [
            "     50/100      2.98G      1.214      1.986      1.346      1.317         66        640: 100%|██████████| 38/38 [00:19<00:00,  1.99it/s]\n",
            "                 Class     Images  Instances      Box(P          R      mAP50  mAP50-95)     Mask(P          R      mAP50  mAP50-95): 100%|██████████| 6/6 [00:05<00:00,  1.19it/s]"
          ]
        },
        {
          "name": "stdout",
          "output_type": "stream",
          "text": [
            "                   all        174        365       0.65      0.507       0.52      0.294      0.598      0.466      0.424      0.149\n"
          ]
        },
        {
          "name": "stderr",
          "output_type": "stream",
          "text": [
            "\n"
          ]
        },
        {
          "name": "stdout",
          "output_type": "stream",
          "text": [
            "\n",
            "      Epoch    GPU_mem   box_loss   seg_loss   cls_loss   dfl_loss  Instances       Size\n"
          ]
        },
        {
          "name": "stderr",
          "output_type": "stream",
          "text": [
            "     51/100         3G      1.269      2.071      1.386      1.355         81        640: 100%|██████████| 38/38 [00:19<00:00,  1.95it/s]\n",
            "                 Class     Images  Instances      Box(P          R      mAP50  mAP50-95)     Mask(P          R      mAP50  mAP50-95): 100%|██████████| 6/6 [00:03<00:00,  1.80it/s]"
          ]
        },
        {
          "name": "stdout",
          "output_type": "stream",
          "text": [
            "                   all        174        365      0.614      0.427      0.474      0.253       0.62      0.425      0.426      0.141\n"
          ]
        },
        {
          "name": "stderr",
          "output_type": "stream",
          "text": [
            "\n"
          ]
        },
        {
          "name": "stdout",
          "output_type": "stream",
          "text": [
            "\n",
            "      Epoch    GPU_mem   box_loss   seg_loss   cls_loss   dfl_loss  Instances       Size\n"
          ]
        },
        {
          "name": "stderr",
          "output_type": "stream",
          "text": [
            "     52/100      2.94G      1.187      2.025      1.336      1.302         48        640: 100%|██████████| 38/38 [00:20<00:00,  1.87it/s]\n",
            "                 Class     Images  Instances      Box(P          R      mAP50  mAP50-95)     Mask(P          R      mAP50  mAP50-95): 100%|██████████| 6/6 [00:03<00:00,  1.65it/s]"
          ]
        },
        {
          "name": "stdout",
          "output_type": "stream",
          "text": [
            "                   all        174        365      0.594      0.517      0.522      0.303      0.595      0.471      0.448      0.153\n"
          ]
        },
        {
          "name": "stderr",
          "output_type": "stream",
          "text": [
            "\n"
          ]
        },
        {
          "name": "stdout",
          "output_type": "stream",
          "text": [
            "\n",
            "      Epoch    GPU_mem   box_loss   seg_loss   cls_loss   dfl_loss  Instances       Size\n"
          ]
        },
        {
          "name": "stderr",
          "output_type": "stream",
          "text": [
            "     53/100      2.89G      1.221      2.024      1.339      1.322         55        640: 100%|██████████| 38/38 [00:19<00:00,  1.95it/s]\n",
            "                 Class     Images  Instances      Box(P          R      mAP50  mAP50-95)     Mask(P          R      mAP50  mAP50-95): 100%|██████████| 6/6 [00:04<00:00,  1.33it/s]"
          ]
        },
        {
          "name": "stdout",
          "output_type": "stream",
          "text": [
            "                   all        174        365      0.653      0.495      0.544      0.322       0.64      0.479      0.472       0.16\n"
          ]
        },
        {
          "name": "stderr",
          "output_type": "stream",
          "text": [
            "\n"
          ]
        },
        {
          "name": "stdout",
          "output_type": "stream",
          "text": [
            "\n",
            "      Epoch    GPU_mem   box_loss   seg_loss   cls_loss   dfl_loss  Instances       Size\n"
          ]
        },
        {
          "name": "stderr",
          "output_type": "stream",
          "text": [
            "     54/100      2.98G      1.213      2.015      1.329      1.311        119        640: 100%|██████████| 38/38 [00:18<00:00,  2.01it/s]\n",
            "                 Class     Images  Instances      Box(P          R      mAP50  mAP50-95)     Mask(P          R      mAP50  mAP50-95): 100%|██████████| 6/6 [00:03<00:00,  1.56it/s]"
          ]
        },
        {
          "name": "stdout",
          "output_type": "stream",
          "text": [
            "                   all        174        365      0.642      0.506      0.533      0.305      0.598      0.474      0.438      0.157\n"
          ]
        },
        {
          "name": "stderr",
          "output_type": "stream",
          "text": [
            "\n"
          ]
        },
        {
          "name": "stdout",
          "output_type": "stream",
          "text": [
            "\n",
            "      Epoch    GPU_mem   box_loss   seg_loss   cls_loss   dfl_loss  Instances       Size\n"
          ]
        },
        {
          "name": "stderr",
          "output_type": "stream",
          "text": [
            "     55/100       2.9G      1.228      1.984      1.335      1.329         38        640: 100%|██████████| 38/38 [00:19<00:00,  1.93it/s]\n",
            "                 Class     Images  Instances      Box(P          R      mAP50  mAP50-95)     Mask(P          R      mAP50  mAP50-95): 100%|██████████| 6/6 [00:03<00:00,  1.76it/s]"
          ]
        },
        {
          "name": "stdout",
          "output_type": "stream",
          "text": [
            "                   all        174        365      0.673      0.518      0.539      0.313      0.662      0.474      0.452      0.159\n"
          ]
        },
        {
          "name": "stderr",
          "output_type": "stream",
          "text": [
            "\n"
          ]
        },
        {
          "name": "stdout",
          "output_type": "stream",
          "text": [
            "\n",
            "      Epoch    GPU_mem   box_loss   seg_loss   cls_loss   dfl_loss  Instances       Size\n"
          ]
        },
        {
          "name": "stderr",
          "output_type": "stream",
          "text": [
            "     56/100      2.88G      1.204      2.056      1.362       1.32         48        640: 100%|██████████| 38/38 [00:19<00:00,  1.97it/s]\n",
            "                 Class     Images  Instances      Box(P          R      mAP50  mAP50-95)     Mask(P          R      mAP50  mAP50-95): 100%|██████████| 6/6 [00:04<00:00,  1.27it/s]"
          ]
        },
        {
          "name": "stdout",
          "output_type": "stream",
          "text": [
            "                   all        174        365      0.596      0.474      0.479      0.278      0.556      0.416      0.374       0.13\n"
          ]
        },
        {
          "name": "stderr",
          "output_type": "stream",
          "text": [
            "\n"
          ]
        },
        {
          "name": "stdout",
          "output_type": "stream",
          "text": [
            "\n",
            "      Epoch    GPU_mem   box_loss   seg_loss   cls_loss   dfl_loss  Instances       Size\n"
          ]
        },
        {
          "name": "stderr",
          "output_type": "stream",
          "text": [
            "     57/100      2.86G      1.194      1.954      1.306      1.297         84        640: 100%|██████████| 38/38 [00:18<00:00,  2.05it/s]\n",
            "                 Class     Images  Instances      Box(P          R      mAP50  mAP50-95)     Mask(P          R      mAP50  mAP50-95): 100%|██████████| 6/6 [00:03<00:00,  1.65it/s]"
          ]
        },
        {
          "name": "stdout",
          "output_type": "stream",
          "text": [
            "                   all        174        365      0.556      0.559      0.511      0.299      0.591      0.501      0.476       0.16\n"
          ]
        },
        {
          "name": "stderr",
          "output_type": "stream",
          "text": [
            "\n"
          ]
        },
        {
          "name": "stdout",
          "output_type": "stream",
          "text": [
            "\n",
            "      Epoch    GPU_mem   box_loss   seg_loss   cls_loss   dfl_loss  Instances       Size\n"
          ]
        },
        {
          "name": "stderr",
          "output_type": "stream",
          "text": [
            "     58/100      2.95G      1.186       1.96      1.296        1.3         69        640: 100%|██████████| 38/38 [00:19<00:00,  1.98it/s]\n",
            "                 Class     Images  Instances      Box(P          R      mAP50  mAP50-95)     Mask(P          R      mAP50  mAP50-95): 100%|██████████| 6/6 [00:03<00:00,  1.66it/s]"
          ]
        },
        {
          "name": "stdout",
          "output_type": "stream",
          "text": [
            "                   all        174        365      0.718      0.499       0.55      0.319      0.644      0.471      0.459       0.16\n"
          ]
        },
        {
          "name": "stderr",
          "output_type": "stream",
          "text": [
            "\n"
          ]
        },
        {
          "name": "stdout",
          "output_type": "stream",
          "text": [
            "\n",
            "      Epoch    GPU_mem   box_loss   seg_loss   cls_loss   dfl_loss  Instances       Size\n"
          ]
        },
        {
          "name": "stderr",
          "output_type": "stream",
          "text": [
            "     59/100      2.82G       1.21      1.956      1.358      1.316         46        640: 100%|██████████| 38/38 [00:19<00:00,  1.90it/s]\n",
            "                 Class     Images  Instances      Box(P          R      mAP50  mAP50-95)     Mask(P          R      mAP50  mAP50-95): 100%|██████████| 6/6 [00:03<00:00,  1.62it/s]"
          ]
        },
        {
          "name": "stdout",
          "output_type": "stream",
          "text": [
            "                   all        174        365      0.636      0.501      0.532      0.309      0.624      0.485      0.473      0.165\n"
          ]
        },
        {
          "name": "stderr",
          "output_type": "stream",
          "text": [
            "\n"
          ]
        },
        {
          "name": "stdout",
          "output_type": "stream",
          "text": [
            "\n",
            "      Epoch    GPU_mem   box_loss   seg_loss   cls_loss   dfl_loss  Instances       Size\n"
          ]
        },
        {
          "name": "stderr",
          "output_type": "stream",
          "text": [
            "     60/100      2.86G       1.18      1.963      1.275      1.283         70        640: 100%|██████████| 38/38 [00:18<00:00,  2.09it/s]\n",
            "                 Class     Images  Instances      Box(P          R      mAP50  mAP50-95)     Mask(P          R      mAP50  mAP50-95): 100%|██████████| 6/6 [00:04<00:00,  1.42it/s]"
          ]
        },
        {
          "name": "stdout",
          "output_type": "stream",
          "text": [
            "                   all        174        365      0.654      0.537      0.562      0.319      0.565      0.526      0.484      0.171\n"
          ]
        },
        {
          "name": "stderr",
          "output_type": "stream",
          "text": [
            "\n"
          ]
        },
        {
          "name": "stdout",
          "output_type": "stream",
          "text": [
            "\n",
            "      Epoch    GPU_mem   box_loss   seg_loss   cls_loss   dfl_loss  Instances       Size\n"
          ]
        },
        {
          "name": "stderr",
          "output_type": "stream",
          "text": [
            "     61/100      2.96G      1.203      1.951      1.282      1.306         60        640: 100%|██████████| 38/38 [00:19<00:00,  1.95it/s]\n",
            "                 Class     Images  Instances      Box(P          R      mAP50  mAP50-95)     Mask(P          R      mAP50  mAP50-95): 100%|██████████| 6/6 [00:03<00:00,  1.71it/s]"
          ]
        },
        {
          "name": "stdout",
          "output_type": "stream",
          "text": [
            "                   all        174        365      0.651      0.518      0.555      0.319      0.609      0.474      0.439      0.156\n"
          ]
        },
        {
          "name": "stderr",
          "output_type": "stream",
          "text": [
            "\n"
          ]
        },
        {
          "name": "stdout",
          "output_type": "stream",
          "text": [
            "\n",
            "      Epoch    GPU_mem   box_loss   seg_loss   cls_loss   dfl_loss  Instances       Size\n"
          ]
        },
        {
          "name": "stderr",
          "output_type": "stream",
          "text": [
            "     62/100      2.94G      1.187      1.971      1.225        1.3         61        640: 100%|██████████| 38/38 [00:19<00:00,  1.92it/s]\n",
            "                 Class     Images  Instances      Box(P          R      mAP50  mAP50-95)     Mask(P          R      mAP50  mAP50-95): 100%|██████████| 6/6 [00:03<00:00,  1.54it/s]"
          ]
        },
        {
          "name": "stdout",
          "output_type": "stream",
          "text": [
            "                   all        174        365      0.633        0.5      0.531      0.306      0.639       0.46       0.47      0.158\n"
          ]
        },
        {
          "name": "stderr",
          "output_type": "stream",
          "text": [
            "\n"
          ]
        },
        {
          "name": "stdout",
          "output_type": "stream",
          "text": [
            "\n",
            "      Epoch    GPU_mem   box_loss   seg_loss   cls_loss   dfl_loss  Instances       Size\n"
          ]
        },
        {
          "name": "stderr",
          "output_type": "stream",
          "text": [
            "     63/100      2.96G      1.135      1.912      1.246      1.259         88        640: 100%|██████████| 38/38 [00:18<00:00,  2.03it/s]\n",
            "                 Class     Images  Instances      Box(P          R      mAP50  mAP50-95)     Mask(P          R      mAP50  mAP50-95): 100%|██████████| 6/6 [00:04<00:00,  1.35it/s]"
          ]
        },
        {
          "name": "stdout",
          "output_type": "stream",
          "text": [
            "                   all        174        365       0.66      0.537      0.567      0.327      0.667      0.482      0.494       0.17\n"
          ]
        },
        {
          "name": "stderr",
          "output_type": "stream",
          "text": [
            "\n"
          ]
        },
        {
          "name": "stdout",
          "output_type": "stream",
          "text": [
            "\n",
            "      Epoch    GPU_mem   box_loss   seg_loss   cls_loss   dfl_loss  Instances       Size\n"
          ]
        },
        {
          "name": "stderr",
          "output_type": "stream",
          "text": [
            "     64/100      2.88G      1.172      1.892      1.251      1.283         48        640: 100%|██████████| 38/38 [00:19<00:00,  1.95it/s]\n",
            "                 Class     Images  Instances      Box(P          R      mAP50  mAP50-95)     Mask(P          R      mAP50  mAP50-95): 100%|██████████| 6/6 [00:03<00:00,  1.69it/s]"
          ]
        },
        {
          "name": "stdout",
          "output_type": "stream",
          "text": [
            "                   all        174        365      0.624      0.562      0.572      0.342      0.589      0.491      0.465      0.169\n"
          ]
        },
        {
          "name": "stderr",
          "output_type": "stream",
          "text": [
            "\n"
          ]
        },
        {
          "name": "stdout",
          "output_type": "stream",
          "text": [
            "\n",
            "      Epoch    GPU_mem   box_loss   seg_loss   cls_loss   dfl_loss  Instances       Size\n"
          ]
        },
        {
          "name": "stderr",
          "output_type": "stream",
          "text": [
            "     65/100      2.93G      1.152      1.895      1.257      1.286         57        640: 100%|██████████| 38/38 [00:21<00:00,  1.80it/s]\n",
            "                 Class     Images  Instances      Box(P          R      mAP50  mAP50-95)     Mask(P          R      mAP50  mAP50-95): 100%|██████████| 6/6 [00:03<00:00,  1.74it/s]"
          ]
        },
        {
          "name": "stdout",
          "output_type": "stream",
          "text": [
            "                   all        174        365      0.645      0.553      0.561      0.331      0.628       0.49      0.471      0.169\n"
          ]
        },
        {
          "name": "stderr",
          "output_type": "stream",
          "text": [
            "\n"
          ]
        },
        {
          "name": "stdout",
          "output_type": "stream",
          "text": [
            "\n",
            "      Epoch    GPU_mem   box_loss   seg_loss   cls_loss   dfl_loss  Instances       Size\n"
          ]
        },
        {
          "name": "stderr",
          "output_type": "stream",
          "text": [
            "     66/100      2.99G      1.143      1.956      1.261      1.263         52        640: 100%|██████████| 38/38 [00:19<00:00,  1.99it/s]\n",
            "                 Class     Images  Instances      Box(P          R      mAP50  mAP50-95)     Mask(P          R      mAP50  mAP50-95): 100%|██████████| 6/6 [00:05<00:00,  1.12it/s]"
          ]
        },
        {
          "name": "stdout",
          "output_type": "stream",
          "text": [
            "                   all        174        365      0.671      0.509      0.542      0.333      0.643      0.488      0.471      0.161\n"
          ]
        },
        {
          "name": "stderr",
          "output_type": "stream",
          "text": [
            "\n"
          ]
        },
        {
          "name": "stdout",
          "output_type": "stream",
          "text": [
            "\n",
            "      Epoch    GPU_mem   box_loss   seg_loss   cls_loss   dfl_loss  Instances       Size\n"
          ]
        },
        {
          "name": "stderr",
          "output_type": "stream",
          "text": [
            "     67/100      2.91G      1.138      1.894      1.228      1.275         48        640: 100%|██████████| 38/38 [00:19<00:00,  1.95it/s]\n",
            "                 Class     Images  Instances      Box(P          R      mAP50  mAP50-95)     Mask(P          R      mAP50  mAP50-95): 100%|██████████| 6/6 [00:03<00:00,  1.89it/s]"
          ]
        },
        {
          "name": "stdout",
          "output_type": "stream",
          "text": [
            "                   all        174        365      0.712       0.49      0.538      0.328      0.677      0.482      0.471      0.166\n"
          ]
        },
        {
          "name": "stderr",
          "output_type": "stream",
          "text": [
            "\n"
          ]
        },
        {
          "name": "stdout",
          "output_type": "stream",
          "text": [
            "\n",
            "      Epoch    GPU_mem   box_loss   seg_loss   cls_loss   dfl_loss  Instances       Size\n"
          ]
        },
        {
          "name": "stderr",
          "output_type": "stream",
          "text": [
            "     68/100      2.87G      1.116      1.925      1.196      1.254         69        640: 100%|██████████| 38/38 [00:20<00:00,  1.83it/s]\n",
            "                 Class     Images  Instances      Box(P          R      mAP50  mAP50-95)     Mask(P          R      mAP50  mAP50-95): 100%|██████████| 6/6 [00:03<00:00,  1.54it/s]"
          ]
        },
        {
          "name": "stdout",
          "output_type": "stream",
          "text": [
            "                   all        174        365      0.637       0.51      0.532      0.318      0.576       0.46      0.426      0.152\n"
          ]
        },
        {
          "name": "stderr",
          "output_type": "stream",
          "text": [
            "\n"
          ]
        },
        {
          "name": "stdout",
          "output_type": "stream",
          "text": [
            "\n",
            "      Epoch    GPU_mem   box_loss   seg_loss   cls_loss   dfl_loss  Instances       Size\n"
          ]
        },
        {
          "name": "stderr",
          "output_type": "stream",
          "text": [
            "     69/100      2.91G       1.15      1.932      1.212      1.276         80        640: 100%|██████████| 38/38 [00:20<00:00,  1.88it/s]\n",
            "                 Class     Images  Instances      Box(P          R      mAP50  mAP50-95)     Mask(P          R      mAP50  mAP50-95): 100%|██████████| 6/6 [00:04<00:00,  1.31it/s]"
          ]
        },
        {
          "name": "stdout",
          "output_type": "stream",
          "text": [
            "                   all        174        365      0.621      0.551      0.547      0.329      0.667      0.499      0.473      0.166\n"
          ]
        },
        {
          "name": "stderr",
          "output_type": "stream",
          "text": [
            "\n"
          ]
        },
        {
          "name": "stdout",
          "output_type": "stream",
          "text": [
            "\n",
            "      Epoch    GPU_mem   box_loss   seg_loss   cls_loss   dfl_loss  Instances       Size\n"
          ]
        },
        {
          "name": "stderr",
          "output_type": "stream",
          "text": [
            "     70/100      2.86G      1.088      1.861      1.177      1.238         70        640: 100%|██████████| 38/38 [00:19<00:00,  1.91it/s]\n",
            "                 Class     Images  Instances      Box(P          R      mAP50  mAP50-95)     Mask(P          R      mAP50  mAP50-95): 100%|██████████| 6/6 [00:04<00:00,  1.35it/s]"
          ]
        },
        {
          "name": "stdout",
          "output_type": "stream",
          "text": [
            "                   all        174        365      0.673      0.507       0.56      0.338      0.669      0.488      0.487      0.175\n"
          ]
        },
        {
          "name": "stderr",
          "output_type": "stream",
          "text": [
            "\n"
          ]
        },
        {
          "name": "stdout",
          "output_type": "stream",
          "text": [
            "\n",
            "      Epoch    GPU_mem   box_loss   seg_loss   cls_loss   dfl_loss  Instances       Size\n"
          ]
        },
        {
          "name": "stderr",
          "output_type": "stream",
          "text": [
            "     71/100      2.86G      1.101      1.878      1.184      1.247         63        640: 100%|██████████| 38/38 [00:19<00:00,  1.94it/s]\n",
            "                 Class     Images  Instances      Box(P          R      mAP50  mAP50-95)     Mask(P          R      mAP50  mAP50-95): 100%|██████████| 6/6 [00:03<00:00,  1.75it/s]"
          ]
        },
        {
          "name": "stdout",
          "output_type": "stream",
          "text": [
            "                   all        174        365      0.709      0.532      0.575      0.353      0.691      0.518      0.526      0.185\n"
          ]
        },
        {
          "name": "stderr",
          "output_type": "stream",
          "text": [
            "\n"
          ]
        },
        {
          "name": "stdout",
          "output_type": "stream",
          "text": [
            "\n",
            "      Epoch    GPU_mem   box_loss   seg_loss   cls_loss   dfl_loss  Instances       Size\n"
          ]
        },
        {
          "name": "stderr",
          "output_type": "stream",
          "text": [
            "     72/100      2.84G      1.081      1.857       1.16      1.238         56        640: 100%|██████████| 38/38 [00:20<00:00,  1.86it/s]\n",
            "                 Class     Images  Instances      Box(P          R      mAP50  mAP50-95)     Mask(P          R      mAP50  mAP50-95): 100%|██████████| 6/6 [00:03<00:00,  1.61it/s]"
          ]
        },
        {
          "name": "stdout",
          "output_type": "stream",
          "text": [
            "                   all        174        365      0.656      0.526      0.579      0.345      0.643      0.509      0.503      0.177\n"
          ]
        },
        {
          "name": "stderr",
          "output_type": "stream",
          "text": [
            "\n"
          ]
        },
        {
          "name": "stdout",
          "output_type": "stream",
          "text": [
            "\n",
            "      Epoch    GPU_mem   box_loss   seg_loss   cls_loss   dfl_loss  Instances       Size\n"
          ]
        },
        {
          "name": "stderr",
          "output_type": "stream",
          "text": [
            "     73/100      2.96G      1.121       1.88      1.213      1.252         66        640: 100%|██████████| 38/38 [00:19<00:00,  1.98it/s]\n",
            "                 Class     Images  Instances      Box(P          R      mAP50  mAP50-95)     Mask(P          R      mAP50  mAP50-95): 100%|██████████| 6/6 [00:05<00:00,  1.13it/s]"
          ]
        },
        {
          "name": "stdout",
          "output_type": "stream",
          "text": [
            "                   all        174        365      0.669      0.534      0.553      0.334      0.631      0.504      0.459       0.17\n"
          ]
        },
        {
          "name": "stderr",
          "output_type": "stream",
          "text": [
            "\n"
          ]
        },
        {
          "name": "stdout",
          "output_type": "stream",
          "text": [
            "\n",
            "      Epoch    GPU_mem   box_loss   seg_loss   cls_loss   dfl_loss  Instances       Size\n"
          ]
        },
        {
          "name": "stderr",
          "output_type": "stream",
          "text": [
            "     74/100      3.01G      1.083      1.828      1.134      1.223         58        640: 100%|██████████| 38/38 [00:19<00:00,  1.99it/s]\n",
            "                 Class     Images  Instances      Box(P          R      mAP50  mAP50-95)     Mask(P          R      mAP50  mAP50-95): 100%|██████████| 6/6 [00:03<00:00,  1.61it/s]"
          ]
        },
        {
          "name": "stdout",
          "output_type": "stream",
          "text": [
            "                   all        174        365      0.738       0.51       0.59      0.354      0.715      0.495      0.517      0.193\n"
          ]
        },
        {
          "name": "stderr",
          "output_type": "stream",
          "text": [
            "\n"
          ]
        },
        {
          "name": "stdout",
          "output_type": "stream",
          "text": [
            "\n",
            "      Epoch    GPU_mem   box_loss   seg_loss   cls_loss   dfl_loss  Instances       Size\n"
          ]
        },
        {
          "name": "stderr",
          "output_type": "stream",
          "text": [
            "     75/100       2.9G      1.088        1.9      1.161      1.242         59        640: 100%|██████████| 38/38 [00:20<00:00,  1.87it/s]\n",
            "                 Class     Images  Instances      Box(P          R      mAP50  mAP50-95)     Mask(P          R      mAP50  mAP50-95): 100%|██████████| 6/6 [00:03<00:00,  1.72it/s]"
          ]
        },
        {
          "name": "stdout",
          "output_type": "stream",
          "text": [
            "                   all        174        365      0.663      0.519      0.561      0.337      0.659      0.503      0.496      0.172\n"
          ]
        },
        {
          "name": "stderr",
          "output_type": "stream",
          "text": [
            "\n"
          ]
        },
        {
          "name": "stdout",
          "output_type": "stream",
          "text": [
            "\n",
            "      Epoch    GPU_mem   box_loss   seg_loss   cls_loss   dfl_loss  Instances       Size\n"
          ]
        },
        {
          "name": "stderr",
          "output_type": "stream",
          "text": [
            "     76/100      2.91G      1.072      1.865      1.134      1.233         50        640: 100%|██████████| 38/38 [00:19<00:00,  1.98it/s]\n",
            "                 Class     Images  Instances      Box(P          R      mAP50  mAP50-95)     Mask(P          R      mAP50  mAP50-95): 100%|██████████| 6/6 [00:04<00:00,  1.26it/s]"
          ]
        },
        {
          "name": "stdout",
          "output_type": "stream",
          "text": [
            "                   all        174        365      0.649       0.51      0.549      0.332      0.628      0.466      0.473      0.173\n"
          ]
        },
        {
          "name": "stderr",
          "output_type": "stream",
          "text": [
            "\n"
          ]
        },
        {
          "name": "stdout",
          "output_type": "stream",
          "text": [
            "\n",
            "      Epoch    GPU_mem   box_loss   seg_loss   cls_loss   dfl_loss  Instances       Size\n"
          ]
        },
        {
          "name": "stderr",
          "output_type": "stream",
          "text": [
            "     77/100      2.82G      1.058      1.838      1.123      1.231         74        640: 100%|██████████| 38/38 [00:18<00:00,  2.04it/s]\n",
            "                 Class     Images  Instances      Box(P          R      mAP50  mAP50-95)     Mask(P          R      mAP50  mAP50-95): 100%|██████████| 6/6 [00:04<00:00,  1.47it/s]"
          ]
        },
        {
          "name": "stdout",
          "output_type": "stream",
          "text": [
            "                   all        174        365      0.672      0.493      0.554       0.35      0.691      0.485       0.51       0.18\n"
          ]
        },
        {
          "name": "stderr",
          "output_type": "stream",
          "text": [
            "\n"
          ]
        },
        {
          "name": "stdout",
          "output_type": "stream",
          "text": [
            "\n",
            "      Epoch    GPU_mem   box_loss   seg_loss   cls_loss   dfl_loss  Instances       Size\n"
          ]
        },
        {
          "name": "stderr",
          "output_type": "stream",
          "text": [
            "     78/100      2.86G      1.068      1.812      1.114      1.238         75        640: 100%|██████████| 38/38 [00:20<00:00,  1.85it/s]\n",
            "                 Class     Images  Instances      Box(P          R      mAP50  mAP50-95)     Mask(P          R      mAP50  mAP50-95): 100%|██████████| 6/6 [00:03<00:00,  1.54it/s]"
          ]
        },
        {
          "name": "stdout",
          "output_type": "stream",
          "text": [
            "                   all        174        365      0.656      0.551      0.567      0.357      0.671      0.507      0.501      0.183\n"
          ]
        },
        {
          "name": "stderr",
          "output_type": "stream",
          "text": [
            "\n"
          ]
        },
        {
          "name": "stdout",
          "output_type": "stream",
          "text": [
            "\n",
            "      Epoch    GPU_mem   box_loss   seg_loss   cls_loss   dfl_loss  Instances       Size\n"
          ]
        },
        {
          "name": "stderr",
          "output_type": "stream",
          "text": [
            "     79/100      2.93G      1.066      1.919      1.124      1.226         46        640: 100%|██████████| 38/38 [00:21<00:00,  1.80it/s]\n",
            "                 Class     Images  Instances      Box(P          R      mAP50  mAP50-95)     Mask(P          R      mAP50  mAP50-95): 100%|██████████| 6/6 [00:03<00:00,  1.78it/s]"
          ]
        },
        {
          "name": "stdout",
          "output_type": "stream",
          "text": [
            "                   all        174        365      0.686      0.533      0.573      0.346      0.657      0.507      0.494      0.176\n"
          ]
        },
        {
          "name": "stderr",
          "output_type": "stream",
          "text": [
            "\n"
          ]
        },
        {
          "name": "stdout",
          "output_type": "stream",
          "text": [
            "\n",
            "      Epoch    GPU_mem   box_loss   seg_loss   cls_loss   dfl_loss  Instances       Size\n"
          ]
        },
        {
          "name": "stderr",
          "output_type": "stream",
          "text": [
            "     80/100      2.94G      1.059      1.871      1.126      1.232         67        640: 100%|██████████| 38/38 [00:19<00:00,  1.98it/s]\n",
            "                 Class     Images  Instances      Box(P          R      mAP50  mAP50-95)     Mask(P          R      mAP50  mAP50-95): 100%|██████████| 6/6 [00:05<00:00,  1.05it/s]"
          ]
        },
        {
          "name": "stdout",
          "output_type": "stream",
          "text": [
            "                   all        174        365      0.644      0.564      0.586      0.363       0.69      0.485      0.499      0.179\n"
          ]
        },
        {
          "name": "stderr",
          "output_type": "stream",
          "text": [
            "\n"
          ]
        },
        {
          "name": "stdout",
          "output_type": "stream",
          "text": [
            "\n",
            "      Epoch    GPU_mem   box_loss   seg_loss   cls_loss   dfl_loss  Instances       Size\n"
          ]
        },
        {
          "name": "stderr",
          "output_type": "stream",
          "text": [
            "     81/100      2.89G      1.078      1.794      1.131      1.237         66        640: 100%|██████████| 38/38 [00:19<00:00,  1.98it/s]\n",
            "                 Class     Images  Instances      Box(P          R      mAP50  mAP50-95)     Mask(P          R      mAP50  mAP50-95): 100%|██████████| 6/6 [00:03<00:00,  1.62it/s]"
          ]
        },
        {
          "name": "stdout",
          "output_type": "stream",
          "text": [
            "                   all        174        365      0.672      0.561      0.579       0.35      0.639      0.496      0.483      0.175\n"
          ]
        },
        {
          "name": "stderr",
          "output_type": "stream",
          "text": [
            "\n"
          ]
        },
        {
          "name": "stdout",
          "output_type": "stream",
          "text": [
            "\n",
            "      Epoch    GPU_mem   box_loss   seg_loss   cls_loss   dfl_loss  Instances       Size\n"
          ]
        },
        {
          "name": "stderr",
          "output_type": "stream",
          "text": [
            "     82/100      2.95G      1.055      1.861      1.132      1.211         38        640: 100%|██████████| 38/38 [00:20<00:00,  1.84it/s]\n",
            "                 Class     Images  Instances      Box(P          R      mAP50  mAP50-95)     Mask(P          R      mAP50  mAP50-95): 100%|██████████| 6/6 [00:03<00:00,  1.82it/s]"
          ]
        },
        {
          "name": "stdout",
          "output_type": "stream",
          "text": [
            "                   all        174        365      0.683      0.542      0.589      0.361      0.646       0.51      0.505      0.183\n"
          ]
        },
        {
          "name": "stderr",
          "output_type": "stream",
          "text": [
            "\n"
          ]
        },
        {
          "name": "stdout",
          "output_type": "stream",
          "text": [
            "\n",
            "      Epoch    GPU_mem   box_loss   seg_loss   cls_loss   dfl_loss  Instances       Size\n"
          ]
        },
        {
          "name": "stderr",
          "output_type": "stream",
          "text": [
            "     83/100      2.91G      1.049      1.825      1.103       1.22         48        640: 100%|██████████| 38/38 [00:20<00:00,  1.85it/s]\n",
            "                 Class     Images  Instances      Box(P          R      mAP50  mAP50-95)     Mask(P          R      mAP50  mAP50-95): 100%|██████████| 6/6 [00:03<00:00,  1.52it/s]"
          ]
        },
        {
          "name": "stdout",
          "output_type": "stream",
          "text": [
            "                   all        174        365      0.701      0.545       0.59      0.361       0.66      0.521      0.508      0.185\n"
          ]
        },
        {
          "name": "stderr",
          "output_type": "stream",
          "text": [
            "\n"
          ]
        },
        {
          "name": "stdout",
          "output_type": "stream",
          "text": [
            "\n",
            "      Epoch    GPU_mem   box_loss   seg_loss   cls_loss   dfl_loss  Instances       Size\n"
          ]
        },
        {
          "name": "stderr",
          "output_type": "stream",
          "text": [
            "     84/100      2.84G       1.05      1.845      1.107      1.218         61        640: 100%|██████████| 38/38 [00:19<00:00,  1.95it/s]\n",
            "                 Class     Images  Instances      Box(P          R      mAP50  mAP50-95)     Mask(P          R      mAP50  mAP50-95): 100%|██████████| 6/6 [00:04<00:00,  1.25it/s]"
          ]
        },
        {
          "name": "stdout",
          "output_type": "stream",
          "text": [
            "                   all        174        365       0.62      0.573       0.56      0.339      0.578      0.534      0.477      0.175\n"
          ]
        },
        {
          "name": "stderr",
          "output_type": "stream",
          "text": [
            "\n"
          ]
        },
        {
          "name": "stdout",
          "output_type": "stream",
          "text": [
            "\n",
            "      Epoch    GPU_mem   box_loss   seg_loss   cls_loss   dfl_loss  Instances       Size\n"
          ]
        },
        {
          "name": "stderr",
          "output_type": "stream",
          "text": [
            "     85/100      2.85G      1.045      1.809      1.082      1.206         52        640: 100%|██████████| 38/38 [00:19<00:00,  1.96it/s]\n",
            "                 Class     Images  Instances      Box(P          R      mAP50  mAP50-95)     Mask(P          R      mAP50  mAP50-95): 100%|██████████| 6/6 [00:03<00:00,  1.66it/s]"
          ]
        },
        {
          "name": "stdout",
          "output_type": "stream",
          "text": [
            "                   all        174        365      0.661      0.578      0.576      0.353      0.657      0.515      0.494      0.176\n"
          ]
        },
        {
          "name": "stderr",
          "output_type": "stream",
          "text": [
            "\n"
          ]
        },
        {
          "name": "stdout",
          "output_type": "stream",
          "text": [
            "\n",
            "      Epoch    GPU_mem   box_loss   seg_loss   cls_loss   dfl_loss  Instances       Size\n"
          ]
        },
        {
          "name": "stderr",
          "output_type": "stream",
          "text": [
            "     86/100      2.92G      1.017      1.798      1.105      1.205         49        640: 100%|██████████| 38/38 [00:21<00:00,  1.77it/s]\n",
            "                 Class     Images  Instances      Box(P          R      mAP50  mAP50-95)     Mask(P          R      mAP50  mAP50-95): 100%|██████████| 6/6 [00:03<00:00,  1.72it/s]"
          ]
        },
        {
          "name": "stdout",
          "output_type": "stream",
          "text": [
            "                   all        174        365      0.657      0.551      0.561      0.351      0.668      0.482      0.485      0.179\n"
          ]
        },
        {
          "name": "stderr",
          "output_type": "stream",
          "text": [
            "\n"
          ]
        },
        {
          "name": "stdout",
          "output_type": "stream",
          "text": [
            "\n",
            "      Epoch    GPU_mem   box_loss   seg_loss   cls_loss   dfl_loss  Instances       Size\n"
          ]
        },
        {
          "name": "stderr",
          "output_type": "stream",
          "text": [
            "     87/100      3.01G      1.026      1.857      1.062      1.196         64        640: 100%|██████████| 38/38 [00:19<00:00,  1.94it/s]\n",
            "                 Class     Images  Instances      Box(P          R      mAP50  mAP50-95)     Mask(P          R      mAP50  mAP50-95): 100%|██████████| 6/6 [00:04<00:00,  1.21it/s]"
          ]
        },
        {
          "name": "stdout",
          "output_type": "stream",
          "text": [
            "                   all        174        365      0.691      0.562      0.575      0.362      0.655      0.532      0.511      0.186\n"
          ]
        },
        {
          "name": "stderr",
          "output_type": "stream",
          "text": [
            "\n"
          ]
        },
        {
          "name": "stdout",
          "output_type": "stream",
          "text": [
            "\n",
            "      Epoch    GPU_mem   box_loss   seg_loss   cls_loss   dfl_loss  Instances       Size\n"
          ]
        },
        {
          "name": "stderr",
          "output_type": "stream",
          "text": [
            "     88/100      2.91G      1.023      1.774      1.028      1.206         81        640: 100%|██████████| 38/38 [00:19<00:00,  1.96it/s]\n",
            "                 Class     Images  Instances      Box(P          R      mAP50  mAP50-95)     Mask(P          R      mAP50  mAP50-95): 100%|██████████| 6/6 [00:04<00:00,  1.48it/s]"
          ]
        },
        {
          "name": "stdout",
          "output_type": "stream",
          "text": [
            "                   all        174        365      0.694       0.56      0.591      0.365      0.678      0.518        0.5      0.183\n"
          ]
        },
        {
          "name": "stderr",
          "output_type": "stream",
          "text": [
            "\n"
          ]
        },
        {
          "name": "stdout",
          "output_type": "stream",
          "text": [
            "\n",
            "      Epoch    GPU_mem   box_loss   seg_loss   cls_loss   dfl_loss  Instances       Size\n"
          ]
        },
        {
          "name": "stderr",
          "output_type": "stream",
          "text": [
            "     89/100      2.85G      1.018       1.75      1.053      1.199         54        640: 100%|██████████| 38/38 [00:19<00:00,  1.90it/s]\n",
            "                 Class     Images  Instances      Box(P          R      mAP50  mAP50-95)     Mask(P          R      mAP50  mAP50-95): 100%|██████████| 6/6 [00:03<00:00,  1.63it/s]"
          ]
        },
        {
          "name": "stdout",
          "output_type": "stream",
          "text": [
            "                   all        174        365      0.727      0.542      0.575      0.363      0.697      0.517      0.509      0.188\n"
          ]
        },
        {
          "name": "stderr",
          "output_type": "stream",
          "text": [
            "\n"
          ]
        },
        {
          "name": "stdout",
          "output_type": "stream",
          "text": [
            "\n",
            "      Epoch    GPU_mem   box_loss   seg_loss   cls_loss   dfl_loss  Instances       Size\n"
          ]
        },
        {
          "name": "stderr",
          "output_type": "stream",
          "text": [
            "     90/100      2.87G      1.005        1.8      1.056      1.206         73        640: 100%|██████████| 38/38 [00:20<00:00,  1.81it/s]\n",
            "                 Class     Images  Instances      Box(P          R      mAP50  mAP50-95)     Mask(P          R      mAP50  mAP50-95): 100%|██████████| 6/6 [00:03<00:00,  1.79it/s]"
          ]
        },
        {
          "name": "stdout",
          "output_type": "stream",
          "text": [
            "                   all        174        365      0.733      0.523      0.575      0.356      0.719      0.488      0.498      0.186\n"
          ]
        },
        {
          "name": "stderr",
          "output_type": "stream",
          "text": [
            "\n"
          ]
        },
        {
          "name": "stdout",
          "output_type": "stream",
          "text": [
            "Closing dataloader mosaic\n",
            "\u001b[34m\u001b[1malbumentations: \u001b[0mBlur(p=0.01, blur_limit=(3, 7)), MedianBlur(p=0.01, blur_limit=(3, 7)), ToGray(p=0.01), CLAHE(p=0.01, clip_limit=(1, 4.0), tile_grid_size=(8, 8))\n"
          ]
        },
        {
          "name": "stderr",
          "output_type": "stream",
          "text": [
            "os.fork() was called. os.fork() is incompatible with multithreaded code, and JAX is multithreaded, so this will likely lead to a deadlock.\n"
          ]
        },
        {
          "name": "stdout",
          "output_type": "stream",
          "text": [
            "\n",
            "      Epoch    GPU_mem   box_loss   seg_loss   cls_loss   dfl_loss  Instances       Size\n"
          ]
        },
        {
          "name": "stderr",
          "output_type": "stream",
          "text": [
            "     91/100      3.08G      1.104      1.648       1.24      1.332         39        640: 100%|██████████| 38/38 [00:21<00:00,  1.75it/s]\n",
            "                 Class     Images  Instances      Box(P          R      mAP50  mAP50-95)     Mask(P          R      mAP50  mAP50-95): 100%|██████████| 6/6 [00:04<00:00,  1.36it/s]"
          ]
        },
        {
          "name": "stdout",
          "output_type": "stream",
          "text": [
            "                   all        174        365      0.777      0.501      0.569      0.355      0.745      0.479      0.491      0.183\n"
          ]
        },
        {
          "name": "stderr",
          "output_type": "stream",
          "text": [
            "\n"
          ]
        },
        {
          "name": "stdout",
          "output_type": "stream",
          "text": [
            "\n",
            "      Epoch    GPU_mem   box_loss   seg_loss   cls_loss   dfl_loss  Instances       Size\n"
          ]
        },
        {
          "name": "stderr",
          "output_type": "stream",
          "text": [
            "     92/100      2.85G      1.038      1.676       1.15      1.306         37        640: 100%|██████████| 38/38 [00:17<00:00,  2.22it/s]\n",
            "                 Class     Images  Instances      Box(P          R      mAP50  mAP50-95)     Mask(P          R      mAP50  mAP50-95): 100%|██████████| 6/6 [00:03<00:00,  1.64it/s]"
          ]
        },
        {
          "name": "stdout",
          "output_type": "stream",
          "text": [
            "                   all        174        365      0.706       0.54      0.588      0.368      0.677        0.5      0.489      0.185\n"
          ]
        },
        {
          "name": "stderr",
          "output_type": "stream",
          "text": [
            "\n"
          ]
        },
        {
          "name": "stdout",
          "output_type": "stream",
          "text": [
            "\n",
            "      Epoch    GPU_mem   box_loss   seg_loss   cls_loss   dfl_loss  Instances       Size\n"
          ]
        },
        {
          "name": "stderr",
          "output_type": "stream",
          "text": [
            "     93/100      2.94G      1.035      1.617      1.124      1.283         33        640: 100%|██████████| 38/38 [00:18<00:00,  2.03it/s]\n",
            "                 Class     Images  Instances      Box(P          R      mAP50  mAP50-95)     Mask(P          R      mAP50  mAP50-95): 100%|██████████| 6/6 [00:03<00:00,  1.72it/s]"
          ]
        },
        {
          "name": "stdout",
          "output_type": "stream",
          "text": [
            "                   all        174        365      0.679      0.564      0.592      0.374      0.703      0.507      0.516      0.189\n"
          ]
        },
        {
          "name": "stderr",
          "output_type": "stream",
          "text": [
            "\n"
          ]
        },
        {
          "name": "stdout",
          "output_type": "stream",
          "text": [
            "\n",
            "      Epoch    GPU_mem   box_loss   seg_loss   cls_loss   dfl_loss  Instances       Size\n"
          ]
        },
        {
          "name": "stderr",
          "output_type": "stream",
          "text": [
            "     94/100      2.81G     0.9718      1.551      1.047      1.233         22        640: 100%|██████████| 38/38 [00:17<00:00,  2.23it/s]\n",
            "                 Class     Images  Instances      Box(P          R      mAP50  mAP50-95)     Mask(P          R      mAP50  mAP50-95): 100%|██████████| 6/6 [00:03<00:00,  1.55it/s]"
          ]
        },
        {
          "name": "stdout",
          "output_type": "stream",
          "text": [
            "                   all        174        365      0.678      0.575      0.599      0.381      0.661      0.523      0.505      0.189\n"
          ]
        },
        {
          "name": "stderr",
          "output_type": "stream",
          "text": [
            "\n"
          ]
        },
        {
          "name": "stdout",
          "output_type": "stream",
          "text": [
            "\n",
            "      Epoch    GPU_mem   box_loss   seg_loss   cls_loss   dfl_loss  Instances       Size\n"
          ]
        },
        {
          "name": "stderr",
          "output_type": "stream",
          "text": [
            "     95/100      2.95G      1.014      1.606      1.103      1.287         35        640: 100%|██████████| 38/38 [00:18<00:00,  2.10it/s]\n",
            "                 Class     Images  Instances      Box(P          R      mAP50  mAP50-95)     Mask(P          R      mAP50  mAP50-95): 100%|██████████| 6/6 [00:03<00:00,  1.86it/s]"
          ]
        },
        {
          "name": "stdout",
          "output_type": "stream",
          "text": [
            "                   all        174        365      0.692      0.578      0.607       0.38      0.696      0.501      0.508      0.192\n"
          ]
        },
        {
          "name": "stderr",
          "output_type": "stream",
          "text": [
            "\n"
          ]
        },
        {
          "name": "stdout",
          "output_type": "stream",
          "text": [
            "\n",
            "      Epoch    GPU_mem   box_loss   seg_loss   cls_loss   dfl_loss  Instances       Size\n"
          ]
        },
        {
          "name": "stderr",
          "output_type": "stream",
          "text": [
            "     96/100      2.85G      1.019      1.573      1.105      1.282         19        640: 100%|██████████| 38/38 [00:17<00:00,  2.17it/s]\n",
            "                 Class     Images  Instances      Box(P          R      mAP50  mAP50-95)     Mask(P          R      mAP50  mAP50-95): 100%|██████████| 6/6 [00:04<00:00,  1.20it/s]"
          ]
        },
        {
          "name": "stdout",
          "output_type": "stream",
          "text": [
            "                   all        174        365      0.672      0.584      0.599      0.378       0.68      0.499      0.505      0.186\n"
          ]
        },
        {
          "name": "stderr",
          "output_type": "stream",
          "text": [
            "\n"
          ]
        },
        {
          "name": "stdout",
          "output_type": "stream",
          "text": [
            "\n",
            "      Epoch    GPU_mem   box_loss   seg_loss   cls_loss   dfl_loss  Instances       Size\n"
          ]
        },
        {
          "name": "stderr",
          "output_type": "stream",
          "text": [
            "     97/100      2.89G     0.9569      1.526      1.053      1.254         43        640: 100%|██████████| 38/38 [00:17<00:00,  2.19it/s]\n",
            "                 Class     Images  Instances      Box(P          R      mAP50  mAP50-95)     Mask(P          R      mAP50  mAP50-95): 100%|██████████| 6/6 [00:03<00:00,  1.82it/s]"
          ]
        },
        {
          "name": "stdout",
          "output_type": "stream",
          "text": [
            "                   all        174        365       0.67      0.581      0.595      0.375      0.687      0.504      0.504      0.186\n"
          ]
        },
        {
          "name": "stderr",
          "output_type": "stream",
          "text": [
            "\n"
          ]
        },
        {
          "name": "stdout",
          "output_type": "stream",
          "text": [
            "\n",
            "      Epoch    GPU_mem   box_loss   seg_loss   cls_loss   dfl_loss  Instances       Size\n"
          ]
        },
        {
          "name": "stderr",
          "output_type": "stream",
          "text": [
            "     98/100      2.83G      0.967      1.567      1.067      1.264         37        640: 100%|██████████| 38/38 [00:18<00:00,  2.10it/s]\n",
            "                 Class     Images  Instances      Box(P          R      mAP50  mAP50-95)     Mask(P          R      mAP50  mAP50-95): 100%|██████████| 6/6 [00:04<00:00,  1.28it/s]"
          ]
        },
        {
          "name": "stdout",
          "output_type": "stream",
          "text": [
            "                   all        174        365      0.675      0.575      0.601      0.381      0.729      0.493      0.522      0.194\n"
          ]
        },
        {
          "name": "stderr",
          "output_type": "stream",
          "text": [
            "\n"
          ]
        },
        {
          "name": "stdout",
          "output_type": "stream",
          "text": [
            "\n",
            "      Epoch    GPU_mem   box_loss   seg_loss   cls_loss   dfl_loss  Instances       Size\n"
          ]
        },
        {
          "name": "stderr",
          "output_type": "stream",
          "text": [
            "     99/100      2.93G     0.9839      1.544      1.036      1.246         31        640: 100%|██████████| 38/38 [00:17<00:00,  2.17it/s]\n",
            "                 Class     Images  Instances      Box(P          R      mAP50  mAP50-95)     Mask(P          R      mAP50  mAP50-95): 100%|██████████| 6/6 [00:03<00:00,  1.85it/s]"
          ]
        },
        {
          "name": "stdout",
          "output_type": "stream",
          "text": [
            "                   all        174        365      0.703      0.578      0.608      0.384      0.693      0.534      0.527      0.194\n"
          ]
        },
        {
          "name": "stderr",
          "output_type": "stream",
          "text": [
            "\n"
          ]
        },
        {
          "name": "stdout",
          "output_type": "stream",
          "text": [
            "\n",
            "      Epoch    GPU_mem   box_loss   seg_loss   cls_loss   dfl_loss  Instances       Size\n"
          ]
        },
        {
          "name": "stderr",
          "output_type": "stream",
          "text": [
            "    100/100       2.9G     0.9498      1.537      1.025      1.246         28        640: 100%|██████████| 38/38 [00:18<00:00,  2.04it/s]\n",
            "                 Class     Images  Instances      Box(P          R      mAP50  mAP50-95)     Mask(P          R      mAP50  mAP50-95): 100%|██████████| 6/6 [00:03<00:00,  1.71it/s]"
          ]
        },
        {
          "name": "stdout",
          "output_type": "stream",
          "text": [
            "                   all        174        365      0.732      0.575       0.61      0.387      0.718      0.543      0.526      0.195\n"
          ]
        },
        {
          "name": "stderr",
          "output_type": "stream",
          "text": [
            "\n"
          ]
        },
        {
          "name": "stdout",
          "output_type": "stream",
          "text": [
            "\n",
            "100 epochs completed in 0.681 hours.\n",
            "Optimizer stripped from runs/segment/train3/weights/last.pt, 6.8MB\n",
            "Optimizer stripped from runs/segment/train3/weights/best.pt, 6.8MB\n",
            "\n",
            "Validating runs/segment/train3/weights/best.pt...\n",
            "Ultralytics YOLOv8.1.47 🚀 Python-3.10.12 torch-2.2.1+cu121 CUDA:0 (Tesla T4, 15102MiB)\n",
            "YOLOv8n-seg summary (fused): 195 layers, 3258259 parameters, 0 gradients, 12.0 GFLOPs\n"
          ]
        },
        {
          "name": "stderr",
          "output_type": "stream",
          "text": [
            "                 Class     Images  Instances      Box(P          R      mAP50  mAP50-95)     Mask(P          R      mAP50  mAP50-95): 100%|██████████| 6/6 [00:12<00:00,  2.16s/it]\n"
          ]
        },
        {
          "name": "stdout",
          "output_type": "stream",
          "text": [
            "                   all        174        365      0.735      0.575       0.61      0.387      0.717      0.541      0.526      0.194\n",
            "Speed: 0.3ms preprocess, 6.0ms inference, 0.0ms loss, 7.4ms postprocess per image\n",
            "Results saved to \u001b[1mruns/segment/train3\u001b[0m\n"
          ]
        }
      ],
      "source": [
        "model = YOLO('yolov8n-seg.pt')\n",
        "yaml_data = \"/content/drive/MyDrive/Crack Segmentation using YoloV8/data.yaml\"\n",
        "results = model.train(data=yaml_data,\n",
        "                      epochs=100,\n",
        "                      imgsz=640)"
      ]
    },
    {
      "cell_type": "code",
      "execution_count": 30,
      "metadata": {
        "colab": {
          "base_uri": "https://localhost:8080/"
        },
        "id": "gesBytAzKhJ5",
        "outputId": "9bd1fc8e-7821-4d3b-8cb8-0ed89229ea02"
      },
      "outputs": [
        {
          "name": "stdout",
          "output_type": "stream",
          "text": [
            "Ultralytics YOLOv8.1.47 🚀 Python-3.10.12 torch-2.2.1+cu121 CUDA:0 (Tesla T4, 15102MiB)\n",
            "YOLOv8n-seg summary (fused): 195 layers, 3258259 parameters, 0 gradients, 12.0 GFLOPs\n"
          ]
        },
        {
          "name": "stderr",
          "output_type": "stream",
          "text": [
            "\u001b[34m\u001b[1mval: \u001b[0mScanning /content/drive/MyDrive/Crack Segmentation using YoloV8/cracks-segmentation-asphalt--2/valid/labels.cache... 174 images, 0 backgrounds, 0 corrupt: 100%|██████████| 174/174 [00:00<?, ?it/s]\n",
            "os.fork() was called. os.fork() is incompatible with multithreaded code, and JAX is multithreaded, so this will likely lead to a deadlock.\n",
            "                 Class     Images  Instances      Box(P          R      mAP50  mAP50-95)     Mask(P          R      mAP50  mAP50-95): 100%|██████████| 11/11 [00:10<00:00,  1.01it/s]\n"
          ]
        },
        {
          "name": "stdout",
          "output_type": "stream",
          "text": [
            "                   all        174        365      0.732      0.576      0.608      0.387      0.714      0.539      0.525      0.195\n",
            "Speed: 1.1ms preprocess, 13.1ms inference, 0.0ms loss, 7.9ms postprocess per image\n",
            "Results saved to \u001b[1mruns/segment/train32\u001b[0m\n"
          ]
        }
      ],
      "source": [
        "model_valuation = model.val()"
      ]
    },
    {
      "cell_type": "code",
      "execution_count": 31,
      "metadata": {
        "colab": {
          "base_uri": "https://localhost:8080/"
        },
        "id": "yNcGfGW6KhHb",
        "outputId": "f7f38354-8de5-4a54-a03c-483954418b13"
      },
      "outputs": [
        {
          "name": "stdout",
          "output_type": "stream",
          "text": [
            "\n",
            "image 1/240 /content/drive/MyDrive/Crack Segmentation using YoloV8/images/001_14.jpg: 640x640 1 Cracks, 19.1ms\n",
            "image 2/240 /content/drive/MyDrive/Crack Segmentation using YoloV8/images/001_2.jpg: 640x640 2 Crackss, 18.8ms\n",
            "image 3/240 /content/drive/MyDrive/Crack Segmentation using YoloV8/images/001_6.jpg: 640x640 1 Cracks, 29.2ms\n",
            "image 4/240 /content/drive/MyDrive/Crack Segmentation using YoloV8/images/011_5.jpg: 640x640 1 Cracks, 28.8ms\n",
            "image 5/240 /content/drive/MyDrive/Crack Segmentation using YoloV8/images/017_0.jpg: 640x640 2 Crackss, 21.2ms\n",
            "image 6/240 /content/drive/MyDrive/Crack Segmentation using YoloV8/images/017_20.jpg: 640x640 4 Crackss, 21.4ms\n",
            "image 7/240 /content/drive/MyDrive/Crack Segmentation using YoloV8/images/017_24.jpg: 640x640 1 Cracks, 20.8ms\n",
            "image 8/240 /content/drive/MyDrive/Crack Segmentation using YoloV8/images/017_28.jpg: 640x640 2 Crackss, 20.9ms\n",
            "image 9/240 /content/drive/MyDrive/Crack Segmentation using YoloV8/images/017_36.jpg: 640x640 1 Cracks, 20.8ms\n",
            "image 10/240 /content/drive/MyDrive/Crack Segmentation using YoloV8/images/017_44.jpg: 640x640 1 Cracks, 20.6ms\n",
            "image 11/240 /content/drive/MyDrive/Crack Segmentation using YoloV8/images/017_8.jpg: 640x640 3 Crackss, 20.3ms\n",
            "image 12/240 /content/drive/MyDrive/Crack Segmentation using YoloV8/images/018_11.jpg: 640x640 2 Crackss, 19.9ms\n",
            "image 13/240 /content/drive/MyDrive/Crack Segmentation using YoloV8/images/018_15.jpg: 640x640 3 Crackss, 21.6ms\n",
            "image 14/240 /content/drive/MyDrive/Crack Segmentation using YoloV8/images/018_27.jpg: 640x640 1 Cracks, 24.2ms\n",
            "image 15/240 /content/drive/MyDrive/Crack Segmentation using YoloV8/images/018_3.jpg: 640x640 1 Cracks, 20.9ms\n",
            "image 16/240 /content/drive/MyDrive/Crack Segmentation using YoloV8/images/018_43.jpg: 640x640 1 Cracks, 23.0ms\n",
            "image 17/240 /content/drive/MyDrive/Crack Segmentation using YoloV8/images/018_7.jpg: 640x640 3 Crackss, 20.1ms\n",
            "image 18/240 /content/drive/MyDrive/Crack Segmentation using YoloV8/images/019_11.jpg: 640x640 1 Cracks, 23.6ms\n",
            "image 19/240 /content/drive/MyDrive/Crack Segmentation using YoloV8/images/019_2.jpg: 640x640 1 Cracks, 20.4ms\n",
            "image 20/240 /content/drive/MyDrive/Crack Segmentation using YoloV8/images/019_3.jpg: 640x640 2 Crackss, 21.3ms\n",
            "image 21/240 /content/drive/MyDrive/Crack Segmentation using YoloV8/images/019_36.jpg: 640x640 2 Crackss, 19.8ms\n",
            "image 22/240 /content/drive/MyDrive/Crack Segmentation using YoloV8/images/019_44.jpg: 640x640 1 Cracks, 22.5ms\n",
            "image 23/240 /content/drive/MyDrive/Crack Segmentation using YoloV8/images/019_8.jpg: 640x640 (no detections), 20.3ms\n",
            "image 24/240 /content/drive/MyDrive/Crack Segmentation using YoloV8/images/020_10.jpg: 640x640 1 Cracks, 19.7ms\n",
            "image 25/240 /content/drive/MyDrive/Crack Segmentation using YoloV8/images/020_19.jpg: 640x640 1 Cracks, 23.4ms\n",
            "image 26/240 /content/drive/MyDrive/Crack Segmentation using YoloV8/images/020_28.jpg: 640x640 1 Cracks, 20.5ms\n",
            "image 27/240 /content/drive/MyDrive/Crack Segmentation using YoloV8/images/020_33.jpg: 640x640 1 Cracks, 21.3ms\n",
            "image 28/240 /content/drive/MyDrive/Crack Segmentation using YoloV8/images/020_34.jpg: 640x640 2 Crackss, 19.7ms\n",
            "image 29/240 /content/drive/MyDrive/Crack Segmentation using YoloV8/images/020_40.jpg: 640x640 1 Cracks, 20.2ms\n",
            "image 30/240 /content/drive/MyDrive/Crack Segmentation using YoloV8/images/020_41.jpg: 640x640 1 Cracks, 20.8ms\n",
            "image 31/240 /content/drive/MyDrive/Crack Segmentation using YoloV8/images/020_46.jpg: 640x640 1 Cracks, 19.3ms\n",
            "image 32/240 /content/drive/MyDrive/Crack Segmentation using YoloV8/images/020_9.jpg: 640x640 (no detections), 19.6ms\n",
            "image 33/240 /content/drive/MyDrive/Crack Segmentation using YoloV8/images/021_13.jpg: 640x640 2 Crackss, 19.9ms\n",
            "image 34/240 /content/drive/MyDrive/Crack Segmentation using YoloV8/images/021_29.jpg: 640x640 2 Crackss, 19.5ms\n",
            "image 35/240 /content/drive/MyDrive/Crack Segmentation using YoloV8/images/021_37.jpg: 640x640 1 Cracks, 23.2ms\n",
            "image 36/240 /content/drive/MyDrive/Crack Segmentation using YoloV8/images/021_38.jpg: 640x640 1 Cracks, 20.6ms\n",
            "image 37/240 /content/drive/MyDrive/Crack Segmentation using YoloV8/images/021_4.jpg: 640x640 1 Cracks, 27.1ms\n",
            "image 38/240 /content/drive/MyDrive/Crack Segmentation using YoloV8/images/021_46.jpg: 640x640 2 Crackss, 30.0ms\n",
            "image 39/240 /content/drive/MyDrive/Crack Segmentation using YoloV8/images/023_10.jpg: 640x640 2 Crackss, 20.1ms\n",
            "image 40/240 /content/drive/MyDrive/Crack Segmentation using YoloV8/images/023_11.jpg: 640x640 2 Crackss, 24.8ms\n",
            "image 41/240 /content/drive/MyDrive/Crack Segmentation using YoloV8/images/023_18.jpg: 640x640 1 Cracks, 22.7ms\n",
            "image 42/240 /content/drive/MyDrive/Crack Segmentation using YoloV8/images/023_20.jpg: 640x640 1 Cracks, 22.0ms\n",
            "image 43/240 /content/drive/MyDrive/Crack Segmentation using YoloV8/images/023_21.jpg: 640x640 2 Crackss, 24.5ms\n",
            "image 44/240 /content/drive/MyDrive/Crack Segmentation using YoloV8/images/023_22.jpg: 640x640 2 Crackss, 26.1ms\n",
            "image 45/240 /content/drive/MyDrive/Crack Segmentation using YoloV8/images/023_31.jpg: 640x640 1 Cracks, 25.4ms\n",
            "image 46/240 /content/drive/MyDrive/Crack Segmentation using YoloV8/images/023_39.jpg: 640x640 (no detections), 23.9ms\n",
            "image 47/240 /content/drive/MyDrive/Crack Segmentation using YoloV8/images/023_8.jpg: 640x640 1 Cracks, 23.3ms\n",
            "image 48/240 /content/drive/MyDrive/Crack Segmentation using YoloV8/images/024_16.jpg: 640x640 2 Crackss, 22.9ms\n",
            "image 49/240 /content/drive/MyDrive/Crack Segmentation using YoloV8/images/024_17.jpg: 640x640 5 Crackss, 25.7ms\n",
            "image 50/240 /content/drive/MyDrive/Crack Segmentation using YoloV8/images/024_18.jpg: 640x640 3 Crackss, 25.2ms\n",
            "image 51/240 /content/drive/MyDrive/Crack Segmentation using YoloV8/images/024_26.jpg: 640x640 1 Cracks, 23.6ms\n",
            "image 52/240 /content/drive/MyDrive/Crack Segmentation using YoloV8/images/024_28.jpg: 640x640 1 Cracks, 24.8ms\n",
            "image 53/240 /content/drive/MyDrive/Crack Segmentation using YoloV8/images/024_30.jpg: 640x640 1 Cracks, 24.5ms\n",
            "image 54/240 /content/drive/MyDrive/Crack Segmentation using YoloV8/images/024_31.jpg: 640x640 1 Cracks, 24.8ms\n",
            "image 55/240 /content/drive/MyDrive/Crack Segmentation using YoloV8/images/024_8.jpg: 640x640 1 Cracks, 23.6ms\n",
            "image 56/240 /content/drive/MyDrive/Crack Segmentation using YoloV8/images/025_16.jpg: 640x640 3 Crackss, 24.5ms\n",
            "image 57/240 /content/drive/MyDrive/Crack Segmentation using YoloV8/images/025_26.jpg: 640x640 1 Cracks, 18.4ms\n",
            "image 58/240 /content/drive/MyDrive/Crack Segmentation using YoloV8/images/025_27.jpg: 640x640 2 Crackss, 18.0ms\n",
            "image 59/240 /content/drive/MyDrive/Crack Segmentation using YoloV8/images/025_28.jpg: 640x640 2 Crackss, 18.3ms\n",
            "image 60/240 /content/drive/MyDrive/Crack Segmentation using YoloV8/images/025_29.jpg: 640x640 2 Crackss, 18.4ms\n",
            "image 61/240 /content/drive/MyDrive/Crack Segmentation using YoloV8/images/025_31.jpg: 640x640 1 Cracks, 18.6ms\n",
            "image 62/240 /content/drive/MyDrive/Crack Segmentation using YoloV8/images/026_17.jpg: 640x640 1 Cracks, 18.6ms\n",
            "image 63/240 /content/drive/MyDrive/Crack Segmentation using YoloV8/images/026_18.jpg: 640x640 1 Cracks, 18.5ms\n",
            "image 64/240 /content/drive/MyDrive/Crack Segmentation using YoloV8/images/026_19.jpg: 640x640 1 Cracks, 19.4ms\n",
            "image 65/240 /content/drive/MyDrive/Crack Segmentation using YoloV8/images/026_27.jpg: 640x640 1 Cracks, 23.7ms\n",
            "image 66/240 /content/drive/MyDrive/Crack Segmentation using YoloV8/images/026_28.jpg: 640x640 3 Crackss, 18.9ms\n",
            "image 67/240 /content/drive/MyDrive/Crack Segmentation using YoloV8/images/026_29.jpg: 640x640 2 Crackss, 18.5ms\n",
            "image 68/240 /content/drive/MyDrive/Crack Segmentation using YoloV8/images/026_31.jpg: 640x640 1 Cracks, 18.6ms\n",
            "image 69/240 /content/drive/MyDrive/Crack Segmentation using YoloV8/images/026_8.jpg: 640x640 (no detections), 18.3ms\n",
            "image 70/240 /content/drive/MyDrive/Crack Segmentation using YoloV8/images/027_10.jpg: 640x640 1 Cracks, 22.7ms\n",
            "image 71/240 /content/drive/MyDrive/Crack Segmentation using YoloV8/images/027_19.jpg: 640x640 2 Crackss, 19.0ms\n",
            "image 72/240 /content/drive/MyDrive/Crack Segmentation using YoloV8/images/027_20.jpg: 640x640 1 Cracks, 18.1ms\n",
            "image 73/240 /content/drive/MyDrive/Crack Segmentation using YoloV8/images/027_30.jpg: 640x640 1 Cracks, 18.1ms\n",
            "image 74/240 /content/drive/MyDrive/Crack Segmentation using YoloV8/images/027_38.jpg: 640x640 1 Cracks, 18.8ms\n",
            "image 75/240 /content/drive/MyDrive/Crack Segmentation using YoloV8/images/027_39.jpg: 640x640 (no detections), 18.6ms\n",
            "image 76/240 /content/drive/MyDrive/Crack Segmentation using YoloV8/images/028_17.jpg: 640x640 1 Cracks, 18.3ms\n",
            "image 77/240 /content/drive/MyDrive/Crack Segmentation using YoloV8/images/028_18.jpg: 640x640 2 Crackss, 18.3ms\n",
            "image 78/240 /content/drive/MyDrive/Crack Segmentation using YoloV8/images/028_19.jpg: 640x640 1 Cracks, 18.5ms\n",
            "image 79/240 /content/drive/MyDrive/Crack Segmentation using YoloV8/images/028_28.jpg: 640x640 2 Crackss, 18.4ms\n",
            "image 80/240 /content/drive/MyDrive/Crack Segmentation using YoloV8/images/029_26.jpg: 640x640 1 Cracks, 18.1ms\n",
            "image 81/240 /content/drive/MyDrive/Crack Segmentation using YoloV8/images/029_27.jpg: 640x640 2 Crackss, 18.2ms\n",
            "image 82/240 /content/drive/MyDrive/Crack Segmentation using YoloV8/images/029_29.jpg: 640x640 2 Crackss, 23.1ms\n",
            "image 83/240 /content/drive/MyDrive/Crack Segmentation using YoloV8/images/030_17.jpg: 640x640 1 Cracks, 17.8ms\n",
            "image 84/240 /content/drive/MyDrive/Crack Segmentation using YoloV8/images/030_21.jpg: 640x640 1 Cracks, 17.8ms\n",
            "image 85/240 /content/drive/MyDrive/Crack Segmentation using YoloV8/images/030_26.jpg: 640x640 1 Cracks, 18.8ms\n",
            "image 86/240 /content/drive/MyDrive/Crack Segmentation using YoloV8/images/030_29.jpg: 640x640 2 Crackss, 18.1ms\n",
            "image 87/240 /content/drive/MyDrive/Crack Segmentation using YoloV8/images/030_30.jpg: 640x640 1 Cracks, 17.9ms\n",
            "image 88/240 /content/drive/MyDrive/Crack Segmentation using YoloV8/images/031_18.jpg: 640x640 1 Cracks, 18.4ms\n",
            "image 89/240 /content/drive/MyDrive/Crack Segmentation using YoloV8/images/031_19.jpg: 640x640 2 Crackss, 17.9ms\n",
            "image 90/240 /content/drive/MyDrive/Crack Segmentation using YoloV8/images/031_26.jpg: 640x640 1 Cracks, 19.3ms\n",
            "image 91/240 /content/drive/MyDrive/Crack Segmentation using YoloV8/images/031_27.jpg: 640x640 3 Crackss, 20.2ms\n",
            "image 92/240 /content/drive/MyDrive/Crack Segmentation using YoloV8/images/031_28.jpg: 640x640 6 Crackss, 18.7ms\n",
            "image 93/240 /content/drive/MyDrive/Crack Segmentation using YoloV8/images/031_29.jpg: 640x640 5 Crackss, 19.0ms\n",
            "image 94/240 /content/drive/MyDrive/Crack Segmentation using YoloV8/images/031_31.jpg: 640x640 2 Crackss, 18.2ms\n",
            "image 95/240 /content/drive/MyDrive/Crack Segmentation using YoloV8/images/032_10.jpg: 640x640 (no detections), 18.0ms\n",
            "image 96/240 /content/drive/MyDrive/Crack Segmentation using YoloV8/images/032_11.jpg: 640x640 1 Cracks, 18.3ms\n",
            "image 97/240 /content/drive/MyDrive/Crack Segmentation using YoloV8/images/032_19.jpg: 640x640 1 Cracks, 19.0ms\n",
            "image 98/240 /content/drive/MyDrive/Crack Segmentation using YoloV8/images/032_2.jpg: 640x640 3 Crackss, 18.4ms\n",
            "image 99/240 /content/drive/MyDrive/Crack Segmentation using YoloV8/images/032_20.jpg: 640x640 1 Cracks, 17.7ms\n",
            "image 100/240 /content/drive/MyDrive/Crack Segmentation using YoloV8/images/032_28.jpg: 640x640 1 Cracks, 17.8ms\n",
            "image 101/240 /content/drive/MyDrive/Crack Segmentation using YoloV8/images/032_37.jpg: 640x640 3 Crackss, 17.7ms\n",
            "image 102/240 /content/drive/MyDrive/Crack Segmentation using YoloV8/images/032_45.jpg: 640x640 1 Cracks, 29.5ms\n",
            "image 103/240 /content/drive/MyDrive/Crack Segmentation using YoloV8/images/034_10.jpg: 640x640 1 Cracks, 18.1ms\n",
            "image 104/240 /content/drive/MyDrive/Crack Segmentation using YoloV8/images/034_11.jpg: 640x640 1 Cracks, 17.9ms\n",
            "image 105/240 /content/drive/MyDrive/Crack Segmentation using YoloV8/images/034_19.jpg: 640x640 2 Crackss, 20.6ms\n",
            "image 106/240 /content/drive/MyDrive/Crack Segmentation using YoloV8/images/034_2.jpg: 640x640 4 Crackss, 18.6ms\n",
            "image 107/240 /content/drive/MyDrive/Crack Segmentation using YoloV8/images/034_28.jpg: 640x640 2 Crackss, 17.8ms\n",
            "image 108/240 /content/drive/MyDrive/Crack Segmentation using YoloV8/images/034_37.jpg: 640x640 1 Cracks, 17.7ms\n",
            "image 109/240 /content/drive/MyDrive/Crack Segmentation using YoloV8/images/034_45.jpg: 640x640 2 Crackss, 18.2ms\n",
            "image 110/240 /content/drive/MyDrive/Crack Segmentation using YoloV8/images/034_46.jpg: 640x640 1 Cracks, 18.7ms\n",
            "image 111/240 /content/drive/MyDrive/Crack Segmentation using YoloV8/images/035_10.jpg: 640x640 4 Crackss, 18.5ms\n",
            "image 112/240 /content/drive/MyDrive/Crack Segmentation using YoloV8/images/035_19.jpg: 640x640 1 Cracks, 18.3ms\n",
            "image 113/240 /content/drive/MyDrive/Crack Segmentation using YoloV8/images/035_37.jpg: 640x640 1 Cracks, 17.8ms\n",
            "image 114/240 /content/drive/MyDrive/Crack Segmentation using YoloV8/images/035_46.jpg: 640x640 1 Cracks, 17.6ms\n",
            "image 115/240 /content/drive/MyDrive/Crack Segmentation using YoloV8/images/035_9.jpg: 640x640 1 Cracks, 17.6ms\n",
            "image 116/240 /content/drive/MyDrive/Crack Segmentation using YoloV8/images/036_11.jpg: 640x640 1 Cracks, 19.8ms\n",
            "image 117/240 /content/drive/MyDrive/Crack Segmentation using YoloV8/images/036_21.jpg: 640x640 1 Cracks, 17.4ms\n",
            "image 118/240 /content/drive/MyDrive/Crack Segmentation using YoloV8/images/036_29.jpg: 640x640 2 Crackss, 17.5ms\n",
            "image 119/240 /content/drive/MyDrive/Crack Segmentation using YoloV8/images/036_30.jpg: 640x640 4 Crackss, 17.1ms\n",
            "image 120/240 /content/drive/MyDrive/Crack Segmentation using YoloV8/images/036_39.jpg: 640x640 1 Cracks, 19.5ms\n",
            "image 121/240 /content/drive/MyDrive/Crack Segmentation using YoloV8/images/036_8.jpg: 640x640 2 Crackss, 17.6ms\n",
            "image 122/240 /content/drive/MyDrive/Crack Segmentation using YoloV8/images/036_9.jpg: 640x640 1 Cracks, 22.8ms\n",
            "image 123/240 /content/drive/MyDrive/Crack Segmentation using YoloV8/images/037_16.jpg: 640x640 1 Cracks, 19.4ms\n",
            "image 124/240 /content/drive/MyDrive/Crack Segmentation using YoloV8/images/037_19.jpg: 640x640 2 Crackss, 18.3ms\n",
            "image 125/240 /content/drive/MyDrive/Crack Segmentation using YoloV8/images/037_20.jpg: 640x640 3 Crackss, 17.7ms\n",
            "image 126/240 /content/drive/MyDrive/Crack Segmentation using YoloV8/images/037_22.jpg: 640x640 (no detections), 17.6ms\n",
            "image 127/240 /content/drive/MyDrive/Crack Segmentation using YoloV8/images/037_31.jpg: 640x640 1 Cracks, 17.7ms\n",
            "image 128/240 /content/drive/MyDrive/Crack Segmentation using YoloV8/images/037_39.jpg: 640x640 1 Cracks, 19.5ms\n",
            "image 129/240 /content/drive/MyDrive/Crack Segmentation using YoloV8/images/038_0.jpg: 640x640 1 Cracks, 17.4ms\n",
            "image 130/240 /content/drive/MyDrive/Crack Segmentation using YoloV8/images/038_1.jpg: 640x640 2 Crackss, 17.5ms\n",
            "image 131/240 /content/drive/MyDrive/Crack Segmentation using YoloV8/images/038_10.jpg: 640x640 6 Crackss, 17.8ms\n",
            "image 132/240 /content/drive/MyDrive/Crack Segmentation using YoloV8/images/038_18.jpg: 640x640 3 Crackss, 18.1ms\n",
            "image 133/240 /content/drive/MyDrive/Crack Segmentation using YoloV8/images/038_19.jpg: 640x640 2 Crackss, 17.4ms\n",
            "image 134/240 /content/drive/MyDrive/Crack Segmentation using YoloV8/images/038_8.jpg: 640x640 3 Crackss, 17.2ms\n",
            "image 135/240 /content/drive/MyDrive/Crack Segmentation using YoloV8/images/039_20.jpg: 640x640 1 Cracks, 17.8ms\n",
            "image 136/240 /content/drive/MyDrive/Crack Segmentation using YoloV8/images/039_24.jpg: 640x640 1 Cracks, 17.4ms\n",
            "image 137/240 /content/drive/MyDrive/Crack Segmentation using YoloV8/images/039_37.jpg: 640x640 2 Crackss, 17.8ms\n",
            "image 138/240 /content/drive/MyDrive/Crack Segmentation using YoloV8/images/040_21.jpg: 640x640 1 Cracks, 17.5ms\n",
            "image 139/240 /content/drive/MyDrive/Crack Segmentation using YoloV8/images/040_23.jpg: 640x640 2 Crackss, 17.8ms\n",
            "image 140/240 /content/drive/MyDrive/Crack Segmentation using YoloV8/images/040_26.jpg: 640x640 1 Cracks, 17.8ms\n",
            "image 141/240 /content/drive/MyDrive/Crack Segmentation using YoloV8/images/040_28.jpg: 640x640 1 Cracks, 22.7ms\n",
            "image 142/240 /content/drive/MyDrive/Crack Segmentation using YoloV8/images/040_33.jpg: 640x640 6 Crackss, 17.4ms\n",
            "image 143/240 /content/drive/MyDrive/Crack Segmentation using YoloV8/images/040_34.jpg: 640x640 5 Crackss, 17.6ms\n",
            "image 144/240 /content/drive/MyDrive/Crack Segmentation using YoloV8/images/041_0.jpg: 640x640 1 Cracks, 17.3ms\n",
            "image 145/240 /content/drive/MyDrive/Crack Segmentation using YoloV8/images/041_1.jpg: 640x640 1 Cracks, 17.5ms\n",
            "image 146/240 /content/drive/MyDrive/Crack Segmentation using YoloV8/images/041_10.jpg: 640x640 2 Crackss, 18.1ms\n",
            "image 147/240 /content/drive/MyDrive/Crack Segmentation using YoloV8/images/041_11.jpg: 640x640 1 Cracks, 17.8ms\n",
            "image 148/240 /content/drive/MyDrive/Crack Segmentation using YoloV8/images/041_19.jpg: 640x640 2 Crackss, 24.4ms\n",
            "image 149/240 /content/drive/MyDrive/Crack Segmentation using YoloV8/images/041_21.jpg: 640x640 3 Crackss, 22.2ms\n",
            "image 150/240 /content/drive/MyDrive/Crack Segmentation using YoloV8/images/041_22.jpg: 640x640 4 Crackss, 20.9ms\n",
            "image 151/240 /content/drive/MyDrive/Crack Segmentation using YoloV8/images/041_28.jpg: 640x640 1 Cracks, 19.8ms\n",
            "image 152/240 /content/drive/MyDrive/Crack Segmentation using YoloV8/images/041_30.jpg: 640x640 2 Crackss, 19.9ms\n",
            "image 153/240 /content/drive/MyDrive/Crack Segmentation using YoloV8/images/041_31.jpg: 640x640 2 Crackss, 20.4ms\n",
            "image 154/240 /content/drive/MyDrive/Crack Segmentation using YoloV8/images/041_8.jpg: 640x640 1 Cracks, 20.4ms\n",
            "image 155/240 /content/drive/MyDrive/Crack Segmentation using YoloV8/images/042_17.jpg: 640x640 1 Cracks, 19.6ms\n",
            "image 156/240 /content/drive/MyDrive/Crack Segmentation using YoloV8/images/042_28.jpg: 640x640 2 Crackss, 19.5ms\n",
            "image 157/240 /content/drive/MyDrive/Crack Segmentation using YoloV8/images/042_37.jpg: 640x640 1 Cracks, 19.6ms\n",
            "image 158/240 /content/drive/MyDrive/Crack Segmentation using YoloV8/images/043_12.jpg: 640x640 3 Crackss, 19.5ms\n",
            "image 159/240 /content/drive/MyDrive/Crack Segmentation using YoloV8/images/043_14.jpg: 640x640 (no detections), 19.5ms\n",
            "image 160/240 /content/drive/MyDrive/Crack Segmentation using YoloV8/images/043_20.jpg: 640x640 3 Crackss, 21.5ms\n",
            "image 161/240 /content/drive/MyDrive/Crack Segmentation using YoloV8/images/043_23.jpg: 640x640 1 Cracks, 20.2ms\n",
            "image 162/240 /content/drive/MyDrive/Crack Segmentation using YoloV8/images/043_25.jpg: 640x640 5 Crackss, 21.1ms\n",
            "image 163/240 /content/drive/MyDrive/Crack Segmentation using YoloV8/images/043_26.jpg: 640x640 5 Crackss, 22.4ms\n",
            "image 164/240 /content/drive/MyDrive/Crack Segmentation using YoloV8/images/043_33.jpg: 640x640 4 Crackss, 24.3ms\n",
            "image 165/240 /content/drive/MyDrive/Crack Segmentation using YoloV8/images/045_1.jpg: 640x640 1 Cracks, 25.6ms\n",
            "image 166/240 /content/drive/MyDrive/Crack Segmentation using YoloV8/images/045_19.jpg: 640x640 2 Crackss, 23.3ms\n",
            "image 167/240 /content/drive/MyDrive/Crack Segmentation using YoloV8/images/045_2.jpg: 640x640 1 Cracks, 20.4ms\n",
            "image 168/240 /content/drive/MyDrive/Crack Segmentation using YoloV8/images/045_29.jpg: 640x640 4 Crackss, 21.0ms\n",
            "image 169/240 /content/drive/MyDrive/Crack Segmentation using YoloV8/images/046_10.jpg: 640x640 3 Crackss, 21.3ms\n",
            "image 170/240 /content/drive/MyDrive/Crack Segmentation using YoloV8/images/046_11.jpg: 640x640 (no detections), 19.2ms\n",
            "image 171/240 /content/drive/MyDrive/Crack Segmentation using YoloV8/images/046_27.jpg: 640x640 2 Crackss, 35.1ms\n",
            "image 172/240 /content/drive/MyDrive/Crack Segmentation using YoloV8/images/046_29.jpg: 640x640 1 Cracks, 90.3ms\n",
            "image 173/240 /content/drive/MyDrive/Crack Segmentation using YoloV8/images/046_3.jpg: 640x640 3 Crackss, 110.7ms\n",
            "image 174/240 /content/drive/MyDrive/Crack Segmentation using YoloV8/images/046_35.jpg: 640x640 5 Crackss, 20.2ms\n",
            "image 175/240 /content/drive/MyDrive/Crack Segmentation using YoloV8/images/046_39.jpg: 640x640 2 Crackss, 19.9ms\n",
            "image 176/240 /content/drive/MyDrive/Crack Segmentation using YoloV8/images/046_43.jpg: 640x640 3 Crackss, 19.6ms\n",
            "image 177/240 /content/drive/MyDrive/Crack Segmentation using YoloV8/images/046_44.jpg: 640x640 2 Crackss, 19.5ms\n",
            "image 178/240 /content/drive/MyDrive/Crack Segmentation using YoloV8/images/046_8.jpg: 640x640 1 Cracks, 19.5ms\n",
            "image 179/240 /content/drive/MyDrive/Crack Segmentation using YoloV8/images/046_9.jpg: 640x640 1 Cracks, 20.0ms\n",
            "image 180/240 /content/drive/MyDrive/Crack Segmentation using YoloV8/images/047_18.jpg: 640x640 2 Crackss, 24.2ms\n",
            "image 181/240 /content/drive/MyDrive/Crack Segmentation using YoloV8/images/047_19.jpg: 640x640 2 Crackss, 49.5ms\n",
            "image 182/240 /content/drive/MyDrive/Crack Segmentation using YoloV8/images/047_20.jpg: 640x640 1 Cracks, 80.8ms\n",
            "image 183/240 /content/drive/MyDrive/Crack Segmentation using YoloV8/images/047_21.jpg: 640x640 2 Crackss, 77.5ms\n",
            "image 184/240 /content/drive/MyDrive/Crack Segmentation using YoloV8/images/047_23.jpg: 640x640 1 Cracks, 40.9ms\n",
            "image 185/240 /content/drive/MyDrive/Crack Segmentation using YoloV8/images/047_26.jpg: 640x640 2 Crackss, 23.9ms\n",
            "image 186/240 /content/drive/MyDrive/Crack Segmentation using YoloV8/images/047_28.jpg: 640x640 1 Cracks, 24.1ms\n",
            "image 187/240 /content/drive/MyDrive/Crack Segmentation using YoloV8/images/047_8.jpg: 640x640 3 Crackss, 23.2ms\n",
            "image 188/240 /content/drive/MyDrive/Crack Segmentation using YoloV8/images/047_9.jpg: 640x640 1 Cracks, 25.7ms\n",
            "image 189/240 /content/drive/MyDrive/Crack Segmentation using YoloV8/images/048_12.jpg: 640x640 2 Crackss, 23.6ms\n",
            "image 190/240 /content/drive/MyDrive/Crack Segmentation using YoloV8/images/048_18.jpg: 640x640 1 Cracks, 23.4ms\n",
            "image 191/240 /content/drive/MyDrive/Crack Segmentation using YoloV8/images/048_20.jpg: 640x640 4 Crackss, 148.6ms\n",
            "image 192/240 /content/drive/MyDrive/Crack Segmentation using YoloV8/images/048_21.jpg: 640x640 2 Crackss, 55.5ms\n",
            "image 193/240 /content/drive/MyDrive/Crack Segmentation using YoloV8/images/048_25.jpg: 640x640 1 Cracks, 70.7ms\n",
            "image 194/240 /content/drive/MyDrive/Crack Segmentation using YoloV8/images/048_26.jpg: 640x640 1 Cracks, 25.8ms\n",
            "image 195/240 /content/drive/MyDrive/Crack Segmentation using YoloV8/images/048_27.jpg: 640x640 (no detections), 23.3ms\n",
            "image 196/240 /content/drive/MyDrive/Crack Segmentation using YoloV8/images/048_29.jpg: 640x640 1 Cracks, 18.1ms\n",
            "image 197/240 /content/drive/MyDrive/Crack Segmentation using YoloV8/images/048_5.jpg: 640x640 1 Cracks, 18.1ms\n",
            "image 198/240 /content/drive/MyDrive/Crack Segmentation using YoloV8/images/048_6.jpg: 640x640 1 Cracks, 18.6ms\n",
            "image 199/240 /content/drive/MyDrive/Crack Segmentation using YoloV8/images/049_18.jpg: 640x640 2 Crackss, 18.5ms\n",
            "image 200/240 /content/drive/MyDrive/Crack Segmentation using YoloV8/images/049_19.jpg: 640x640 1 Cracks, 18.2ms\n",
            "image 201/240 /content/drive/MyDrive/Crack Segmentation using YoloV8/images/049_22.jpg: 640x640 3 Crackss, 18.7ms\n",
            "image 202/240 /content/drive/MyDrive/Crack Segmentation using YoloV8/images/049_23.jpg: 640x640 3 Crackss, 18.1ms\n",
            "image 203/240 /content/drive/MyDrive/Crack Segmentation using YoloV8/images/049_26.jpg: 640x640 (no detections), 18.5ms\n",
            "image 204/240 /content/drive/MyDrive/Crack Segmentation using YoloV8/images/049_27.jpg: 640x640 1 Cracks, 28.5ms\n",
            "image 205/240 /content/drive/MyDrive/Crack Segmentation using YoloV8/images/049_28.jpg: 640x640 2 Crackss, 18.4ms\n",
            "image 206/240 /content/drive/MyDrive/Crack Segmentation using YoloV8/images/050_11.jpg: 640x640 5 Crackss, 19.3ms\n",
            "image 207/240 /content/drive/MyDrive/Crack Segmentation using YoloV8/images/050_20.jpg: 640x640 1 Cracks, 18.7ms\n",
            "image 208/240 /content/drive/MyDrive/Crack Segmentation using YoloV8/images/050_27.jpg: 640x640 2 Crackss, 18.6ms\n",
            "image 209/240 /content/drive/MyDrive/Crack Segmentation using YoloV8/images/050_28.jpg: 640x640 1 Cracks, 18.2ms\n",
            "image 210/240 /content/drive/MyDrive/Crack Segmentation using YoloV8/images/050_35.jpg: 640x640 1 Cracks, 17.8ms\n",
            "image 211/240 /content/drive/MyDrive/Crack Segmentation using YoloV8/images/050_38.jpg: 640x640 2 Crackss, 17.7ms\n",
            "image 212/240 /content/drive/MyDrive/Crack Segmentation using YoloV8/images/050_43.jpg: 640x640 1 Cracks, 18.3ms\n",
            "image 213/240 /content/drive/MyDrive/Crack Segmentation using YoloV8/images/050_45.jpg: 640x640 1 Cracks, 18.5ms\n",
            "image 214/240 /content/drive/MyDrive/Crack Segmentation using YoloV8/images/050_47.jpg: 640x640 1 Cracks, 18.5ms\n",
            "image 215/240 /content/drive/MyDrive/Crack Segmentation using YoloV8/images/051_12.jpg: 640x640 1 Cracks, 18.7ms\n",
            "image 216/240 /content/drive/MyDrive/Crack Segmentation using YoloV8/images/051_13.jpg: 640x640 1 Cracks, 18.6ms\n",
            "image 217/240 /content/drive/MyDrive/Crack Segmentation using YoloV8/images/051_14.jpg: 640x640 1 Cracks, 18.7ms\n",
            "image 218/240 /content/drive/MyDrive/Crack Segmentation using YoloV8/images/051_20.jpg: 640x640 1 Cracks, 18.3ms\n",
            "image 219/240 /content/drive/MyDrive/Crack Segmentation using YoloV8/images/051_35.jpg: 640x640 2 Crackss, 18.1ms\n",
            "image 220/240 /content/drive/MyDrive/Crack Segmentation using YoloV8/images/051_4.jpg: 640x640 1 Cracks, 18.3ms\n",
            "image 221/240 /content/drive/MyDrive/Crack Segmentation using YoloV8/images/051_41.jpg: 640x640 (no detections), 18.2ms\n",
            "image 222/240 /content/drive/MyDrive/Crack Segmentation using YoloV8/images/051_42.jpg: 640x640 2 Crackss, 18.4ms\n",
            "image 223/240 /content/drive/MyDrive/Crack Segmentation using YoloV8/images/051_5.jpg: 640x640 2 Crackss, 18.4ms\n",
            "image 224/240 /content/drive/MyDrive/Crack Segmentation using YoloV8/images/051_6.jpg: 640x640 1 Cracks, 17.9ms\n",
            "image 225/240 /content/drive/MyDrive/Crack Segmentation using YoloV8/images/052_36.jpg: 640x640 1 Cracks, 18.5ms\n",
            "image 226/240 /content/drive/MyDrive/Crack Segmentation using YoloV8/images/052_37.jpg: 640x640 (no detections), 18.0ms\n",
            "image 227/240 /content/drive/MyDrive/Crack Segmentation using YoloV8/images/052_4.jpg: 640x640 (no detections), 17.9ms\n",
            "image 228/240 /content/drive/MyDrive/Crack Segmentation using YoloV8/images/052_44.jpg: 640x640 1 Cracks, 18.3ms\n",
            "image 229/240 /content/drive/MyDrive/Crack Segmentation using YoloV8/images/053_1.jpg: 640x640 1 Cracks, 18.7ms\n",
            "image 230/240 /content/drive/MyDrive/Crack Segmentation using YoloV8/images/053_10.jpg: 640x640 1 Cracks, 19.1ms\n",
            "image 231/240 /content/drive/MyDrive/Crack Segmentation using YoloV8/images/053_28.jpg: 640x640 3 Crackss, 18.3ms\n",
            "image 232/240 /content/drive/MyDrive/Crack Segmentation using YoloV8/images/053_29.jpg: 640x640 1 Cracks, 18.2ms\n",
            "image 233/240 /content/drive/MyDrive/Crack Segmentation using YoloV8/images/053_36.jpg: 640x640 (no detections), 18.4ms\n",
            "image 234/240 /content/drive/MyDrive/Crack Segmentation using YoloV8/images/053_38.jpg: 640x640 1 Cracks, 18.6ms\n",
            "image 235/240 /content/drive/MyDrive/Crack Segmentation using YoloV8/images/053_46.jpg: 640x640 1 Cracks, 18.5ms\n",
            "image 236/240 /content/drive/MyDrive/Crack Segmentation using YoloV8/images/053_47.jpg: 640x640 1 Cracks, 18.3ms\n",
            "image 237/240 /content/drive/MyDrive/Crack Segmentation using YoloV8/images/054_10.jpg: 640x640 2 Crackss, 18.2ms\n",
            "image 238/240 /content/drive/MyDrive/Crack Segmentation using YoloV8/images/054_11.jpg: 640x640 1 Cracks, 18.4ms\n",
            "image 239/240 /content/drive/MyDrive/Crack Segmentation using YoloV8/images/054_20.jpg: 640x640 1 Cracks, 17.8ms\n",
            "image 240/240 /content/drive/MyDrive/Crack Segmentation using YoloV8/images/054_28.jpg: 640x640 5 Crackss, 18.3ms\n",
            "Speed: 3.5ms preprocess, 22.4ms inference, 4.3ms postprocess per image at shape (1, 3, 640, 640)\n",
            "Results saved to \u001b[1mruns/segment/train33\u001b[0m\n"
          ]
        }
      ],
      "source": [
        "source = '/content/drive/MyDrive/Crack Segmentation using YoloV8/images'\n",
        "\n",
        "# Run inference on the source\n",
        "results = model(source, save=True)"
      ]
    },
    {
      "cell_type": "code",
      "execution_count": null,
      "metadata": {
        "id": "VzJE9K7DKhE9"
      },
      "outputs": [],
      "source": []
    }
  ],
  "metadata": {
    "accelerator": "GPU",
    "colab": {
      "gpuType": "T4",
      "provenance": []
    },
    "kernelspec": {
      "display_name": "Python 3",
      "name": "python3"
    },
    "language_info": {
      "name": "python",
      "version": "3.9.19"
    }
  },
  "nbformat": 4,
  "nbformat_minor": 0
}
